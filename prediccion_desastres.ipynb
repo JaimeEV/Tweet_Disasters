{
  "nbformat": 4,
  "nbformat_minor": 0,
  "metadata": {
    "colab": {
      "name": "prediccion_desastres.ipynb",
      "provenance": [],
      "collapsed_sections": [],
      "include_colab_link": true
    },
    "kernelspec": {
      "name": "python3",
      "display_name": "Python 3"
    },
    "language_info": {
      "name": "python"
    }
  },
  "cells": [
    {
      "cell_type": "markdown",
      "metadata": {
        "id": "view-in-github",
        "colab_type": "text"
      },
      "source": [
        "<a href=\"https://colab.research.google.com/github/jfhiguita/Tweet_Disasters/blob/master/prediccion_desastres.ipynb\" target=\"_parent\"><img src=\"https://colab.research.google.com/assets/colab-badge.svg\" alt=\"Open In Colab\"/></a>"
      ]
    },
    {
      "cell_type": "markdown",
      "metadata": {
        "id": "g5p1U2tm5Fpd"
      },
      "source": [
        "\n",
        "# **Take a first look at the data** <br>\n",
        "The first thing we'll need to do is load in the libraries and dataset we'll be using.\n"
      ]
    },
    {
      "cell_type": "code",
      "metadata": {
        "id": "jAshOl7j4xLO",
        "colab": {
          "base_uri": "https://localhost:8080/"
        },
        "outputId": "3e7ab986-a01d-4ed6-a13c-856f7628f584"
      },
      "source": [
        "#Install the emoji library\n",
        "!pip install emoji --upgrade\n",
        "!pip install geopandas\n",
        "# load modules we'll going to use\n",
        "import pandas as pd\n",
        "import numpy as np\n",
        "#load module to convert emoji flags to strings\n",
        "import emoji\n",
        "# Modules for plotting\n",
        "import seaborn as sns\n",
        "from matplotlib import pyplot as plt\n",
        "# Modules for text proccesing\n",
        "import re\n",
        "import string\n",
        "#Import Nominatim for transform city names\n",
        "from geopy.geocoders import Nominatim\n",
        "import geopandas as gpd\n",
        "from shapely.geometry import Point , Polygon\n",
        "import descartes"
      ],
      "execution_count": 39,
      "outputs": [
        {
          "output_type": "stream",
          "text": [
            "Requirement already up-to-date: emoji in /usr/local/lib/python3.7/dist-packages (1.2.0)\n",
            "Requirement already satisfied: geopandas in /usr/local/lib/python3.7/dist-packages (0.9.0)\n",
            "Requirement already satisfied: fiona>=1.8 in /usr/local/lib/python3.7/dist-packages (from geopandas) (1.8.20)\n",
            "Requirement already satisfied: shapely>=1.6 in /usr/local/lib/python3.7/dist-packages (from geopandas) (1.7.1)\n",
            "Requirement already satisfied: pyproj>=2.2.0 in /usr/local/lib/python3.7/dist-packages (from geopandas) (3.1.0)\n",
            "Requirement already satisfied: pandas>=0.24.0 in /usr/local/lib/python3.7/dist-packages (from geopandas) (1.1.5)\n",
            "Requirement already satisfied: certifi in /usr/local/lib/python3.7/dist-packages (from fiona>=1.8->geopandas) (2020.12.5)\n",
            "Requirement already satisfied: click>=4.0 in /usr/local/lib/python3.7/dist-packages (from fiona>=1.8->geopandas) (7.1.2)\n",
            "Requirement already satisfied: six>=1.7 in /usr/local/lib/python3.7/dist-packages (from fiona>=1.8->geopandas) (1.15.0)\n",
            "Requirement already satisfied: munch in /usr/local/lib/python3.7/dist-packages (from fiona>=1.8->geopandas) (2.5.0)\n",
            "Requirement already satisfied: attrs>=17 in /usr/local/lib/python3.7/dist-packages (from fiona>=1.8->geopandas) (21.2.0)\n",
            "Requirement already satisfied: click-plugins>=1.0 in /usr/local/lib/python3.7/dist-packages (from fiona>=1.8->geopandas) (1.1.1)\n",
            "Requirement already satisfied: setuptools in /usr/local/lib/python3.7/dist-packages (from fiona>=1.8->geopandas) (57.0.0)\n",
            "Requirement already satisfied: cligj>=0.5 in /usr/local/lib/python3.7/dist-packages (from fiona>=1.8->geopandas) (0.7.2)\n",
            "Requirement already satisfied: pytz>=2017.2 in /usr/local/lib/python3.7/dist-packages (from pandas>=0.24.0->geopandas) (2018.9)\n",
            "Requirement already satisfied: python-dateutil>=2.7.3 in /usr/local/lib/python3.7/dist-packages (from pandas>=0.24.0->geopandas) (2.8.1)\n",
            "Requirement already satisfied: numpy>=1.15.4 in /usr/local/lib/python3.7/dist-packages (from pandas>=0.24.0->geopandas) (1.19.5)\n"
          ],
          "name": "stdout"
        }
      ]
    },
    {
      "cell_type": "code",
      "metadata": {
        "id": "UF6UBxsM5GG_"
      },
      "source": [
        "# read the file\n",
        "#from google.colab import files\n",
        "#uploaded = files.upload()"
      ],
      "execution_count": 40,
      "outputs": []
    },
    {
      "cell_type": "code",
      "metadata": {
        "id": "qhet1KbqRcoE"
      },
      "source": [
        "#from google.colab import drive\n",
        "#drive.mount('/content/drive')"
      ],
      "execution_count": 41,
      "outputs": []
    },
    {
      "cell_type": "code",
      "metadata": {
        "id": "Ca3H64cv5QTr"
      },
      "source": [
        "#import io\n",
        "#df = pd.read_csv(io.BytesIO(uploaded['tweets.csv']))\n",
        "# Dataset is now stored in a Pandas Dataframe\n",
        "#df"
      ],
      "execution_count": 42,
      "outputs": []
    },
    {
      "cell_type": "code",
      "metadata": {
        "id": "NYQXA-_3TWQf",
        "colab": {
          "base_uri": "https://localhost:8080/"
        },
        "outputId": "14ddc124-eb3d-49c4-d5b6-3e1b79421670"
      },
      "source": [
        "from google.colab import drive\n",
        "drive.mount('/content/drive')"
      ],
      "execution_count": 43,
      "outputs": [
        {
          "output_type": "stream",
          "text": [
            "Drive already mounted at /content/drive; to attempt to forcibly remount, call drive.mount(\"/content/drive\", force_remount=True).\n"
          ],
          "name": "stdout"
        }
      ]
    },
    {
      "cell_type": "code",
      "metadata": {
        "id": "lYQjY11tafqc",
        "colab": {
          "base_uri": "https://localhost:8080/"
        },
        "outputId": "293d31dc-31dc-4d45-e005-ee0fb5efb4e2"
      },
      "source": [
        "# si lo tienes en tu Drive (no en compartido)\n",
        "!ls '/content/drive/My Drive/Predicción de desastres con tweets'"
      ],
      "execution_count": 44,
      "outputs": [
        {
          "output_type": "stream",
          "text": [
            "df_transform.csv  prediccion_desastres.ipynb  tweets.csv  WordCloud.ipynb\n"
          ],
          "name": "stdout"
        }
      ]
    },
    {
      "cell_type": "code",
      "metadata": {
        "id": "4LZEURn5bKoI",
        "colab": {
          "base_uri": "https://localhost:8080/"
        },
        "outputId": "16810032-fd8e-4c2c-d334-57e1110fdaef"
      },
      "source": [
        "# aca nos dirigimos al path,  entonces ya funciona sin problema la siguiente linea\n",
        "%cd '/content/drive/My Drive/Predicción de desastres con tweets/'"
      ],
      "execution_count": 45,
      "outputs": [
        {
          "output_type": "stream",
          "text": [
            "/content/drive/.shortcut-targets-by-id/1OSeTsfR8kLJ8zmxtsBpiHujRO8uPu0J4/Predicción de desastres con tweets\n"
          ],
          "name": "stdout"
        }
      ]
    },
    {
      "cell_type": "code",
      "metadata": {
        "colab": {
          "base_uri": "https://localhost:8080/",
          "height": 414
        },
        "id": "paiNX5LoNpNQ",
        "outputId": "a7945150-fdf9-45c0-d993-50076c5a406e"
      },
      "source": [
        "# Load the Dataset in the data folder and show the sample\n",
        "df = pd.read_csv('tweets.csv')\n",
        "df"
      ],
      "execution_count": 46,
      "outputs": [
        {
          "output_type": "execute_result",
          "data": {
            "text/html": [
              "<div>\n",
              "<style scoped>\n",
              "    .dataframe tbody tr th:only-of-type {\n",
              "        vertical-align: middle;\n",
              "    }\n",
              "\n",
              "    .dataframe tbody tr th {\n",
              "        vertical-align: top;\n",
              "    }\n",
              "\n",
              "    .dataframe thead th {\n",
              "        text-align: right;\n",
              "    }\n",
              "</style>\n",
              "<table border=\"1\" class=\"dataframe\">\n",
              "  <thead>\n",
              "    <tr style=\"text-align: right;\">\n",
              "      <th></th>\n",
              "      <th>id</th>\n",
              "      <th>keyword</th>\n",
              "      <th>location</th>\n",
              "      <th>text</th>\n",
              "      <th>target</th>\n",
              "    </tr>\n",
              "  </thead>\n",
              "  <tbody>\n",
              "    <tr>\n",
              "      <th>0</th>\n",
              "      <td>0</td>\n",
              "      <td>ablaze</td>\n",
              "      <td>NaN</td>\n",
              "      <td>Communal violence in Bhainsa, Telangana. \"Ston...</td>\n",
              "      <td>1</td>\n",
              "    </tr>\n",
              "    <tr>\n",
              "      <th>1</th>\n",
              "      <td>1</td>\n",
              "      <td>ablaze</td>\n",
              "      <td>NaN</td>\n",
              "      <td>Telangana: Section 144 has been imposed in Bha...</td>\n",
              "      <td>1</td>\n",
              "    </tr>\n",
              "    <tr>\n",
              "      <th>2</th>\n",
              "      <td>2</td>\n",
              "      <td>ablaze</td>\n",
              "      <td>New York City</td>\n",
              "      <td>Arsonist sets cars ablaze at dealership https:...</td>\n",
              "      <td>1</td>\n",
              "    </tr>\n",
              "    <tr>\n",
              "      <th>3</th>\n",
              "      <td>3</td>\n",
              "      <td>ablaze</td>\n",
              "      <td>Morgantown, WV</td>\n",
              "      <td>Arsonist sets cars ablaze at dealership https:...</td>\n",
              "      <td>1</td>\n",
              "    </tr>\n",
              "    <tr>\n",
              "      <th>4</th>\n",
              "      <td>4</td>\n",
              "      <td>ablaze</td>\n",
              "      <td>NaN</td>\n",
              "      <td>\"Lord Jesus, your love brings freedom and pard...</td>\n",
              "      <td>0</td>\n",
              "    </tr>\n",
              "    <tr>\n",
              "      <th>...</th>\n",
              "      <td>...</td>\n",
              "      <td>...</td>\n",
              "      <td>...</td>\n",
              "      <td>...</td>\n",
              "      <td>...</td>\n",
              "    </tr>\n",
              "    <tr>\n",
              "      <th>11365</th>\n",
              "      <td>11365</td>\n",
              "      <td>wrecked</td>\n",
              "      <td>Blue State in a red sea</td>\n",
              "      <td>Media should have warned us well in advance. T...</td>\n",
              "      <td>0</td>\n",
              "    </tr>\n",
              "    <tr>\n",
              "      <th>11366</th>\n",
              "      <td>11366</td>\n",
              "      <td>wrecked</td>\n",
              "      <td>arohaonces</td>\n",
              "      <td>i feel directly attacked 💀 i consider moonbin ...</td>\n",
              "      <td>0</td>\n",
              "    </tr>\n",
              "    <tr>\n",
              "      <th>11367</th>\n",
              "      <td>11367</td>\n",
              "      <td>wrecked</td>\n",
              "      <td>🇵🇭</td>\n",
              "      <td>i feel directly attacked 💀 i consider moonbin ...</td>\n",
              "      <td>0</td>\n",
              "    </tr>\n",
              "    <tr>\n",
              "      <th>11368</th>\n",
              "      <td>11368</td>\n",
              "      <td>wrecked</td>\n",
              "      <td>auroraborealis</td>\n",
              "      <td>ok who remember \"outcast\" nd the \"dora\" au?? T...</td>\n",
              "      <td>0</td>\n",
              "    </tr>\n",
              "    <tr>\n",
              "      <th>11369</th>\n",
              "      <td>11369</td>\n",
              "      <td>wrecked</td>\n",
              "      <td>NaN</td>\n",
              "      <td>Jake Corway wrecked while running 14th at IRP.</td>\n",
              "      <td>1</td>\n",
              "    </tr>\n",
              "  </tbody>\n",
              "</table>\n",
              "<p>11370 rows × 5 columns</p>\n",
              "</div>"
            ],
            "text/plain": [
              "          id  ... target\n",
              "0          0  ...      1\n",
              "1          1  ...      1\n",
              "2          2  ...      1\n",
              "3          3  ...      1\n",
              "4          4  ...      0\n",
              "...      ...  ...    ...\n",
              "11365  11365  ...      0\n",
              "11366  11366  ...      0\n",
              "11367  11367  ...      0\n",
              "11368  11368  ...      0\n",
              "11369  11369  ...      1\n",
              "\n",
              "[11370 rows x 5 columns]"
            ]
          },
          "metadata": {
            "tags": []
          },
          "execution_count": 46
        }
      ]
    },
    {
      "cell_type": "code",
      "metadata": {
        "colab": {
          "base_uri": "https://localhost:8080/",
          "height": 445
        },
        "id": "sjYFSM3hijYz",
        "outputId": "93ba98bd-7616-4bee-daa8-0f42a3652890"
      },
      "source": [
        "# set index with id\n",
        "df = df.set_index('id')\n",
        "df"
      ],
      "execution_count": 47,
      "outputs": [
        {
          "output_type": "execute_result",
          "data": {
            "text/html": [
              "<div>\n",
              "<style scoped>\n",
              "    .dataframe tbody tr th:only-of-type {\n",
              "        vertical-align: middle;\n",
              "    }\n",
              "\n",
              "    .dataframe tbody tr th {\n",
              "        vertical-align: top;\n",
              "    }\n",
              "\n",
              "    .dataframe thead th {\n",
              "        text-align: right;\n",
              "    }\n",
              "</style>\n",
              "<table border=\"1\" class=\"dataframe\">\n",
              "  <thead>\n",
              "    <tr style=\"text-align: right;\">\n",
              "      <th></th>\n",
              "      <th>keyword</th>\n",
              "      <th>location</th>\n",
              "      <th>text</th>\n",
              "      <th>target</th>\n",
              "    </tr>\n",
              "    <tr>\n",
              "      <th>id</th>\n",
              "      <th></th>\n",
              "      <th></th>\n",
              "      <th></th>\n",
              "      <th></th>\n",
              "    </tr>\n",
              "  </thead>\n",
              "  <tbody>\n",
              "    <tr>\n",
              "      <th>0</th>\n",
              "      <td>ablaze</td>\n",
              "      <td>NaN</td>\n",
              "      <td>Communal violence in Bhainsa, Telangana. \"Ston...</td>\n",
              "      <td>1</td>\n",
              "    </tr>\n",
              "    <tr>\n",
              "      <th>1</th>\n",
              "      <td>ablaze</td>\n",
              "      <td>NaN</td>\n",
              "      <td>Telangana: Section 144 has been imposed in Bha...</td>\n",
              "      <td>1</td>\n",
              "    </tr>\n",
              "    <tr>\n",
              "      <th>2</th>\n",
              "      <td>ablaze</td>\n",
              "      <td>New York City</td>\n",
              "      <td>Arsonist sets cars ablaze at dealership https:...</td>\n",
              "      <td>1</td>\n",
              "    </tr>\n",
              "    <tr>\n",
              "      <th>3</th>\n",
              "      <td>ablaze</td>\n",
              "      <td>Morgantown, WV</td>\n",
              "      <td>Arsonist sets cars ablaze at dealership https:...</td>\n",
              "      <td>1</td>\n",
              "    </tr>\n",
              "    <tr>\n",
              "      <th>4</th>\n",
              "      <td>ablaze</td>\n",
              "      <td>NaN</td>\n",
              "      <td>\"Lord Jesus, your love brings freedom and pard...</td>\n",
              "      <td>0</td>\n",
              "    </tr>\n",
              "    <tr>\n",
              "      <th>...</th>\n",
              "      <td>...</td>\n",
              "      <td>...</td>\n",
              "      <td>...</td>\n",
              "      <td>...</td>\n",
              "    </tr>\n",
              "    <tr>\n",
              "      <th>11365</th>\n",
              "      <td>wrecked</td>\n",
              "      <td>Blue State in a red sea</td>\n",
              "      <td>Media should have warned us well in advance. T...</td>\n",
              "      <td>0</td>\n",
              "    </tr>\n",
              "    <tr>\n",
              "      <th>11366</th>\n",
              "      <td>wrecked</td>\n",
              "      <td>arohaonces</td>\n",
              "      <td>i feel directly attacked 💀 i consider moonbin ...</td>\n",
              "      <td>0</td>\n",
              "    </tr>\n",
              "    <tr>\n",
              "      <th>11367</th>\n",
              "      <td>wrecked</td>\n",
              "      <td>🇵🇭</td>\n",
              "      <td>i feel directly attacked 💀 i consider moonbin ...</td>\n",
              "      <td>0</td>\n",
              "    </tr>\n",
              "    <tr>\n",
              "      <th>11368</th>\n",
              "      <td>wrecked</td>\n",
              "      <td>auroraborealis</td>\n",
              "      <td>ok who remember \"outcast\" nd the \"dora\" au?? T...</td>\n",
              "      <td>0</td>\n",
              "    </tr>\n",
              "    <tr>\n",
              "      <th>11369</th>\n",
              "      <td>wrecked</td>\n",
              "      <td>NaN</td>\n",
              "      <td>Jake Corway wrecked while running 14th at IRP.</td>\n",
              "      <td>1</td>\n",
              "    </tr>\n",
              "  </tbody>\n",
              "</table>\n",
              "<p>11370 rows × 4 columns</p>\n",
              "</div>"
            ],
            "text/plain": [
              "       keyword  ... target\n",
              "id              ...       \n",
              "0       ablaze  ...      1\n",
              "1       ablaze  ...      1\n",
              "2       ablaze  ...      1\n",
              "3       ablaze  ...      1\n",
              "4       ablaze  ...      0\n",
              "...        ...  ...    ...\n",
              "11365  wrecked  ...      0\n",
              "11366  wrecked  ...      0\n",
              "11367  wrecked  ...      0\n",
              "11368  wrecked  ...      0\n",
              "11369  wrecked  ...      1\n",
              "\n",
              "[11370 rows x 4 columns]"
            ]
          },
          "metadata": {
            "tags": []
          },
          "execution_count": 47
        }
      ]
    },
    {
      "cell_type": "code",
      "metadata": {
        "colab": {
          "base_uri": "https://localhost:8080/",
          "height": 445
        },
        "id": "_0AU4C7o11jf",
        "outputId": "954ce190-2926-41df-9d88-ef5215af66e0"
      },
      "source": [
        "# Applying a first round of text cleaning techniques\n",
        "\n",
        "def clean_text(text):\n",
        "    '''Make text lowercase, remove text in square brackets,remove links,remove punctuation\n",
        "    and remove words containing numbers.'''\n",
        "    text = text.lower()\n",
        "    text = re.sub('\\[.*?\\]', '', text)\n",
        "    text = re.sub('https?://\\S+|www\\.\\S+', '', text)\n",
        "    text = re.sub('<.*?>+', '', text)\n",
        "    text = re.sub('[%s]' % re.escape(string.punctuation), '', text)\n",
        "    text = re.sub('\\n', '', text)\n",
        "    text = re.sub('\\w*\\d\\w*', '', text)\n",
        "    return text\n",
        "\n",
        "# Applying the cleaning function\n",
        "df['text'] = df['text'].apply(lambda x: clean_text(x))\n",
        "\n",
        "def deEmojify(text):\n",
        "    regrex_pattern = re.compile(pattern = \"[\"\n",
        "        u\"\\U0001F600-\\U0001F64F\"  # emoticons\n",
        "        u\"\\U0001F300-\\U0001F5FF\"  # symbols & pictographs\n",
        "        u\"\\U0001F680-\\U0001F6FF\"  # transport & map symbols\n",
        "        u\"\\U0001F1E0-\\U0001F1FF\"  # flags (iOS)\n",
        "                           \"]+\", flags = re.UNICODE)\n",
        "    return regrex_pattern.sub(r'',text)\n",
        "\n",
        "df['text'] = df['text'].apply(lambda x: deEmojify(x))\n",
        "# I'm going to comment on this line that I think is the one who return an error\n",
        "#df.convert_dtypes['location'] = df['location'].apply(lambda x: deEmojify(x))\n",
        "\n",
        "# Let's take a look at the updated text\n",
        "df"
      ],
      "execution_count": 48,
      "outputs": [
        {
          "output_type": "execute_result",
          "data": {
            "text/html": [
              "<div>\n",
              "<style scoped>\n",
              "    .dataframe tbody tr th:only-of-type {\n",
              "        vertical-align: middle;\n",
              "    }\n",
              "\n",
              "    .dataframe tbody tr th {\n",
              "        vertical-align: top;\n",
              "    }\n",
              "\n",
              "    .dataframe thead th {\n",
              "        text-align: right;\n",
              "    }\n",
              "</style>\n",
              "<table border=\"1\" class=\"dataframe\">\n",
              "  <thead>\n",
              "    <tr style=\"text-align: right;\">\n",
              "      <th></th>\n",
              "      <th>keyword</th>\n",
              "      <th>location</th>\n",
              "      <th>text</th>\n",
              "      <th>target</th>\n",
              "    </tr>\n",
              "    <tr>\n",
              "      <th>id</th>\n",
              "      <th></th>\n",
              "      <th></th>\n",
              "      <th></th>\n",
              "      <th></th>\n",
              "    </tr>\n",
              "  </thead>\n",
              "  <tbody>\n",
              "    <tr>\n",
              "      <th>0</th>\n",
              "      <td>ablaze</td>\n",
              "      <td>NaN</td>\n",
              "      <td>communal violence in bhainsa telangana stones ...</td>\n",
              "      <td>1</td>\n",
              "    </tr>\n",
              "    <tr>\n",
              "      <th>1</th>\n",
              "      <td>ablaze</td>\n",
              "      <td>NaN</td>\n",
              "      <td>telangana section  has been imposed in bhainsa...</td>\n",
              "      <td>1</td>\n",
              "    </tr>\n",
              "    <tr>\n",
              "      <th>2</th>\n",
              "      <td>ablaze</td>\n",
              "      <td>New York City</td>\n",
              "      <td>arsonist sets cars ablaze at dealership</td>\n",
              "      <td>1</td>\n",
              "    </tr>\n",
              "    <tr>\n",
              "      <th>3</th>\n",
              "      <td>ablaze</td>\n",
              "      <td>Morgantown, WV</td>\n",
              "      <td>arsonist sets cars ablaze at dealership</td>\n",
              "      <td>1</td>\n",
              "    </tr>\n",
              "    <tr>\n",
              "      <th>4</th>\n",
              "      <td>ablaze</td>\n",
              "      <td>NaN</td>\n",
              "      <td>lord jesus your love brings freedom and pardon...</td>\n",
              "      <td>0</td>\n",
              "    </tr>\n",
              "    <tr>\n",
              "      <th>...</th>\n",
              "      <td>...</td>\n",
              "      <td>...</td>\n",
              "      <td>...</td>\n",
              "      <td>...</td>\n",
              "    </tr>\n",
              "    <tr>\n",
              "      <th>11365</th>\n",
              "      <td>wrecked</td>\n",
              "      <td>Blue State in a red sea</td>\n",
              "      <td>media should have warned us well in advance th...</td>\n",
              "      <td>0</td>\n",
              "    </tr>\n",
              "    <tr>\n",
              "      <th>11366</th>\n",
              "      <td>wrecked</td>\n",
              "      <td>arohaonces</td>\n",
              "      <td>i feel directly attacked  i consider moonbin a...</td>\n",
              "      <td>0</td>\n",
              "    </tr>\n",
              "    <tr>\n",
              "      <th>11367</th>\n",
              "      <td>wrecked</td>\n",
              "      <td>🇵🇭</td>\n",
              "      <td>i feel directly attacked  i consider moonbin a...</td>\n",
              "      <td>0</td>\n",
              "    </tr>\n",
              "    <tr>\n",
              "      <th>11368</th>\n",
              "      <td>wrecked</td>\n",
              "      <td>auroraborealis</td>\n",
              "      <td>ok who remember outcast nd the dora au those a...</td>\n",
              "      <td>0</td>\n",
              "    </tr>\n",
              "    <tr>\n",
              "      <th>11369</th>\n",
              "      <td>wrecked</td>\n",
              "      <td>NaN</td>\n",
              "      <td>jake corway wrecked while running  at irp</td>\n",
              "      <td>1</td>\n",
              "    </tr>\n",
              "  </tbody>\n",
              "</table>\n",
              "<p>11370 rows × 4 columns</p>\n",
              "</div>"
            ],
            "text/plain": [
              "       keyword  ... target\n",
              "id              ...       \n",
              "0       ablaze  ...      1\n",
              "1       ablaze  ...      1\n",
              "2       ablaze  ...      1\n",
              "3       ablaze  ...      1\n",
              "4       ablaze  ...      0\n",
              "...        ...  ...    ...\n",
              "11365  wrecked  ...      0\n",
              "11366  wrecked  ...      0\n",
              "11367  wrecked  ...      0\n",
              "11368  wrecked  ...      0\n",
              "11369  wrecked  ...      1\n",
              "\n",
              "[11370 rows x 4 columns]"
            ]
          },
          "metadata": {
            "tags": []
          },
          "execution_count": 48
        }
      ]
    },
    {
      "cell_type": "markdown",
      "metadata": {
        "id": "FxTFCoeODUJJ"
      },
      "source": [
        "# Clean the 'kyword' column"
      ]
    },
    {
      "cell_type": "code",
      "metadata": {
        "id": "5xOGiH01DcW6",
        "colab": {
          "base_uri": "https://localhost:8080/"
        },
        "outputId": "4441437e-1fa1-4da4-ab37-55844d321479"
      },
      "source": [
        "#First we're going to check this column\n",
        "df.keyword.describe()"
      ],
      "execution_count": 49,
      "outputs": [
        {
          "output_type": "execute_result",
          "data": {
            "text/plain": [
              "count            11370\n",
              "unique             219\n",
              "top       thunderstorm\n",
              "freq                93\n",
              "Name: keyword, dtype: object"
            ]
          },
          "metadata": {
            "tags": []
          },
          "execution_count": 49
        }
      ]
    },
    {
      "cell_type": "markdown",
      "metadata": {
        "id": "pKRbcARoDrU9"
      },
      "source": [
        "As we can see there are 219 unique values in this column, let's see what are those"
      ]
    },
    {
      "cell_type": "code",
      "metadata": {
        "id": "pGbJI-SvDl2g",
        "colab": {
          "base_uri": "https://localhost:8080/"
        },
        "outputId": "a0f610f9-cedd-4372-e67d-a29cc0c286c3"
      },
      "source": [
        "# get all the unique values in the 'keyword' column\n",
        "keywords = df['keyword'].unique()\n",
        "\n",
        "# sort them alphabetically and then take a closer look\n",
        "keywords.sort()\n",
        "keywords"
      ],
      "execution_count": 50,
      "outputs": [
        {
          "output_type": "execute_result",
          "data": {
            "text/plain": [
              "array(['ablaze', 'accident', 'aftershock', 'airplane%20accident',\n",
              "       'ambulance', 'annihilated', 'annihilation', 'apocalypse',\n",
              "       'armageddon', 'army', 'arson', 'arsonist', 'attack', 'attacked',\n",
              "       'avalanche', 'battle', 'bioterror', 'bioterrorism', 'blaze',\n",
              "       'blazing', 'bleeding', 'blew%20up', 'blight', 'blizzard', 'blood',\n",
              "       'bloody', 'blown%20up', 'body%20bag', 'body%20bagging',\n",
              "       'body%20bags', 'bomb', 'bombed', 'bombing', 'bridge%20collapse',\n",
              "       'buildings%20burning', 'buildings%20on%20fire', 'burned',\n",
              "       'burning', 'bush%20fires', 'casualties', 'casualty', 'catastrophe',\n",
              "       'catastrophic', 'chemical%20emergency', 'cliff%20fall', 'collapse',\n",
              "       'collapsed', 'collide', 'collided', 'collision', 'crash',\n",
              "       'crashed', 'crush', 'crushed', 'curfew', 'cyclone', 'damage',\n",
              "       'danger', 'dead', 'death', 'deaths', 'debris', 'deluge', 'deluged',\n",
              "       'demolish', 'demolished', 'demolition', 'derail', 'derailed',\n",
              "       'derailment', 'desolate', 'desolation', 'destroy', 'destroyed',\n",
              "       'destruction', 'detonate', 'devastated', 'devastation', 'disaster',\n",
              "       'displaced', 'drought', 'drown', 'drowned', 'drowning',\n",
              "       'dust%20storm', 'earthquake', 'electrocute', 'electrocuted',\n",
              "       'emergency', 'emergency%20plan', 'emergency%20services',\n",
              "       'engulfed', 'epicentre', 'evacuate', 'evacuated', 'evacuation',\n",
              "       'explode', 'exploded', 'explosion', 'eyewitness', 'famine',\n",
              "       'fatal', 'fatalities', 'fatality', 'fear', 'fire', 'fire%20truck',\n",
              "       'first%20responders', 'flames', 'flattened', 'flood', 'flooding',\n",
              "       'floods', 'forest%20fire', 'forest%20fires', 'hail', 'hailstorm',\n",
              "       'harm', 'hazard', 'hazardous', 'heat%20wave', 'hellfire', 'hijack',\n",
              "       'hijacker', 'hijacking', 'hostage', 'hostages', 'hurricane',\n",
              "       'injured', 'injuries', 'injury', 'inundated', 'inundation',\n",
              "       'landslide', 'lava', 'lightning', 'loud%20bang', 'mass%20murder',\n",
              "       'mass%20murderer', 'massacre', 'mayhem', 'meltdown', 'military',\n",
              "       'mudslide', 'natural%20disaster', 'nuclear%20disaster',\n",
              "       'nuclear%20reactor', 'obliterate', 'obliterated', 'obliteration',\n",
              "       'oil%20spill', 'outbreak', 'pandemonium', 'panic', 'panicking',\n",
              "       'police', 'quarantine', 'quarantined', 'radiation%20emergency',\n",
              "       'rainstorm', 'razed', 'refugees', 'rescue', 'rescued', 'rescuers',\n",
              "       'riot', 'rioting', 'rubble', 'ruin', 'sandstorm', 'screamed',\n",
              "       'screaming', 'screams', 'seismic', 'sinkhole', 'sinking', 'siren',\n",
              "       'sirens', 'smoke', 'snowstorm', 'storm', 'stretcher',\n",
              "       'structural%20failure', 'suicide%20bomb', 'suicide%20bomber',\n",
              "       'suicide%20bombing', 'sunk', 'survive', 'survived', 'survivors',\n",
              "       'terrorism', 'terrorist', 'threat', 'thunder', 'thunderstorm',\n",
              "       'tornado', 'tragedy', 'trapped', 'trauma', 'traumatised',\n",
              "       'trouble', 'tsunami', 'twister', 'typhoon', 'upheaval',\n",
              "       'violent%20storm', 'volcano', 'war%20zone', 'weapon', 'weapons',\n",
              "       'whirlwind', 'wild%20fires', 'wildfire', 'windstorm', 'wounded',\n",
              "       'wounds', 'wreck', 'wreckage', 'wrecked'], dtype=object)"
            ]
          },
          "metadata": {
            "tags": []
          },
          "execution_count": 50
        }
      ]
    },
    {
      "cell_type": "markdown",
      "metadata": {
        "id": "uIp0R57-EVb9"
      },
      "source": [
        "As we can see the only characters that are unusual are \"%20\" ones, so we can replace them for an empty space."
      ]
    },
    {
      "cell_type": "code",
      "metadata": {
        "id": "-RbbFl6BEUzf",
        "colab": {
          "base_uri": "https://localhost:8080/"
        },
        "outputId": "baf1aec2-62e1-4fbe-ae71-8e9b6e05ba30"
      },
      "source": [
        "#Remove the \"%20\" from the registers in the column 'keyword'\n",
        "df['keyword'] = df['keyword'].apply(lambda x: x.replace(\"%20\",\" \"))\n",
        "\n",
        "#Change the dtype of the column from object to str\n",
        "df.keyword = df.keyword.astype(str)\n",
        "\n",
        "# get all the unique values in the 'keyword' column\n",
        "keywords = df['keyword'].unique()\n",
        "\n",
        "# sort them alphabetically and then take a closer look\n",
        "keywords.sort()\n",
        "keywords"
      ],
      "execution_count": 51,
      "outputs": [
        {
          "output_type": "execute_result",
          "data": {
            "text/plain": [
              "array(['ablaze', 'accident', 'aftershock', 'airplane accident',\n",
              "       'ambulance', 'annihilated', 'annihilation', 'apocalypse',\n",
              "       'armageddon', 'army', 'arson', 'arsonist', 'attack', 'attacked',\n",
              "       'avalanche', 'battle', 'bioterror', 'bioterrorism', 'blaze',\n",
              "       'blazing', 'bleeding', 'blew up', 'blight', 'blizzard', 'blood',\n",
              "       'bloody', 'blown up', 'body bag', 'body bagging', 'body bags',\n",
              "       'bomb', 'bombed', 'bombing', 'bridge collapse',\n",
              "       'buildings burning', 'buildings on fire', 'burned', 'burning',\n",
              "       'bush fires', 'casualties', 'casualty', 'catastrophe',\n",
              "       'catastrophic', 'chemical emergency', 'cliff fall', 'collapse',\n",
              "       'collapsed', 'collide', 'collided', 'collision', 'crash',\n",
              "       'crashed', 'crush', 'crushed', 'curfew', 'cyclone', 'damage',\n",
              "       'danger', 'dead', 'death', 'deaths', 'debris', 'deluge', 'deluged',\n",
              "       'demolish', 'demolished', 'demolition', 'derail', 'derailed',\n",
              "       'derailment', 'desolate', 'desolation', 'destroy', 'destroyed',\n",
              "       'destruction', 'detonate', 'devastated', 'devastation', 'disaster',\n",
              "       'displaced', 'drought', 'drown', 'drowned', 'drowning',\n",
              "       'dust storm', 'earthquake', 'electrocute', 'electrocuted',\n",
              "       'emergency', 'emergency plan', 'emergency services', 'engulfed',\n",
              "       'epicentre', 'evacuate', 'evacuated', 'evacuation', 'explode',\n",
              "       'exploded', 'explosion', 'eyewitness', 'famine', 'fatal',\n",
              "       'fatalities', 'fatality', 'fear', 'fire', 'fire truck',\n",
              "       'first responders', 'flames', 'flattened', 'flood', 'flooding',\n",
              "       'floods', 'forest fire', 'forest fires', 'hail', 'hailstorm',\n",
              "       'harm', 'hazard', 'hazardous', 'heat wave', 'hellfire', 'hijack',\n",
              "       'hijacker', 'hijacking', 'hostage', 'hostages', 'hurricane',\n",
              "       'injured', 'injuries', 'injury', 'inundated', 'inundation',\n",
              "       'landslide', 'lava', 'lightning', 'loud bang', 'mass murder',\n",
              "       'mass murderer', 'massacre', 'mayhem', 'meltdown', 'military',\n",
              "       'mudslide', 'natural disaster', 'nuclear disaster',\n",
              "       'nuclear reactor', 'obliterate', 'obliterated', 'obliteration',\n",
              "       'oil spill', 'outbreak', 'pandemonium', 'panic', 'panicking',\n",
              "       'police', 'quarantine', 'quarantined', 'radiation emergency',\n",
              "       'rainstorm', 'razed', 'refugees', 'rescue', 'rescued', 'rescuers',\n",
              "       'riot', 'rioting', 'rubble', 'ruin', 'sandstorm', 'screamed',\n",
              "       'screaming', 'screams', 'seismic', 'sinkhole', 'sinking', 'siren',\n",
              "       'sirens', 'smoke', 'snowstorm', 'storm', 'stretcher',\n",
              "       'structural failure', 'suicide bomb', 'suicide bomber',\n",
              "       'suicide bombing', 'sunk', 'survive', 'survived', 'survivors',\n",
              "       'terrorism', 'terrorist', 'threat', 'thunder', 'thunderstorm',\n",
              "       'tornado', 'tragedy', 'trapped', 'trauma', 'traumatised',\n",
              "       'trouble', 'tsunami', 'twister', 'typhoon', 'upheaval',\n",
              "       'violent storm', 'volcano', 'war zone', 'weapon', 'weapons',\n",
              "       'whirlwind', 'wild fires', 'wildfire', 'windstorm', 'wounded',\n",
              "       'wounds', 'wreck', 'wreckage', 'wrecked'], dtype=object)"
            ]
          },
          "metadata": {
            "tags": []
          },
          "execution_count": 51
        }
      ]
    },
    {
      "cell_type": "markdown",
      "metadata": {
        "id": "80RiI-aCEwmW"
      },
      "source": [
        "As we can see, the unique values still remain 219, but we successfully removed all the '%20' characters from our registers in the 'keyword' column."
      ]
    },
    {
      "cell_type": "markdown",
      "metadata": {
        "id": "I69rJD6L4HKj"
      },
      "source": [
        "# Transform the emoji flag to a string in the 'location' column"
      ]
    },
    {
      "cell_type": "code",
      "metadata": {
        "colab": {
          "base_uri": "https://localhost:8080/",
          "height": 445
        },
        "id": "RM8kvKBe4Gbd",
        "outputId": "9f9060dd-a151-4f6a-ee4d-35b7f4db4732"
      },
      "source": [
        "#Apply quotation marks to all registers in the \"location\" column (this will allowed us to treat the emoji flags later with the\n",
        "# emoji library).\n",
        "df.location = df.location.astype(str)\n",
        "df.update(df[['location']].applymap('\\'{}\\''.format))\n",
        "\n",
        "# Let's take a look at the updated text\n",
        "df"
      ],
      "execution_count": 52,
      "outputs": [
        {
          "output_type": "execute_result",
          "data": {
            "text/html": [
              "<div>\n",
              "<style scoped>\n",
              "    .dataframe tbody tr th:only-of-type {\n",
              "        vertical-align: middle;\n",
              "    }\n",
              "\n",
              "    .dataframe tbody tr th {\n",
              "        vertical-align: top;\n",
              "    }\n",
              "\n",
              "    .dataframe thead th {\n",
              "        text-align: right;\n",
              "    }\n",
              "</style>\n",
              "<table border=\"1\" class=\"dataframe\">\n",
              "  <thead>\n",
              "    <tr style=\"text-align: right;\">\n",
              "      <th></th>\n",
              "      <th>keyword</th>\n",
              "      <th>location</th>\n",
              "      <th>text</th>\n",
              "      <th>target</th>\n",
              "    </tr>\n",
              "    <tr>\n",
              "      <th>id</th>\n",
              "      <th></th>\n",
              "      <th></th>\n",
              "      <th></th>\n",
              "      <th></th>\n",
              "    </tr>\n",
              "  </thead>\n",
              "  <tbody>\n",
              "    <tr>\n",
              "      <th>0</th>\n",
              "      <td>ablaze</td>\n",
              "      <td>'nan'</td>\n",
              "      <td>communal violence in bhainsa telangana stones ...</td>\n",
              "      <td>1</td>\n",
              "    </tr>\n",
              "    <tr>\n",
              "      <th>1</th>\n",
              "      <td>ablaze</td>\n",
              "      <td>'nan'</td>\n",
              "      <td>telangana section  has been imposed in bhainsa...</td>\n",
              "      <td>1</td>\n",
              "    </tr>\n",
              "    <tr>\n",
              "      <th>2</th>\n",
              "      <td>ablaze</td>\n",
              "      <td>'New York City'</td>\n",
              "      <td>arsonist sets cars ablaze at dealership</td>\n",
              "      <td>1</td>\n",
              "    </tr>\n",
              "    <tr>\n",
              "      <th>3</th>\n",
              "      <td>ablaze</td>\n",
              "      <td>'Morgantown, WV'</td>\n",
              "      <td>arsonist sets cars ablaze at dealership</td>\n",
              "      <td>1</td>\n",
              "    </tr>\n",
              "    <tr>\n",
              "      <th>4</th>\n",
              "      <td>ablaze</td>\n",
              "      <td>'nan'</td>\n",
              "      <td>lord jesus your love brings freedom and pardon...</td>\n",
              "      <td>0</td>\n",
              "    </tr>\n",
              "    <tr>\n",
              "      <th>...</th>\n",
              "      <td>...</td>\n",
              "      <td>...</td>\n",
              "      <td>...</td>\n",
              "      <td>...</td>\n",
              "    </tr>\n",
              "    <tr>\n",
              "      <th>11365</th>\n",
              "      <td>wrecked</td>\n",
              "      <td>'Blue State in a red sea'</td>\n",
              "      <td>media should have warned us well in advance th...</td>\n",
              "      <td>0</td>\n",
              "    </tr>\n",
              "    <tr>\n",
              "      <th>11366</th>\n",
              "      <td>wrecked</td>\n",
              "      <td>'arohaonces'</td>\n",
              "      <td>i feel directly attacked  i consider moonbin a...</td>\n",
              "      <td>0</td>\n",
              "    </tr>\n",
              "    <tr>\n",
              "      <th>11367</th>\n",
              "      <td>wrecked</td>\n",
              "      <td>'🇵🇭'</td>\n",
              "      <td>i feel directly attacked  i consider moonbin a...</td>\n",
              "      <td>0</td>\n",
              "    </tr>\n",
              "    <tr>\n",
              "      <th>11368</th>\n",
              "      <td>wrecked</td>\n",
              "      <td>'auroraborealis'</td>\n",
              "      <td>ok who remember outcast nd the dora au those a...</td>\n",
              "      <td>0</td>\n",
              "    </tr>\n",
              "    <tr>\n",
              "      <th>11369</th>\n",
              "      <td>wrecked</td>\n",
              "      <td>'nan'</td>\n",
              "      <td>jake corway wrecked while running  at irp</td>\n",
              "      <td>1</td>\n",
              "    </tr>\n",
              "  </tbody>\n",
              "</table>\n",
              "<p>11370 rows × 4 columns</p>\n",
              "</div>"
            ],
            "text/plain": [
              "       keyword  ... target\n",
              "id              ...       \n",
              "0       ablaze  ...      1\n",
              "1       ablaze  ...      1\n",
              "2       ablaze  ...      1\n",
              "3       ablaze  ...      1\n",
              "4       ablaze  ...      0\n",
              "...        ...  ...    ...\n",
              "11365  wrecked  ...      0\n",
              "11366  wrecked  ...      0\n",
              "11367  wrecked  ...      0\n",
              "11368  wrecked  ...      0\n",
              "11369  wrecked  ...      1\n",
              "\n",
              "[11370 rows x 4 columns]"
            ]
          },
          "metadata": {
            "tags": []
          },
          "execution_count": 52
        }
      ]
    },
    {
      "cell_type": "code",
      "metadata": {
        "colab": {
          "base_uri": "https://localhost:8080/",
          "height": 445
        },
        "id": "x1BZrqc_41cb",
        "outputId": "de8475a6-7e05-4ce4-af92-71c4b4476109"
      },
      "source": [
        "#Transform the emoji flags in the location column \n",
        "def emojiflag_to_text(flag):\n",
        "    '''Convert the emoji flag to a string with their name. the emoji flags are two unicode letters that composes \n",
        "    for example 🇲🇽 -> MX, so we know that the lenght of an emoji flag is 2, as we put it in a simple quotation marks, \n",
        "    we can assume that an emoji flag has lenght equal to 4'''\n",
        "    if len(flag) == 4:\n",
        "      return emoji.demojize(flag)\n",
        "    else:\n",
        "      return flag\n",
        "     \n",
        "\n",
        "\n",
        "# Applying the transform function\n",
        "df['location'] = df['location'].apply(lambda x: emojiflag_to_text(x))\n",
        "\n",
        "# Let's take a look at the updated text\n",
        "df"
      ],
      "execution_count": 53,
      "outputs": [
        {
          "output_type": "execute_result",
          "data": {
            "text/html": [
              "<div>\n",
              "<style scoped>\n",
              "    .dataframe tbody tr th:only-of-type {\n",
              "        vertical-align: middle;\n",
              "    }\n",
              "\n",
              "    .dataframe tbody tr th {\n",
              "        vertical-align: top;\n",
              "    }\n",
              "\n",
              "    .dataframe thead th {\n",
              "        text-align: right;\n",
              "    }\n",
              "</style>\n",
              "<table border=\"1\" class=\"dataframe\">\n",
              "  <thead>\n",
              "    <tr style=\"text-align: right;\">\n",
              "      <th></th>\n",
              "      <th>keyword</th>\n",
              "      <th>location</th>\n",
              "      <th>text</th>\n",
              "      <th>target</th>\n",
              "    </tr>\n",
              "    <tr>\n",
              "      <th>id</th>\n",
              "      <th></th>\n",
              "      <th></th>\n",
              "      <th></th>\n",
              "      <th></th>\n",
              "    </tr>\n",
              "  </thead>\n",
              "  <tbody>\n",
              "    <tr>\n",
              "      <th>0</th>\n",
              "      <td>ablaze</td>\n",
              "      <td>'nan'</td>\n",
              "      <td>communal violence in bhainsa telangana stones ...</td>\n",
              "      <td>1</td>\n",
              "    </tr>\n",
              "    <tr>\n",
              "      <th>1</th>\n",
              "      <td>ablaze</td>\n",
              "      <td>'nan'</td>\n",
              "      <td>telangana section  has been imposed in bhainsa...</td>\n",
              "      <td>1</td>\n",
              "    </tr>\n",
              "    <tr>\n",
              "      <th>2</th>\n",
              "      <td>ablaze</td>\n",
              "      <td>'New York City'</td>\n",
              "      <td>arsonist sets cars ablaze at dealership</td>\n",
              "      <td>1</td>\n",
              "    </tr>\n",
              "    <tr>\n",
              "      <th>3</th>\n",
              "      <td>ablaze</td>\n",
              "      <td>'Morgantown, WV'</td>\n",
              "      <td>arsonist sets cars ablaze at dealership</td>\n",
              "      <td>1</td>\n",
              "    </tr>\n",
              "    <tr>\n",
              "      <th>4</th>\n",
              "      <td>ablaze</td>\n",
              "      <td>'nan'</td>\n",
              "      <td>lord jesus your love brings freedom and pardon...</td>\n",
              "      <td>0</td>\n",
              "    </tr>\n",
              "    <tr>\n",
              "      <th>...</th>\n",
              "      <td>...</td>\n",
              "      <td>...</td>\n",
              "      <td>...</td>\n",
              "      <td>...</td>\n",
              "    </tr>\n",
              "    <tr>\n",
              "      <th>11365</th>\n",
              "      <td>wrecked</td>\n",
              "      <td>'Blue State in a red sea'</td>\n",
              "      <td>media should have warned us well in advance th...</td>\n",
              "      <td>0</td>\n",
              "    </tr>\n",
              "    <tr>\n",
              "      <th>11366</th>\n",
              "      <td>wrecked</td>\n",
              "      <td>'arohaonces'</td>\n",
              "      <td>i feel directly attacked  i consider moonbin a...</td>\n",
              "      <td>0</td>\n",
              "    </tr>\n",
              "    <tr>\n",
              "      <th>11367</th>\n",
              "      <td>wrecked</td>\n",
              "      <td>':Philippines:'</td>\n",
              "      <td>i feel directly attacked  i consider moonbin a...</td>\n",
              "      <td>0</td>\n",
              "    </tr>\n",
              "    <tr>\n",
              "      <th>11368</th>\n",
              "      <td>wrecked</td>\n",
              "      <td>'auroraborealis'</td>\n",
              "      <td>ok who remember outcast nd the dora au those a...</td>\n",
              "      <td>0</td>\n",
              "    </tr>\n",
              "    <tr>\n",
              "      <th>11369</th>\n",
              "      <td>wrecked</td>\n",
              "      <td>'nan'</td>\n",
              "      <td>jake corway wrecked while running  at irp</td>\n",
              "      <td>1</td>\n",
              "    </tr>\n",
              "  </tbody>\n",
              "</table>\n",
              "<p>11370 rows × 4 columns</p>\n",
              "</div>"
            ],
            "text/plain": [
              "       keyword  ... target\n",
              "id              ...       \n",
              "0       ablaze  ...      1\n",
              "1       ablaze  ...      1\n",
              "2       ablaze  ...      1\n",
              "3       ablaze  ...      1\n",
              "4       ablaze  ...      0\n",
              "...        ...  ...    ...\n",
              "11365  wrecked  ...      0\n",
              "11366  wrecked  ...      0\n",
              "11367  wrecked  ...      0\n",
              "11368  wrecked  ...      0\n",
              "11369  wrecked  ...      1\n",
              "\n",
              "[11370 rows x 4 columns]"
            ]
          },
          "metadata": {
            "tags": []
          },
          "execution_count": 53
        }
      ]
    },
    {
      "cell_type": "code",
      "metadata": {
        "id": "b6Vi_z7w4_9H",
        "colab": {
          "base_uri": "https://localhost:8080/",
          "height": 445
        },
        "outputId": "9ec3d291-78ae-447c-83a8-4f1e051326be"
      },
      "source": [
        "#Remove the simple quotes from all the registers in the \"location\" column.\n",
        "df['location'] = df['location'].apply(lambda x: x.replace(\"'\",\"\"))\n",
        "\n",
        "#Remove the \":\" from the registers that udes to be an emoji flag\n",
        "df['location'] = df['location'].apply(lambda x: x.replace(\":\",\"\"))\n",
        "\n",
        "#Remove the strings nan with a true NaN\n",
        "df['location'] = df['location'].apply(lambda x: x.replace(\"nan\",\"\"))\n",
        "\n",
        "# Let's take a look at the updated text\n",
        "df"
      ],
      "execution_count": 54,
      "outputs": [
        {
          "output_type": "execute_result",
          "data": {
            "text/html": [
              "<div>\n",
              "<style scoped>\n",
              "    .dataframe tbody tr th:only-of-type {\n",
              "        vertical-align: middle;\n",
              "    }\n",
              "\n",
              "    .dataframe tbody tr th {\n",
              "        vertical-align: top;\n",
              "    }\n",
              "\n",
              "    .dataframe thead th {\n",
              "        text-align: right;\n",
              "    }\n",
              "</style>\n",
              "<table border=\"1\" class=\"dataframe\">\n",
              "  <thead>\n",
              "    <tr style=\"text-align: right;\">\n",
              "      <th></th>\n",
              "      <th>keyword</th>\n",
              "      <th>location</th>\n",
              "      <th>text</th>\n",
              "      <th>target</th>\n",
              "    </tr>\n",
              "    <tr>\n",
              "      <th>id</th>\n",
              "      <th></th>\n",
              "      <th></th>\n",
              "      <th></th>\n",
              "      <th></th>\n",
              "    </tr>\n",
              "  </thead>\n",
              "  <tbody>\n",
              "    <tr>\n",
              "      <th>0</th>\n",
              "      <td>ablaze</td>\n",
              "      <td></td>\n",
              "      <td>communal violence in bhainsa telangana stones ...</td>\n",
              "      <td>1</td>\n",
              "    </tr>\n",
              "    <tr>\n",
              "      <th>1</th>\n",
              "      <td>ablaze</td>\n",
              "      <td></td>\n",
              "      <td>telangana section  has been imposed in bhainsa...</td>\n",
              "      <td>1</td>\n",
              "    </tr>\n",
              "    <tr>\n",
              "      <th>2</th>\n",
              "      <td>ablaze</td>\n",
              "      <td>New York City</td>\n",
              "      <td>arsonist sets cars ablaze at dealership</td>\n",
              "      <td>1</td>\n",
              "    </tr>\n",
              "    <tr>\n",
              "      <th>3</th>\n",
              "      <td>ablaze</td>\n",
              "      <td>Morgantown, WV</td>\n",
              "      <td>arsonist sets cars ablaze at dealership</td>\n",
              "      <td>1</td>\n",
              "    </tr>\n",
              "    <tr>\n",
              "      <th>4</th>\n",
              "      <td>ablaze</td>\n",
              "      <td></td>\n",
              "      <td>lord jesus your love brings freedom and pardon...</td>\n",
              "      <td>0</td>\n",
              "    </tr>\n",
              "    <tr>\n",
              "      <th>...</th>\n",
              "      <td>...</td>\n",
              "      <td>...</td>\n",
              "      <td>...</td>\n",
              "      <td>...</td>\n",
              "    </tr>\n",
              "    <tr>\n",
              "      <th>11365</th>\n",
              "      <td>wrecked</td>\n",
              "      <td>Blue State in a red sea</td>\n",
              "      <td>media should have warned us well in advance th...</td>\n",
              "      <td>0</td>\n",
              "    </tr>\n",
              "    <tr>\n",
              "      <th>11366</th>\n",
              "      <td>wrecked</td>\n",
              "      <td>arohaonces</td>\n",
              "      <td>i feel directly attacked  i consider moonbin a...</td>\n",
              "      <td>0</td>\n",
              "    </tr>\n",
              "    <tr>\n",
              "      <th>11367</th>\n",
              "      <td>wrecked</td>\n",
              "      <td>Philippines</td>\n",
              "      <td>i feel directly attacked  i consider moonbin a...</td>\n",
              "      <td>0</td>\n",
              "    </tr>\n",
              "    <tr>\n",
              "      <th>11368</th>\n",
              "      <td>wrecked</td>\n",
              "      <td>auroraborealis</td>\n",
              "      <td>ok who remember outcast nd the dora au those a...</td>\n",
              "      <td>0</td>\n",
              "    </tr>\n",
              "    <tr>\n",
              "      <th>11369</th>\n",
              "      <td>wrecked</td>\n",
              "      <td></td>\n",
              "      <td>jake corway wrecked while running  at irp</td>\n",
              "      <td>1</td>\n",
              "    </tr>\n",
              "  </tbody>\n",
              "</table>\n",
              "<p>11370 rows × 4 columns</p>\n",
              "</div>"
            ],
            "text/plain": [
              "       keyword  ... target\n",
              "id              ...       \n",
              "0       ablaze  ...      1\n",
              "1       ablaze  ...      1\n",
              "2       ablaze  ...      1\n",
              "3       ablaze  ...      1\n",
              "4       ablaze  ...      0\n",
              "...        ...  ...    ...\n",
              "11365  wrecked  ...      0\n",
              "11366  wrecked  ...      0\n",
              "11367  wrecked  ...      0\n",
              "11368  wrecked  ...      0\n",
              "11369  wrecked  ...      1\n",
              "\n",
              "[11370 rows x 4 columns]"
            ]
          },
          "metadata": {
            "tags": []
          },
          "execution_count": 54
        }
      ]
    },
    {
      "cell_type": "markdown",
      "metadata": {
        "id": "e_oxaXC2YIuD"
      },
      "source": [
        "# Taking note of dataset issues\n",
        "For the dataset Tweets we can see that only the column called location has missing values. We only have **7,952** locations of **11,370** Tweets.\n",
        "And some emojis in text that we have to clean later on."
      ]
    },
    {
      "cell_type": "code",
      "metadata": {
        "colab": {
          "base_uri": "https://localhost:8080/"
        },
        "id": "NZFvkowiX5Qs",
        "outputId": "27ab2434-4c88-4401-b20f-0e54db5100ee"
      },
      "source": [
        "df.info()\n",
        "print('\\n')\n",
        "print('Data Type')\n",
        "print('__'*12)\n",
        "df.dtypes"
      ],
      "execution_count": 55,
      "outputs": [
        {
          "output_type": "stream",
          "text": [
            "<class 'pandas.core.frame.DataFrame'>\n",
            "Int64Index: 11370 entries, 0 to 11369\n",
            "Data columns (total 4 columns):\n",
            " #   Column    Non-Null Count  Dtype \n",
            "---  ------    --------------  ----- \n",
            " 0   keyword   11370 non-null  object\n",
            " 1   location  11370 non-null  object\n",
            " 2   text      11370 non-null  object\n",
            " 3   target    11370 non-null  int64 \n",
            "dtypes: int64(1), object(3)\n",
            "memory usage: 444.1+ KB\n",
            "\n",
            "\n",
            "Data Type\n",
            "________________________\n"
          ],
          "name": "stdout"
        },
        {
          "output_type": "execute_result",
          "data": {
            "text/plain": [
              "keyword     object\n",
              "location    object\n",
              "text        object\n",
              "target       int64\n",
              "dtype: object"
            ]
          },
          "metadata": {
            "tags": []
          },
          "execution_count": 55
        }
      ]
    },
    {
      "cell_type": "code",
      "metadata": {
        "colab": {
          "base_uri": "https://localhost:8080/"
        },
        "id": "e_z0-N_3m-dc",
        "outputId": "4e2ebedd-09f1-402e-a696-2dc0649a9c8e"
      },
      "source": [
        "nul_locations = df['location'].isna().sum()\n",
        "print(f'We have {nul_locations} missing locations')"
      ],
      "execution_count": 56,
      "outputs": [
        {
          "output_type": "stream",
          "text": [
            "We have 0 missing locations\n"
          ],
          "name": "stdout"
        }
      ]
    },
    {
      "cell_type": "markdown",
      "metadata": {
        "id": "nWniglpNb_FI"
      },
      "source": [
        "In order to get the best data type to work with we can use `.convert_dtypes()` . To change the data type and have a better workflow"
      ]
    },
    {
      "cell_type": "code",
      "metadata": {
        "colab": {
          "base_uri": "https://localhost:8080/"
        },
        "id": "WQVB8g5cb4xx",
        "outputId": "e3ccc08a-d83a-49e5-97d1-f0b5d032af2a"
      },
      "source": [
        "print('Data Type Converted')\n",
        "print('__'*12)\n",
        "df.convert_dtypes().dtypes"
      ],
      "execution_count": 57,
      "outputs": [
        {
          "output_type": "stream",
          "text": [
            "Data Type Converted\n",
            "________________________\n"
          ],
          "name": "stdout"
        },
        {
          "output_type": "execute_result",
          "data": {
            "text/plain": [
              "keyword     string\n",
              "location    string\n",
              "text        string\n",
              "target       Int64\n",
              "dtype: object"
            ]
          },
          "metadata": {
            "tags": []
          },
          "execution_count": 57
        }
      ]
    },
    {
      "cell_type": "markdown",
      "metadata": {
        "id": "UN8xJDOBeU1x"
      },
      "source": [
        "## Here we have another look.\n",
        "*   219 unique keywords that describes the tweets\n",
        "*   4,504 unique locations wich need to be grouped later on\n",
        "*   11,223 Tweets (text) wich make us think if there is a kind of   duplicated message. \n",
        "*   And 2 different variables in target, 0 and 1 \n"
      ]
    },
    {
      "cell_type": "code",
      "metadata": {
        "colab": {
          "base_uri": "https://localhost:8080/"
        },
        "id": "-SHImxb9d8w5",
        "outputId": "357f87c6-efed-474a-857c-d46301fdb524"
      },
      "source": [
        "# We use unique to know the different variables that conforms each column\n",
        "df.nunique()"
      ],
      "execution_count": 58,
      "outputs": [
        {
          "output_type": "execute_result",
          "data": {
            "text/plain": [
              "keyword       219\n",
              "location     4498\n",
              "text        10973\n",
              "target          2\n",
              "dtype: int64"
            ]
          },
          "metadata": {
            "tags": []
          },
          "execution_count": 58
        }
      ]
    },
    {
      "cell_type": "code",
      "metadata": {
        "colab": {
          "base_uri": "https://localhost:8080/"
        },
        "id": "0pIsl_DAd-op",
        "outputId": "0b1eb177-3c89-4678-992b-4ad3542425b1"
      },
      "source": [
        "# Let's see if there is any duplicated text\n",
        "dup_text = df['text'].duplicated().sum()\n",
        "print(f'We have {dup_text} duplicated texts')"
      ],
      "execution_count": 59,
      "outputs": [
        {
          "output_type": "stream",
          "text": [
            "We have 397 duplicated texts\n"
          ],
          "name": "stdout"
        }
      ]
    },
    {
      "cell_type": "code",
      "metadata": {
        "colab": {
          "base_uri": "https://localhost:8080/"
        },
        "id": "Rn5M8RTzd-fc",
        "outputId": "35aea3e2-45ea-4db4-aeb7-8413528bb8e7"
      },
      "source": [
        "# We can have a description of the lenght of the text, the largest and shortest text and maybe a relation with the target number. \n",
        "df['length'] = [len(i) for i in df['text']]\n",
        "df['length'].describe()"
      ],
      "execution_count": 60,
      "outputs": [
        {
          "output_type": "execute_result",
          "data": {
            "text/plain": [
              "count    11370.000000\n",
              "mean        92.061214\n",
              "std         29.160143\n",
              "min          0.000000\n",
              "25%         74.000000\n",
              "50%        102.000000\n",
              "75%        115.000000\n",
              "max        139.000000\n",
              "Name: length, dtype: float64"
            ]
          },
          "metadata": {
            "tags": []
          },
          "execution_count": 60
        }
      ]
    },
    {
      "cell_type": "code",
      "metadata": {
        "colab": {
          "base_uri": "https://localhost:8080/",
          "height": 278
        },
        "id": "vwKGr_Gxd-R7",
        "outputId": "c58f2f1e-9ee5-451e-8224-9c077a9d86d3"
      },
      "source": [
        "# Histogram with the distribution of the Tweets\n",
        "plt.hist(df.length)\n",
        "plt.xlabel('Length of Tweet')\n",
        "plt.ylabel('# of Tweets')\n",
        "plt.show()"
      ],
      "execution_count": 61,
      "outputs": [
        {
          "output_type": "display_data",
          "data": {
            "image/png": "[encoded data removed]",
            "text/plain": [
              "<Figure size 432x288 with 1 Axes>"
            ]
          },
          "metadata": {
            "tags": [],
            "needs_background": "light"
          }
        }
      ]
    },
    {
      "cell_type": "code",
      "metadata": {
        "colab": {
          "base_uri": "https://localhost:8080/",
          "height": 1000
        },
        "id": "LINvoDw-d-BN",
        "outputId": "41c8215a-5cd6-4f5c-caa0-1b33c9ab28c4"
      },
      "source": [
        "# Table with the highest and lowest lengths\n",
        "display(df[df['length']>130])\n",
        "print('\\n')\n",
        "display(df[df['length']<20])"
      ],
      "execution_count": 62,
      "outputs": [
        {
          "output_type": "display_data",
          "data": {
            "text/html": [
              "<div>\n",
              "<style scoped>\n",
              "    .dataframe tbody tr th:only-of-type {\n",
              "        vertical-align: middle;\n",
              "    }\n",
              "\n",
              "    .dataframe tbody tr th {\n",
              "        vertical-align: top;\n",
              "    }\n",
              "\n",
              "    .dataframe thead th {\n",
              "        text-align: right;\n",
              "    }\n",
              "</style>\n",
              "<table border=\"1\" class=\"dataframe\">\n",
              "  <thead>\n",
              "    <tr style=\"text-align: right;\">\n",
              "      <th></th>\n",
              "      <th>keyword</th>\n",
              "      <th>location</th>\n",
              "      <th>text</th>\n",
              "      <th>target</th>\n",
              "      <th>length</th>\n",
              "    </tr>\n",
              "    <tr>\n",
              "      <th>id</th>\n",
              "      <th></th>\n",
              "      <th></th>\n",
              "      <th></th>\n",
              "      <th></th>\n",
              "      <th></th>\n",
              "    </tr>\n",
              "  </thead>\n",
              "  <tbody>\n",
              "    <tr>\n",
              "      <th>567</th>\n",
              "      <td>attack</td>\n",
              "      <td></td>\n",
              "      <td>money website my pinned tweet so republicans l...</td>\n",
              "      <td>0</td>\n",
              "      <td>134</td>\n",
              "    </tr>\n",
              "    <tr>\n",
              "      <th>568</th>\n",
              "      <td>attack</td>\n",
              "      <td></td>\n",
              "      <td>i love it when the possessed attack me on here...</td>\n",
              "      <td>0</td>\n",
              "      <td>133</td>\n",
              "    </tr>\n",
              "    <tr>\n",
              "      <th>685</th>\n",
              "      <td>avalanche</td>\n",
              "      <td>Islamabad, Pakistan</td>\n",
              "      <td>breaking news at least  people have been kille...</td>\n",
              "      <td>1</td>\n",
              "      <td>132</td>\n",
              "    </tr>\n",
              "    <tr>\n",
              "      <th>1003</th>\n",
              "      <td>bleeding</td>\n",
              "      <td>idk im bad at directions</td>\n",
              "      <td>my fatass just tripped on some shit in my room...</td>\n",
              "      <td>1</td>\n",
              "      <td>137</td>\n",
              "    </tr>\n",
              "    <tr>\n",
              "      <th>1261</th>\n",
              "      <td>bloody</td>\n",
              "      <td>Canberra, ACT</td>\n",
              "      <td>sitting in the front room with my bride and th...</td>\n",
              "      <td>0</td>\n",
              "      <td>131</td>\n",
              "    </tr>\n",
              "    <tr>\n",
              "      <th>1918</th>\n",
              "      <td>burning</td>\n",
              "      <td>she/her</td>\n",
              "      <td>people that get really hot radiator hands do u...</td>\n",
              "      <td>0</td>\n",
              "      <td>138</td>\n",
              "    </tr>\n",
              "    <tr>\n",
              "      <th>2123</th>\n",
              "      <td>catastrophic</td>\n",
              "      <td></td>\n",
              "      <td>if you sacrifice the president and the senate ...</td>\n",
              "      <td>0</td>\n",
              "      <td>134</td>\n",
              "    </tr>\n",
              "    <tr>\n",
              "      <th>2232</th>\n",
              "      <td>chemical emergency</td>\n",
              "      <td>BROKEN Hill</td>\n",
              "      <td>“culture isn’t something that can be drawn fro...</td>\n",
              "      <td>0</td>\n",
              "      <td>136</td>\n",
              "    </tr>\n",
              "    <tr>\n",
              "      <th>3261</th>\n",
              "      <td>debris</td>\n",
              "      <td>Sherfield on Loddon, England</td>\n",
              "      <td>overnight course is very wet with the worst t...</td>\n",
              "      <td>0</td>\n",
              "      <td>131</td>\n",
              "    </tr>\n",
              "    <tr>\n",
              "      <th>3811</th>\n",
              "      <td>desolate</td>\n",
              "      <td>Chicago, IL</td>\n",
              "      <td>more often than not loving people gets me mega...</td>\n",
              "      <td>0</td>\n",
              "      <td>134</td>\n",
              "    </tr>\n",
              "    <tr>\n",
              "      <th>4265</th>\n",
              "      <td>drought</td>\n",
              "      <td>Bangkok, Thailand</td>\n",
              "      <td>“inaction will only lead to more severe amp ex...</td>\n",
              "      <td>0</td>\n",
              "      <td>131</td>\n",
              "    </tr>\n",
              "    <tr>\n",
              "      <th>4320</th>\n",
              "      <td>drought</td>\n",
              "      <td>izone and fromis dorm</td>\n",
              "      <td>bruh it’s so hard having fromis and izone as y...</td>\n",
              "      <td>0</td>\n",
              "      <td>138</td>\n",
              "    </tr>\n",
              "    <tr>\n",
              "      <th>5783</th>\n",
              "      <td>flattened</td>\n",
              "      <td>Omaha, NE</td>\n",
              "      <td>was gonna workout but instead im laying on my ...</td>\n",
              "      <td>0</td>\n",
              "      <td>133</td>\n",
              "    </tr>\n",
              "    <tr>\n",
              "      <th>5944</th>\n",
              "      <td>floods</td>\n",
              "      <td></td>\n",
              "      <td>forests  buffer impact of storms amp floods  h...</td>\n",
              "      <td>0</td>\n",
              "      <td>131</td>\n",
              "    </tr>\n",
              "    <tr>\n",
              "      <th>7447</th>\n",
              "      <td>meltdown</td>\n",
              "      <td></td>\n",
              "      <td>the complete meltdown team bernie has whenever...</td>\n",
              "      <td>0</td>\n",
              "      <td>135</td>\n",
              "    </tr>\n",
              "    <tr>\n",
              "      <th>7623</th>\n",
              "      <td>natural disaster</td>\n",
              "      <td>Worldwide</td>\n",
              "      <td>an app that will check if the home you are goi...</td>\n",
              "      <td>0</td>\n",
              "      <td>136</td>\n",
              "    </tr>\n",
              "    <tr>\n",
              "      <th>7761</th>\n",
              "      <td>obliterate</td>\n",
              "      <td></td>\n",
              "      <td>seeing this warren cause evolve the question s...</td>\n",
              "      <td>0</td>\n",
              "      <td>133</td>\n",
              "    </tr>\n",
              "    <tr>\n",
              "      <th>7991</th>\n",
              "      <td>outbreak</td>\n",
              "      <td>New York</td>\n",
              "      <td>chinese scientists investigating a mystery ill...</td>\n",
              "      <td>0</td>\n",
              "      <td>131</td>\n",
              "    </tr>\n",
              "    <tr>\n",
              "      <th>8413</th>\n",
              "      <td>razed</td>\n",
              "      <td>Abuja</td>\n",
              "      <td>a fire outbreak has razed down shops ravaging ...</td>\n",
              "      <td>1</td>\n",
              "      <td>131</td>\n",
              "    </tr>\n",
              "    <tr>\n",
              "      <th>9735</th>\n",
              "      <td>suicide bombing</td>\n",
              "      <td></td>\n",
              "      <td>i cant believe the trump admin is expelling sa...</td>\n",
              "      <td>0</td>\n",
              "      <td>132</td>\n",
              "    </tr>\n",
              "    <tr>\n",
              "      <th>9919</th>\n",
              "      <td>survived</td>\n",
              "      <td>Linguinis Chef Hat</td>\n",
              "      <td>but i guess im still thankful that i survived ...</td>\n",
              "      <td>0</td>\n",
              "      <td>133</td>\n",
              "    </tr>\n",
              "    <tr>\n",
              "      <th>10173</th>\n",
              "      <td>thunderstorm</td>\n",
              "      <td></td>\n",
              "      <td>theres something about storms that i just love...</td>\n",
              "      <td>1</td>\n",
              "      <td>133</td>\n",
              "    </tr>\n",
              "    <tr>\n",
              "      <th>10975</th>\n",
              "      <td>weapons</td>\n",
              "      <td>MY EVIL LAIR</td>\n",
              "      <td>if only you had tried killing all of your alli...</td>\n",
              "      <td>0</td>\n",
              "      <td>139</td>\n",
              "    </tr>\n",
              "  </tbody>\n",
              "</table>\n",
              "</div>"
            ],
            "text/plain": [
              "                  keyword                      location  ... target  length\n",
              "id                                                       ...               \n",
              "567                attack                                ...      0     134\n",
              "568                attack                                ...      0     133\n",
              "685             avalanche           Islamabad, Pakistan  ...      1     132\n",
              "1003             bleeding      idk im bad at directions  ...      1     137\n",
              "1261               bloody                 Canberra, ACT  ...      0     131\n",
              "1918              burning                       she/her  ...      0     138\n",
              "2123         catastrophic                                ...      0     134\n",
              "2232   chemical emergency                   BROKEN Hill  ...      0     136\n",
              "3261               debris  Sherfield on Loddon, England  ...      0     131\n",
              "3811             desolate                   Chicago, IL  ...      0     134\n",
              "4265              drought             Bangkok, Thailand  ...      0     131\n",
              "4320              drought         izone and fromis dorm  ...      0     138\n",
              "5783            flattened                     Omaha, NE  ...      0     133\n",
              "5944               floods                                ...      0     131\n",
              "7447             meltdown                                ...      0     135\n",
              "7623     natural disaster                     Worldwide  ...      0     136\n",
              "7761           obliterate                                ...      0     133\n",
              "7991             outbreak                      New York  ...      0     131\n",
              "8413                razed                         Abuja  ...      1     131\n",
              "9735      suicide bombing                                ...      0     132\n",
              "9919             survived            Linguinis Chef Hat  ...      0     133\n",
              "10173        thunderstorm                                ...      1     133\n",
              "10975             weapons                  MY EVIL LAIR  ...      0     139\n",
              "\n",
              "[23 rows x 5 columns]"
            ]
          },
          "metadata": {
            "tags": []
          }
        },
        {
          "output_type": "stream",
          "text": [
            "\n",
            "\n"
          ],
          "name": "stdout"
        },
        {
          "output_type": "display_data",
          "data": {
            "text/html": [
              "<div>\n",
              "<style scoped>\n",
              "    .dataframe tbody tr th:only-of-type {\n",
              "        vertical-align: middle;\n",
              "    }\n",
              "\n",
              "    .dataframe tbody tr th {\n",
              "        vertical-align: top;\n",
              "    }\n",
              "\n",
              "    .dataframe thead th {\n",
              "        text-align: right;\n",
              "    }\n",
              "</style>\n",
              "<table border=\"1\" class=\"dataframe\">\n",
              "  <thead>\n",
              "    <tr style=\"text-align: right;\">\n",
              "      <th></th>\n",
              "      <th>keyword</th>\n",
              "      <th>location</th>\n",
              "      <th>text</th>\n",
              "      <th>target</th>\n",
              "      <th>length</th>\n",
              "    </tr>\n",
              "    <tr>\n",
              "      <th>id</th>\n",
              "      <th></th>\n",
              "      <th></th>\n",
              "      <th></th>\n",
              "      <th></th>\n",
              "      <th></th>\n",
              "    </tr>\n",
              "  </thead>\n",
              "  <tbody>\n",
              "    <tr>\n",
              "      <th>80</th>\n",
              "      <td>aftershock</td>\n",
              "      <td>Philippines ,From America</td>\n",
              "      <td>a other hard hit</td>\n",
              "      <td>0</td>\n",
              "      <td>17</td>\n",
              "    </tr>\n",
              "    <tr>\n",
              "      <th>303</th>\n",
              "      <td>annihilation</td>\n",
              "      <td>Adelaide, South Australia</td>\n",
              "      <td>annihilation</td>\n",
              "      <td>0</td>\n",
              "      <td>13</td>\n",
              "    </tr>\n",
              "    <tr>\n",
              "      <th>336</th>\n",
              "      <td>apocalypse</td>\n",
              "      <td>Lat Krabang, Bangkok</td>\n",
              "      <td>apocalypse</td>\n",
              "      <td>0</td>\n",
              "      <td>10</td>\n",
              "    </tr>\n",
              "    <tr>\n",
              "      <th>337</th>\n",
              "      <td>apocalypse</td>\n",
              "      <td></td>\n",
              "      <td>…</td>\n",
              "      <td>0</td>\n",
              "      <td>2</td>\n",
              "    </tr>\n",
              "    <tr>\n",
              "      <th>348</th>\n",
              "      <td>apocalypse</td>\n",
              "      <td>Brisbane, Australia</td>\n",
              "      <td>apocalypse chic</td>\n",
              "      <td>0</td>\n",
              "      <td>15</td>\n",
              "    </tr>\n",
              "    <tr>\n",
              "      <th>...</th>\n",
              "      <td>...</td>\n",
              "      <td>...</td>\n",
              "      <td>...</td>\n",
              "      <td>...</td>\n",
              "      <td>...</td>\n",
              "    </tr>\n",
              "    <tr>\n",
              "      <th>10940</th>\n",
              "      <td>weapons</td>\n",
              "      <td>Baltimore, MD</td>\n",
              "      <td>still who sent…</td>\n",
              "      <td>0</td>\n",
              "      <td>16</td>\n",
              "    </tr>\n",
              "    <tr>\n",
              "      <th>10999</th>\n",
              "      <td>whirlwind</td>\n",
              "      <td>Lucky Landing</td>\n",
              "      <td>ok whirlwind</td>\n",
              "      <td>1</td>\n",
              "      <td>12</td>\n",
              "    </tr>\n",
              "    <tr>\n",
              "      <th>11002</th>\n",
              "      <td>whirlwind</td>\n",
              "      <td></td>\n",
              "      <td>whirlwind</td>\n",
              "      <td>1</td>\n",
              "      <td>9</td>\n",
              "    </tr>\n",
              "    <tr>\n",
              "      <th>11047</th>\n",
              "      <td>wild fires</td>\n",
              "      <td>New York, NY</td>\n",
              "      <td>wild fires</td>\n",
              "      <td>1</td>\n",
              "      <td>10</td>\n",
              "    </tr>\n",
              "    <tr>\n",
              "      <th>11279</th>\n",
              "      <td>wreck</td>\n",
              "      <td></td>\n",
              "      <td>i have friends</td>\n",
              "      <td>0</td>\n",
              "      <td>14</td>\n",
              "    </tr>\n",
              "  </tbody>\n",
              "</table>\n",
              "<p>213 rows × 5 columns</p>\n",
              "</div>"
            ],
            "text/plain": [
              "            keyword                     location  ... target  length\n",
              "id                                                ...               \n",
              "80       aftershock    Philippines ,From America  ...      0      17\n",
              "303    annihilation    Adelaide, South Australia  ...      0      13\n",
              "336      apocalypse         Lat Krabang, Bangkok  ...      0      10\n",
              "337      apocalypse                               ...      0       2\n",
              "348      apocalypse          Brisbane, Australia  ...      0      15\n",
              "...             ...                          ...  ...    ...     ...\n",
              "10940       weapons                Baltimore, MD  ...      0      16\n",
              "10999     whirlwind                Lucky Landing  ...      1      12\n",
              "11002     whirlwind                               ...      1       9\n",
              "11047    wild fires                New York, NY   ...      1      10\n",
              "11279         wreck                               ...      0      14\n",
              "\n",
              "[213 rows x 5 columns]"
            ]
          },
          "metadata": {
            "tags": []
          }
        }
      ]
    },
    {
      "cell_type": "markdown",
      "metadata": {
        "id": "AEbKuYTAVgCB"
      },
      "source": [
        "# Where do the Tweets come from?\n",
        "We take a first look to the availables places that we have. We are getting the locations that occurs at least 10 times"
      ]
    },
    {
      "cell_type": "code",
      "metadata": {
        "colab": {
          "base_uri": "https://localhost:8080/"
        },
        "id": "djstEEp_QY-r",
        "outputId": "a633fc31-2a81-44ae-c8a0-4551f3c6bdd8"
      },
      "source": [
        "location = df['location'].value_counts()\n",
        "location[location>=10][:20]"
      ],
      "execution_count": 63,
      "outputs": [
        {
          "output_type": "execute_result",
          "data": {
            "text/plain": [
              "                           3418\n",
              "United States                96\n",
              "Australia                    83\n",
              "London, England              81\n",
              "UK                           77\n",
              "India                        74\n",
              "London                       69\n",
              "United Kingdom               59\n",
              "USA                          52\n",
              "California, USA              47\n",
              "Los Angeles, CA              45\n",
              "England, United Kingdom      39\n",
              "Lagos, Nigeria               36\n",
              "Nigeria                      36\n",
              "Melbourne, Victoria          32\n",
              "Earth                        31\n",
              "Ireland                      31\n",
              "Philippines                  28\n",
              "Canada                       28\n",
              "Mumbai, India                27\n",
              "Name: location, dtype: int64"
            ]
          },
          "metadata": {
            "tags": []
          },
          "execution_count": 63
        }
      ]
    },
    {
      "cell_type": "code",
      "metadata": {
        "id": "p-LoZxfWTNpK"
      },
      "source": [
        "# We are going to group some places, so we create a mapping dictionary to replace the locations\n",
        "mapping = {'United States':'USA',\n",
        "          'New York':'USA',\n",
        "          \"London\":'UK',\n",
        "          \"Los Angeles, CA\":'USA',\n",
        "          \"Washington, D.C.\":'USA',\n",
        "          \"California\":'USA',\n",
        "          \"Chicago, IL\":'USA',\n",
        "          \"Chicago\":'USA',\n",
        "          \"New York, NY\":'USA',\n",
        "          \"California, USA\":'USA',\n",
        "          \"FLorida\":'USA',\n",
        "          \"Nigeria\":'Africa',\n",
        "          \"Kenya\":'Africa',\n",
        "          \"Everywhere\":'Worldwide',\n",
        "          \"San Francisco\":'USA',\n",
        "          \"Florida\":'USA',\n",
        "          \"United Kingdom\":'UK',\n",
        "          \"Los Angeles\":'USA',\n",
        "          \"Toronto\":'Canada',\n",
        "          \"San Francisco, CA\":'USA',\n",
        "          \"NYC\":'USA',\n",
        "          \"Seattle\":'USA',\n",
        "          \"Earth\":'Worldwide',\n",
        "          \"Ireland\":'UK',\n",
        "          \"London, England\":'UK',\n",
        "          \"New York City\":'USA',\n",
        "          \"Texas\":'USA',\n",
        "          \"London, UK\":'UK',\n",
        "          \"Atlanta, GA\":'USA',\n",
        "          \"England, United Kingdom\":'UK',\n",
        "          \"Mumbai, India\":'India',\n",
        "          \"Melbourne,Victoria\":'Australia'}"
      ],
      "execution_count": 64,
      "outputs": []
    },
    {
      "cell_type": "code",
      "metadata": {
        "id": "nrdhvC3_3nlA"
      },
      "source": [
        "# We apply a function and change the name of the location to group if it exists on the mapping key\n",
        "df['location'] = df['location'].apply(lambda i: mapping[i] if i in mapping.keys() else i)"
      ],
      "execution_count": 65,
      "outputs": []
    },
    {
      "cell_type": "code",
      "metadata": {
        "colab": {
          "base_uri": "https://localhost:8080/"
        },
        "id": "FSz6DGsL4PCx",
        "outputId": "db91cb9b-f7ec-4aa8-c813-0a6a98943f2f"
      },
      "source": [
        "# Now the values changed\n",
        "ndf = df\n",
        "ndf.dropna()\n",
        "location = ndf['location'].value_counts()\n",
        "location[location>=10]"
      ],
      "execution_count": 66,
      "outputs": [
        {
          "output_type": "execute_result",
          "data": {
            "text/plain": [
              "                         3418\n",
              "USA                       395\n",
              "UK                        369\n",
              "India                     101\n",
              "Australia                  83\n",
              "                         ... \n",
              "Sioux Falls, SD            10\n",
              "Dublin, Ireland            10\n",
              "Queensland, Australia      10\n",
              "Scotland                   10\n",
              "Paris, France              10\n",
              "Name: location, Length: 71, dtype: int64"
            ]
          },
          "metadata": {
            "tags": []
          },
          "execution_count": 66
        }
      ]
    },
    {
      "cell_type": "code",
      "metadata": {
        "id": "-Kt92sFqWNUe"
      },
      "source": [
        "localizator = Nominatim(user_agent='tweets-analysis') # Creation of the agent "
      ],
      "execution_count": 67,
      "outputs": []
    },
    {
      "cell_type": "code",
      "metadata": {
        "id": "1Jlw_5SMfVcY"
      },
      "source": [
        "location = list(location.index) #We keep just the name of the cities\n",
        "location2 = location[1:1000]"
      ],
      "execution_count": 68,
      "outputs": []
    },
    {
      "cell_type": "code",
      "metadata": {
        "id": "YTWo80pwf61m",
        "colab": {
          "base_uri": "https://localhost:8080/"
        },
        "outputId": "e6bc9b31-8cc7-4b0c-fe89-2f06227e13aa"
      },
      "source": [
        "location2 #Now we have a list with the ubication of the tweets"
      ],
      "execution_count": 69,
      "outputs": [
        {
          "output_type": "execute_result",
          "data": {
            "text/plain": [
              "['USA',\n",
              " 'UK',\n",
              " 'India',\n",
              " 'Australia',\n",
              " 'Worldwide',\n",
              " 'Africa',\n",
              " 'Lagos, Nigeria',\n",
              " 'Canada',\n",
              " 'Melbourne, Victoria',\n",
              " 'Philippines',\n",
              " 'Texas, USA',\n",
              " 'Nairobi, Kenya',\n",
              " 'South Africa',\n",
              " 'New Delhi, India',\n",
              " 'Sydney',\n",
              " 'Florida, USA',\n",
              " 'Sydney, New South Wales',\n",
              " 'Republic of the Philippines',\n",
              " 'Malaysia',\n",
              " 'New York, USA',\n",
              " 'Moes Tavern, Springfield',\n",
              " 'Melbourne, Australia',\n",
              " 'England',\n",
              " 'Sydney, Australia',\n",
              " 'Washington, DC',\n",
              " 'Hong Kong',\n",
              " 'Pennsylvania, USA',\n",
              " 'Johannesburg, South Africa',\n",
              " 'Perth, Western Australia',\n",
              " 'Portland, OR',\n",
              " 'Bengaluru, India',\n",
              " 'Manchester, England',\n",
              " 'Toronto, Ontario',\n",
              " 'North Carolina, USA',\n",
              " 'she/her',\n",
              " 'South East, England',\n",
              " 'Abuja, Nigeria',\n",
              " 'Planet Earth',\n",
              " 'Ghana',\n",
              " 'Hyderabad, India',\n",
              " 'Pretoria, South Africa',\n",
              " 'Las Vegas, NV',\n",
              " 'Georgia, USA',\n",
              " 'San Diego, CA',\n",
              " 'Scotland, United Kingdom',\n",
              " 'Global',\n",
              " 'Accra, Ghana',\n",
              " 'Singapore',\n",
              " 'Indonesia',\n",
              " 'Houston, TX',\n",
              " 'Seattle, WA',\n",
              " 'Cape Town, South Africa',\n",
              " 'Melbourne',\n",
              " 'Pakistan',\n",
              " 'Brisbane, Queensland',\n",
              " 'Belfast, Northern Ireland',\n",
              " 'Edinburgh',\n",
              " 'Bristol, England',\n",
              " 'Brisbane, Australia',\n",
              " 'France',\n",
              " 'Nairobi',\n",
              " 'Bangkok, Thailand',\n",
              " 'Baltimore, MD',\n",
              " 'Brooklyn, NY',\n",
              " 'Mumbai',\n",
              " 'Sioux Falls, SD',\n",
              " 'Dublin, Ireland',\n",
              " 'Queensland, Australia',\n",
              " 'Scotland',\n",
              " 'Paris, France',\n",
              " 'Abuja',\n",
              " 'New England',\n",
              " 'Victoria, Australia',\n",
              " 'Hiding in a red state',\n",
              " 'Illinois, USA',\n",
              " 'Kampala, Uganda',\n",
              " 'Islamic Republic of Iran',\n",
              " 'Ohio, USA',\n",
              " 'Twitter',\n",
              " 'New South Wales, Australia',\n",
              " 'Boston, MA',\n",
              " 'South West, England',\n",
              " 'Bangalore',\n",
              " 'Lagos',\n",
              " 'Michigan, USA',\n",
              " 'Washington, USA',\n",
              " 'Maldives',\n",
              " 'Minnesota, USA',\n",
              " 'New Jersey, USA',\n",
              " 'Hell',\n",
              " 'Oregon, USA',\n",
              " 'Oxford, England',\n",
              " 'Cape Town',\n",
              " 'भारत',\n",
              " 'Alberta, Canada',\n",
              " 'East, England',\n",
              " 'West Midlands, England',\n",
              " 'Europe',\n",
              " 'Huntsville  Alabama',\n",
              " 'Kerala, India',\n",
              " 'Edinburgh, Scotland',\n",
              " 'Islamabad, Pakistan',\n",
              " 'Dublin',\n",
              " 'Miami, FL',\n",
              " 'Barling, AR.',\n",
              " 'Lahore, Pakistan',\n",
              " 'Port Harcourt',\n",
              " 'Puerto Rico, USA',\n",
              " 'Lesotho',\n",
              " 'Cardiff, Wales',\n",
              " 'Vancouver, British Columbia',\n",
              " 'Virginia',\n",
              " 'Cambridge, England',\n",
              " 'Essex',\n",
              " 'San Antonio, TX',\n",
              " 'Kolkata, India',\n",
              " 'Karachi, Pakistan',\n",
              " 'Liverpool',\n",
              " 'Ethiopia',\n",
              " 'New Orleans, LA',\n",
              " 'New Zealand',\n",
              " 'Manila, Philippines',\n",
              " 'The Netherlands',\n",
              " 'Wales, United Kingdom',\n",
              " 'Port Harcourt, Nigeria',\n",
              " 'St Louis, MO',\n",
              " 'Sacramento, CA',\n",
              " 'State College, PA',\n",
              " 'South Africa - KZN',\n",
              " 'Ibadan, Nigeria',\n",
              " 'Nottingham, England',\n",
              " 'Louisiana, USA',\n",
              " 'Thailand',\n",
              " 'British Columbia, Canada',\n",
              " 'Arizona, USA',\n",
              " 'Canberra',\n",
              " 'Canberra, Australia',\n",
              " 'Manhattan, NY',\n",
              " 'Minneapolis, MN',\n",
              " 'Denver, CO',\n",
              " 'Calgary, Alberta',\n",
              " 'Marching Home',\n",
              " 'An Australian increasingly more concerned about democracy in Australia.',\n",
              " 'Larrakia',\n",
              " 'North Carolina',\n",
              " 'Ontario, Canada',\n",
              " 'Abu Dhabi',\n",
              " 'East Midlands, England',\n",
              " 'Oakland, CA',\n",
              " 'Brussels, Belgium',\n",
              " 'Deutschland',\n",
              " 'Manchester',\n",
              " 'Philadelphia, PA',\n",
              " 'Durban, South Africa',\n",
              " 'Nashville, TN',\n",
              " 'North West, England',\n",
              " 'Austin, TX',\n",
              " 'Delhi',\n",
              " 'Virginia Beach, VA',\n",
              " 'Barcelona',\n",
              " 'Cape Cod, Massachusetts USA',\n",
              " 'Colorado, USA',\n",
              " 'Vancouver, Canada',\n",
              " 'Glasgow',\n",
              " 'hell',\n",
              " 'Brussels',\n",
              " 'Finland',\n",
              " 'Addis Ababa, Ethiopia',\n",
              " 'Queen of Trolls',\n",
              " 'Knoxville, TN',\n",
              " 'Argentina',\n",
              " '𝕴𝖓𝖉𝖎𝖆',\n",
              " 'Godalming, England',\n",
              " 'Orlando, FL',\n",
              " 'Madrid, España',\n",
              " 'Victoria',\n",
              " 'where is taehyung',\n",
              " 'New Delhi',\n",
              " 'he/him',\n",
              " 'London, United Kingdom',\n",
              " 'Somewhere',\n",
              " 'Dublin City, Ireland',\n",
              " 'Jaipur',\n",
              " 'OnFreedomRoad.com',\n",
              " 'Belgium',\n",
              " '⚧️ECCE HOMOSEXUAL⚧️',\n",
              " 'Glasgow, Scotland',\n",
              " 'DKI Jakarta, Indonesia',\n",
              " 'Brighton, England',\n",
              " 'Italia',\n",
              " 'Chennai, India',\n",
              " 'Tweets by David',\n",
              " 'Madrid, Comunidad de Madrid',\n",
              " 'Pittsburgh, PA',\n",
              " 'Portugal',\n",
              " 'Harare, Zimbabwe',\n",
              " 'Leeds, England',\n",
              " 'Germany',\n",
              " 'Colorado',\n",
              " 'Phoenix, AZ',\n",
              " 'Quezon City',\n",
              " 'earth',\n",
              " 'South Carolina, USA',\n",
              " 'Kansas City, MO',\n",
              " 'treasure + yoonbin 💌',\n",
              " 'USA 🇺🇸',\n",
              " 'South Dublin, Ireland',\n",
              " 'Connecticut, USA',\n",
              " 'New Hampshire, USA',\n",
              " 'Stockholm, Sverige',\n",
              " 'Adelaide, South Australia',\n",
              " 'Kuala Lumpur',\n",
              " 'Missouri, USA',\n",
              " 'Charlotte, NC',\n",
              " 'Massachusetts, USA',\n",
              " 'Kaduna, Nigeria',\n",
              " 'München, Bayern',\n",
              " 'Yorkshire',\n",
              " 'Hyderabad',\n",
              " 'Tucson, AZ',\n",
              " 'Virginia, USA',\n",
              " 'Berlin',\n",
              " 'Long Beach, CA',\n",
              " 'Hawaii',\n",
              " 'Stranger than Dystopia',\n",
              " 'Ilorin, Nigeria',\n",
              " 'Amsterdam, Nederland',\n",
              " 'กรุงเทพมหานคร, ประเทศไทย',\n",
              " 'Isle of Man',\n",
              " '#ImpeachTrump',\n",
              " 'Illinois',\n",
              " 'A tiny place in the universe',\n",
              " 'Wisconsin, USA',\n",
              " 'united states',\n",
              " 'Japan',\n",
              " 'Maseru,Lesotho',\n",
              " 'Jamaica',\n",
              " 'Bharat',\n",
              " 'Dallas, TX',\n",
              " 'Tennessee, USA',\n",
              " 'Vancouver',\n",
              " 'World',\n",
              " 'Chicago, IL.',\n",
              " 'Sri Lanka',\n",
              " 'Bay Area, CA',\n",
              " 'Sweden',\n",
              " 'Birmingham',\n",
              " 'Lothian',\n",
              " 'Peshawar, Pakistan',\n",
              " 'Birmingham, England',\n",
              " 'Edmonton, Alberta',\n",
              " 'EVERYWHERE',\n",
              " 'Ottawa, Ontario',\n",
              " 'Brisbane',\n",
              " 'On a journey',\n",
              " 'España',\n",
              " 'M50 Dublin',\n",
              " 'Iowa',\n",
              " 'Spijkenisse',\n",
              " 'Toronto, Canada',\n",
              " 'Lowca, Cumbria (in spirit)',\n",
              " 'Bradford, England',\n",
              " 'Wherever socks go in the dryer',\n",
              " 'Washington',\n",
              " 'Honolulu, HI',\n",
              " 'uk',\n",
              " 'Spain',\n",
              " 'Tatala Bigo Rizal',\n",
              " 'Oregon',\n",
              " 'Fort Lauderdale, FL',\n",
              " 'Punjab, Pakistan',\n",
              " 'Chile',\n",
              " 'Ottawa, Ontario, Canada',\n",
              " 'Namibia',\n",
              " 'Wellington, New Zealand',\n",
              " 'Atlanta',\n",
              " 'Staffordshire England',\n",
              " 'Tampa, FL',\n",
              " 'St. Louis',\n",
              " 'Tunisia',\n",
              " 'Cardiff',\n",
              " 'Boulder, CO',\n",
              " 'Manila City, National Capital ',\n",
              " 'Lucknow, India',\n",
              " 'Washington State',\n",
              " 'Oklahoma',\n",
              " 'Jakarta, Indonesia',\n",
              " 'King’s Lynn, The EU 🇪🇺',\n",
              " 'Minnesota',\n",
              " 'Chandigarh, India',\n",
              " 'Limerick, Ireland',\n",
              " 'Kent, UK',\n",
              " 'Geneva, Switzerland',\n",
              " 'Orange, California',\n",
              " 'Internet',\n",
              " 'Faridabad, India',\n",
              " 'Detroit, MI',\n",
              " 'Milwaukee, WI',\n",
              " 'Gloucester, England',\n",
              " 'Rajasthan, India',\n",
              " 'Cork, Ireland',\n",
              " 'mumbai',\n",
              " 'PH',\n",
              " '📩  (marshmallow-qa.com/kamo_pasta)',\n",
              " 'North America',\n",
              " 'Southern hemisphere',\n",
              " 'US',\n",
              " 'San Jose, CA',\n",
              " 'Kingdom of Saudi Arabia',\n",
              " 'Cleveland, OH',\n",
              " 'South London',\n",
              " 'River Acheron, Cocytus',\n",
              " 'Alabama, USA',\n",
              " 'Myrtle Beach, SC',\n",
              " 'Wien,Niederösterreich,Mallorca',\n",
              " 'Mumbai, Maharashtra',\n",
              " 'Kentucky, USA',\n",
              " 'کراچی, London',\n",
              " 'lagos',\n",
              " 'Alaska, USA',\n",
              " 'Washington DC',\n",
              " 'Santiago, Chile',\n",
              " 'Lagos Nigeria',\n",
              " 'Tokyo, Japan',\n",
              " 'london',\n",
              " 'México,City',\n",
              " 'Geelong, Victoria',\n",
              " 'Dubai, United Arab Emirates',\n",
              " 'Alaska',\n",
              " 'Barcelona, España',\n",
              " 'Cascadia',\n",
              " 'Oman',\n",
              " 'Columbus, MS',\n",
              " 'Manila',\n",
              " 'Rio de Janeiro, Brasil',\n",
              " 'USA, Australia, Indonesia, NZ & Japan',\n",
              " 'Goa, India',\n",
              " 'Ontario, CA',\n",
              " 'Here',\n",
              " 'Puerto Rico & Spain',\n",
              " 'Dayton, Ohio',\n",
              " 'Turkey',\n",
              " 'Austin, Texas',\n",
              " 'Cambodia',\n",
              " 'Orlando',\n",
              " 'Norway, Trondheim',\n",
              " 'Ranchi, India',\n",
              " 'zombieland',\n",
              " 'Colorado Springs, CO',\n",
              " 'Planet Eyal, Shandral System',\n",
              " 'Johannesburg',\n",
              " '192.168.4.1',\n",
              " 'Norwich, UK',\n",
              " 'Karachi',\n",
              " 'Arkansas',\n",
              " 'Brighton',\n",
              " 'Mississippi',\n",
              " 'Ukraine',\n",
              " 'Respect Hezbollah',\n",
              " 'Sedona, AZ',\n",
              " 'philippines',\n",
              " 'Egypt',\n",
              " 'Fort Worth, TX',\n",
              " 'Southampton',\n",
              " 'United States Of America, USA',\n",
              " 'Bigfoots Bluff',\n",
              " 'Petaling Jaya, Selangor',\n",
              " 'Somewhere in the Good old USA!',\n",
              " 'West Village, Manhattan',\n",
              " 'Southern California',\n",
              " 'heaven',\n",
              " 'Auckland, New Zealand',\n",
              " 'Gold Coast, Queensland',\n",
              " 'She/Her',\n",
              " 'Chennai',\n",
              " 'Toronto, Ontario, Canada',\n",
              " 'Anchorage, AK',\n",
              " 'Shropshire',\n",
              " 'Westmount, Québec',\n",
              " 'Shepparton',\n",
              " 'London England.',\n",
              " 'Pune, India',\n",
              " 'Gippsland Victoria, Australia',\n",
              " 'Kuala Lumpur, Malaysia',\n",
              " 'East of England',\n",
              " 'Tasmania',\n",
              " 'miami',\n",
              " 'Was',\n",
              " '🌍',\n",
              " 'Sydney Australia',\n",
              " 'Sénégal',\n",
              " 'Beijing',\n",
              " 'Cornwall',\n",
              " 'some fuccin forest',\n",
              " 'Aberdeen, Scotland',\n",
              " 'Calgary',\n",
              " 'Cambridge, UK',\n",
              " 'Linguinis Chef Hat',\n",
              " 'Lahore',\n",
              " 'Austria',\n",
              " 'Metopia',\n",
              " 'Melbourne, Victoria (Boon wurrung)',\n",
              " 'Follow for Follow',\n",
              " 'NEW YORK',\n",
              " 'Lincoln, NE',\n",
              " 'Gujarat, India',\n",
              " 'BC, Canada',\n",
              " 'Turtle Island',\n",
              " 'North Wales, UK',\n",
              " 'Muskegon, MI',\n",
              " 'Birmingham, AL',\n",
              " 'Tempe, AZ',\n",
              " 'Boise, ID',\n",
              " 'Peel Region, Ontario',\n",
              " 'Dublin Ireland',\n",
              " 'Jakarta',\n",
              " 'chicago',\n",
              " 'Istanbul',\n",
              " 'Clown World',\n",
              " 'Sydney, NSW, Australia',\n",
              " 'Merveilles, Mexico',\n",
              " 'Enfield, London',\n",
              " 'Kolkata',\n",
              " 'North Africa,West/Central Asia',\n",
              " 'texas',\n",
              " 'Bluffton, SC 29910',\n",
              " 'Issa Mystery',\n",
              " 'Kokkola/Suomi, Karleby/Finland',\n",
              " '自由之島',\n",
              " 'Louisville, KY',\n",
              " 'Iran',\n",
              " 'London UK',\n",
              " 'Yorkshire and The Humber',\n",
              " 'Quezon City, National Capital Region',\n",
              " 'Regina-Wilshire Theatre',\n",
              " 'Planet earth',\n",
              " 'Berkeley, CA',\n",
              " 'Ontario',\n",
              " 'Planet Earth👍👍👍👍👍👍👍👍',\n",
              " 'Stuffed In The Corner, YouTube',\n",
              " 'worldwide',\n",
              " 'Iowa, USA',\n",
              " 'Twin Peaks, WA',\n",
              " 'Morgantown, WV',\n",
              " 'curiouscat.me/bear_coughing',\n",
              " 'Kings Lynn, England',\n",
              " 'Black Creek BC',\n",
              " 'Mpumalanga, South Africa',\n",
              " 'Canada 🇨🇦',\n",
              " 'kolkata',\n",
              " 'United Arab Emirates',\n",
              " 'Committed to those who sacrificed for what America truly should be, not what Trump is making it.',\n",
              " 'Portsmouth, England',\n",
              " 'Zurich, Switzerland',\n",
              " 'Wales / Cymru',\n",
              " 'Hindustan',\n",
              " 'Barnstaple, Devon, England',\n",
              " 'ATX',\n",
              " 'Los Angeles, Ca',\n",
              " 'Orange County, CA.',\n",
              " 'Wakefield, VA',\n",
              " 'Salt Lake City, UT',\n",
              " 'US of A',\n",
              " 'Benin-City, Nigeria',\n",
              " 'Hampshire',\n",
              " 'Boldunec',\n",
              " 'Beverly Hills, CA',\n",
              " 'Rennes, France',\n",
              " '日本',\n",
              " 'Gurgaon, India',\n",
              " 'Ngunnawal country',\n",
              " 'in yoonbin heart',\n",
              " 'Cardiff UK',\n",
              " 'Kota Surabaya, Jawa Timur',\n",
              " 'Sin City',\n",
              " 'Buffalo, NY',\n",
              " 'THEY/THEM or HE/HIM',\n",
              " 'Dallas,Texas',\n",
              " 'PUPUNTA ANG PILIPINAS SA BTS',\n",
              " 'jasper,texas',\n",
              " 'Taichung City, Taiwan',\n",
              " 'Cambridgeshire, UK',\n",
              " 'Lagos - Nigeria',\n",
              " 'au',\n",
              " 'Liverpool, England',\n",
              " 'DEPRESSED VIBES',\n",
              " 'Norwich',\n",
              " 'Left Coast',\n",
              " 'New Mexico',\n",
              " 'Baton Rouge, LA',\n",
              " 'Uttar Pradesh, India',\n",
              " 'Stockholm',\n",
              " 'online',\n",
              " 'Santa Monica, CA',\n",
              " 'Arkansas, USA',\n",
              " 'NJ',\n",
              " 'New Delhi, Delhi',\n",
              " 'Aylesbury, UK',\n",
              " 'Sverige',\n",
              " 'Tema, Ghana',\n",
              " 'Frankfurt am Main, Deutschland',\n",
              " 'Kansas City, Mo.',\n",
              " 'Mumbai India',\n",
              " 'Retford, England',\n",
              " 'Nationwide',\n",
              " 'Kansas, USA',\n",
              " 'Norwich, England',\n",
              " 'Republic of Serbia',\n",
              " '香港',\n",
              " 'Antarctica',\n",
              " 'Province of Vladimir, Russia',\n",
              " 'Ottawa',\n",
              " 'Cambridge',\n",
              " 'Melbourne Australia',\n",
              " 'Hobart, Tasmania',\n",
              " 'Republic of Croatia',\n",
              " 'near Detroit',\n",
              " 'Nassau, Bahamas',\n",
              " 'The Indus ,Swabi Pashtunkhwa',\n",
              " 'Mississippi, USA',\n",
              " 'Botswana',\n",
              " 'Hawaii, USA',\n",
              " 'Blacksburg, VA',\n",
              " 'Exeter, England',\n",
              " 'Sarasota, FL',\n",
              " 'West coast True north  i stan juggalos',\n",
              " 'they/them',\n",
              " 'Walderslade, South East',\n",
              " 'Aryavarta',\n",
              " 'Mysore, India',\n",
              " 'Minas Tirith',\n",
              " 'Bristol',\n",
              " '대한민국 서울',\n",
              " 'Salford',\n",
              " 'Aberdeenshire, Scotland, Unite',\n",
              " 'Springfield, MA',\n",
              " 'Gotham City',\n",
              " 'Devon UK',\n",
              " 'PA',\n",
              " 'North East, England',\n",
              " 'Hollywood, FL',\n",
              " 'Red Faction',\n",
              " 'Mind your own fucking business',\n",
              " 'Midway Point, Tasmania',\n",
              " 'Addis Ababa',\n",
              " 'Malaga, Spain',\n",
              " 'Beirut, Lebanon',\n",
              " 'one - it (s)',\n",
              " 'Nederland',\n",
              " '🕊OneNationUnderGod🇺🇸🦅🇺🇸',\n",
              " 'Kerkrade (L) Netherlands',\n",
              " 'Noida, India',\n",
              " 'south africa',\n",
              " 'Kuala Lumpur City',\n",
              " 'Laguna, Philippines',\n",
              " 'New Jersey',\n",
              " 'Straya, Cunt',\n",
              " 'Winston-Salem, NC',\n",
              " 'Vastseliina, Eesti',\n",
              " 'Flatbush, Brooklyn',\n",
              " 'Global Citizen',\n",
              " 'I live in Karachi, Pakistan.',\n",
              " 'Berlin, Deutschland',\n",
              " 'Southern California, USA',\n",
              " 'Portland, MI',\n",
              " 'Home is where Gods heart is.',\n",
              " 'Eau Claire, WI',\n",
              " '🚲',\n",
              " 'Oakham',\n",
              " 'Royaume du Maroc',\n",
              " 'North Pole',\n",
              " 'THE END OF SPACE-TIME',\n",
              " '  Shinjuku-ku, Tokyo,  Japan',\n",
              " 'Jersey City, NJ',\n",
              " 'Rockhampton, Queensland',\n",
              " '01/27/14 - 08/07/18. 💗🐶',\n",
              " 'Hesperia, CA',\n",
              " '방탄소년단',\n",
              " '𝑻𝑺',\n",
              " 'NO ART IS MINE',\n",
              " 'Louth, Lincolnshire',\n",
              " 'Dallas, Texas',\n",
              " 'Arizona',\n",
              " 'Fife, Scotland',\n",
              " 'dance, dance, with me!',\n",
              " 'Coronado, CA',\n",
              " 'San Pablo City, Calabarzon',\n",
              " 'Milano, Lombardia',\n",
              " 'North Essex, UK',\n",
              " 'Cincinnati, OH',\n",
              " 'Ottawa, Canada',\n",
              " 'Connecticut',\n",
              " 'Copenhagen',\n",
              " 'Bournemouth',\n",
              " 'Leeds',\n",
              " 'Brisbane Australia',\n",
              " 'Siracusa, Sicilia',\n",
              " 'Kaunas, Lithuania',\n",
              " 'The European Union (EU)',\n",
              " 'Oxfordshire',\n",
              " 'Southampton, England',\n",
              " 'calhoun, LA',\n",
              " 'PNW',\n",
              " 'NSW',\n",
              " 'Santa Fe, New Mexico',\n",
              " 'Somewhere in the Clouds',\n",
              " 'Brighton, UK',\n",
              " 'York, England',\n",
              " 'Guam',\n",
              " 'Dundee',\n",
              " 'Maiduguri, Nigeria',\n",
              " 'Kano, Nigeria',\n",
              " 'Switzerland',\n",
              " 'Bengaluru',\n",
              " 'Montreal, Canada',\n",
              " 'Adelaide, SA, Australia',\n",
              " 'Genève, Suisse',\n",
              " '773 / 217',\n",
              " 'Herefordshire',\n",
              " 'right here',\n",
              " 'space',\n",
              " 'SW London',\n",
              " '1200-1500',\n",
              " 'Pearland, TX',\n",
              " 'London and Cymru',\n",
              " 'Kuala Lumpur City, Kuala Lumpu',\n",
              " 'colonized Lenape land (nyc)',\n",
              " 'i despise you giuli',\n",
              " 'Montréal, Québec',\n",
              " 'SF Bay Area',\n",
              " 'California, USA, Earth',\n",
              " 'Hope World',\n",
              " '日本 東京',\n",
              " 'too far from home',\n",
              " 'Online',\n",
              " 'Northern Ireland',\n",
              " 'Lancashire',\n",
              " 'Paris',\n",
              " 'Sta Rosa ,Laguna Philippines',\n",
              " 'Chester, England',\n",
              " 'San Marcos, CA',\n",
              " 'Brazil',\n",
              " 'where @valueraw is',\n",
              " 'Wilkes-Barre, PA',\n",
              " 'Netherlands',\n",
              " 'Lisboa, Portugal',\n",
              " 'Bermuda',\n",
              " 'European Union',\n",
              " 'West Virginia, USA',\n",
              " 'Fresno, CA',\n",
              " 'fgo JP 448 270 473',\n",
              " 'South of FRANCE',\n",
              " 'MS🛫🛬SoCal',\n",
              " 'Male, Maldives',\n",
              " 'United_States',\n",
              " 'Jammu And Kashmir',\n",
              " 'Christchurch, New Zealand',\n",
              " 'Bunbury',\n",
              " 'Lebanon',\n",
              " 'Glebe NSW Australia',\n",
              " 'Dubai',\n",
              " 'Cameraygal Land, Australia',\n",
              " 'USA  🇺🇸',\n",
              " 'Sarawak, Malaysia',\n",
              " 'Louth Lincolnshire',\n",
              " 'Auckland City, New Zealand',\n",
              " 'Lüneburg',\n",
              " 'Beloit, Wi Porter Ave.',\n",
              " 'Antequera, Málaga, Spain',\n",
              " 'Recife, Brasil',\n",
              " 'België',\n",
              " 'Surfers Paradise, Gold Coast',\n",
              " '5th Dimension',\n",
              " 'australia',\n",
              " 'Hampshire, England',\n",
              " 'Greenwood, Mississippi',\n",
              " 'Galway, Ireland',\n",
              " 'Seoul, Republic of Korea',\n",
              " 'Home',\n",
              " 'Devon',\n",
              " 'melbourne',\n",
              " 'Canterbury Cathedral',\n",
              " 'Roma',\n",
              " 'Oceanside, CA',\n",
              " 'Kigali, Rwanda',\n",
              " 'God’s heart',\n",
              " 'Port Charlotte, FL',\n",
              " 'East New York, Brooklyn',\n",
              " 'Afghanistan',\n",
              " 'FL',\n",
              " 'Western Cape, South Africa',\n",
              " 'Warsaw, Poland',\n",
              " 'Pig, Malaysia',\n",
              " '𝒇𝒓𝒂𝒏𝒄𝒐',\n",
              " 'Vancouver, BC',\n",
              " 'Kansas',\n",
              " 'Saskatchewan, Canada',\n",
              " 'UK\\n\\n',\n",
              " 'Madrid',\n",
              " 'Maryland, USA',\n",
              " 'Durban',\n",
              " 'Reno, NV',\n",
              " 'Selangor, Malaysia',\n",
              " 'fan acc',\n",
              " 'Hampton, VA Ultra V.I.P Events',\n",
              " 'Salem, OR',\n",
              " 'Islamabad',\n",
              " 'Tokyo',\n",
              " 'Israel',\n",
              " 'ÜT 3.099457,101.681025',\n",
              " 'Oklahoma, USA',\n",
              " 'Cebu City, Central Visayas',\n",
              " 'Pietermaritzburg, South Africa',\n",
              " 'Cairo',\n",
              " 'Denmark',\n",
              " 'Americas | United Kingdom',\n",
              " 'Highlands',\n",
              " 'Malawi',\n",
              " 'Bangtan Universe',\n",
              " 'Rock Hill, SC',\n",
              " 'SLC',\n",
              " 'Nagpur, India',\n",
              " 'Cairo, Egypt',\n",
              " 'Outback Oz',\n",
              " 'Bangalore, India',\n",
              " 'Cagayan De Oro City',\n",
              " 'Queens, NY',\n",
              " 'Lusaka, Zambia',\n",
              " 'India 🇮🇳',\n",
              " 'Eugene, OR',\n",
              " 'Aalborg, Denmark',\n",
              " 'Ireland and Worldwide',\n",
              " 'Stamford, CT',\n",
              " 'Indianapolis, IN',\n",
              " 'Near you',\n",
              " 'Spry, PA',\n",
              " 'Beeston, Nottingham, UK',\n",
              " 'Gainesville, FL',\n",
              " 'Fremont Street, Des Moines',\n",
              " 'Sussex UK',\n",
              " 'Philadelphia PA',\n",
              " 'Warwick England',\n",
              " 'West Yorkshire',\n",
              " 'Milan, Italy',\n",
              " 'Raleigh, NC',\n",
              " 'Bahrain',\n",
              " 'USA & Czech Republic',\n",
              " 'Palestine',\n",
              " 'Jammu, Jammu And Kashmir',\n",
              " 'Inverleith Edinburgh',\n",
              " 'Ireland | Scotland | Inuit | Россия | Skandinavien',\n",
              " 'www.pillanews.com/',\n",
              " 'Muzaffarnagar, Uttar Pradesh',\n",
              " 'West Bromwich, England',\n",
              " 'मुंबई, भारत',\n",
              " 'Manila City',\n",
              " 'Tacoma',\n",
              " 'Surrey, UK',\n",
              " 'Ballina nsw australia',\n",
              " 'Website Launch TBA',\n",
              " 'Anywhere in the Pentagram',\n",
              " 'Maryland',\n",
              " 'Texas/Florida',\n",
              " 'Hamilton, Ontario',\n",
              " 'Weardale, Co Durham. England ',\n",
              " 'Berlin, Germany',\n",
              " 'Canada, USA',\n",
              " 'Tangerang, Banten',\n",
              " 'City of London, London',\n",
              " 'Box Elder, SD',\n",
              " 'Staffordshire,England',\n",
              " 'East Africa',\n",
              " 'Kabul, Afghanistan',\n",
              " 'Anaheim, CA',\n",
              " '都内',\n",
              " 'Pittsburgh',\n",
              " 'Home.',\n",
              " 'San Pedro, Calabarzon',\n",
              " 'Will County Illinois',\n",
              " 'South Australia, Australia',\n",
              " 'New Zealand 🇳🇿',\n",
              " 'Norfolk, VA',\n",
              " 'Alexandria NSW 2015',\n",
              " 'Faerie - Aether',\n",
              " 'Sligo, Ireland',\n",
              " 'Delhi, India',\n",
              " 'West Palm Beach, FL',\n",
              " 'Citizen of America',\n",
              " 'Eugene,OR. USA',\n",
              " 'Chicago➡️San Diego➡️Seattle',\n",
              " 'gguks pocket ♡',\n",
              " 'Home of The MASTERS ⛳️',\n",
              " 'sousei get out from the gacha',\n",
              " '東京',\n",
              " 'Latvia',\n",
              " 'Lynden, WA',\n",
              " 'Massachusetts USA',\n",
              " 'Cyprus',\n",
              " 'Many Places',\n",
              " 'Africa🌏',\n",
              " 'Cedar Hill, MO',\n",
              " 'Kamloops, British Columbia',\n",
              " 'Mexico',\n",
              " 'Rawalpindi, Pakistan',\n",
              " 'Baghdad, Iraq',\n",
              " 'National Helpline 0345 711 4141',\n",
              " 'Reading,Berkshire,England,UK',\n",
              " 'Kentucky, USAhttps',\n",
              " 'Hellianz Arena',\n",
              " 'The moon',\n",
              " 'Keith,Moray',\n",
              " 'Newcastle upon tyne',\n",
              " 'Telford, England',\n",
              " 'California & Nevada',\n",
              " 'w domu u keanu',\n",
              " 'Medford, OR',\n",
              " 'Yagi',\n",
              " 'Gods country= The USofA',\n",
              " 'The Void',\n",
              " 'Kilkenny, Ireland',\n",
              " 'Israel 🇮🇱',\n",
              " 'mots 7 - taegi subunit',\n",
              " 'Patna',\n",
              " 'Williamsburg, VA, JamestownVA',\n",
              " 'Estonia',\n",
              " 'islamabad',\n",
              " 'Region Quad Axel',\n",
              " 'D right place @ d right time',\n",
              " 'Nz exUK',\n",
              " 'MichaelJosephMiller@email.com',\n",
              " 'abuja',\n",
              " 'Sydney, Australia.',\n",
              " 'Leeds, UK',\n",
              " 'Port Elizabeth, South Africa',\n",
              " 'The sky under the sea',\n",
              " 'Gräfenberg Spot',\n",
              " 'Louisville, Ky',\n",
              " 'Anishinaabe/Haudenosaunee land',\n",
              " 'Lelystad, Nederland',\n",
              " 'Grantchester Meadows.',\n",
              " 'Toowoomba, QLD, Australia',\n",
              " 'at home',\n",
              " 'لبنان - Lebanon',\n",
              " 'Thika Kenya',\n",
              " 'Las Vegas, NV               ',\n",
              " 'Hre-Gutu - Masvingo -Zimbabwe',\n",
              " 'Transnational Solidarity',\n",
              " 'kylie',\n",
              " 'Dayton, OH',\n",
              " 'The forgotten place',\n",
              " 'Lyon, France',\n",
              " 'The Vulgar Unicorn',\n",
              " 'Huddersfield, England',\n",
              " 'TORONTO',\n",
              " '전원우',\n",
              " 'San Ferdo Valley',\n",
              " 'DELHI, KASHMIR',\n",
              " 'Tacoma, WA',\n",
              " 'Madison, WI',\n",
              " 'Planet Ice, Altrincham ',\n",
              " 'wrιтer accoυnт┆accoυnтѕ lιѕтed',\n",
              " 'Newsletter 👉',\n",
              " '24, Turkish, rt heavy 🥴',\n",
              " 'In Sinners Court',\n",
              " 'Glendale, Ca',\n",
              " 'Bhubaneshwar, India',\n",
              " 'adrian ꨄ multi',\n",
              " 'Sylvan Lake, AB',\n",
              " 'Freedom',\n",
              " 'Creag Longairt and Paris',\n",
              " 'BEN',\n",
              " 'Tauranga New Zealand',\n",
              " 'おもちゃ屋さん',\n",
              " 'Mostly London',\n",
              " 'phx —— he/him ♎︎',\n",
              " 'Konstanz, Deutschland',\n",
              " 'you fear 𝐃𝐄𝐀𝐓𝐇 but don’t live life ━ while i 𝐋𝐀𝐔𝐆𝐇 at  the  odds、live  my life  so  well  that   death  will 𝐓𝐑𝐄𝐌𝐁𝐋𝐄 to take me。',\n",
              " 'McMurdo Station, Antarctica',\n",
              " 'Weener',\n",
              " 'Carlisle',\n",
              " 'Where am I?',\n",
              " 'Crowthorne',\n",
              " 'Oceanside as much as possible',\n",
              " 'Nairobi, Afrika',\n",
              " '兵庫 神戸市 中央区',\n",
              " 'Tamuc ✈️ DDD',\n",
              " 'Santiago de Chile',\n",
              " 'church + katrina❤️',\n",
              " 'Kanda',\n",
              " 'x1s heart',\n",
              " 'Dobsonville, Soweto ',\n",
              " 'qc',\n",
              " 'Calgary AB',\n",
              " 'jahristians/dirtx7',\n",
              " 'California Republic(916/279 area codes,#AD08,#SD04,and #CA07)and G+ 103299284272970583086',\n",
              " 'Limousin Area, France',\n",
              " 'The Lone Star State',\n",
              " 'Witney, Oxfordshire',\n",
              " 'in this bangtan shit for life',\n",
              " 'planet earth',\n",
              " '-sniper- Food Tech UB 15',\n",
              " 'Kakamega | Kenya🇰',\n",
              " 'Gold Coast',\n",
              " 'Amsterdam 🇳🇱',\n",
              " 'Somerville, NJ',\n",
              " 'Delayed somewhere..',\n",
              " 'Staten Island, NY, USA',\n",
              " 'Empire state. Empire city.',\n",
              " 'Glasgow Scotland',\n",
              " 'Victoria Road, Louth, LN11 0BX',\n",
              " 'Myanmar',\n",
              " 'Wherever I Lay My Hat',\n",
              " 'DAMMAM',\n",
              " 'Sussex, UK',\n",
              " 'Clayton, DE',\n",
              " 'Geelong, Victoria, Australia',\n",
              " 'Beach is better',\n",
              " 'Puglia, Italia',\n",
              " 'cix bts txt exo skz wayV',\n",
              " 'Queen City, TX',\n",
              " 'GFRIENDSHIDAE 💗',\n",
              " 'Bremerton, WA',\n",
              " 'Turku, Finland',\n",
              " 'Penrith, Sydney',\n",
              " 'Canada.',\n",
              " 'West Yorkshire,U.K',\n",
              " 'Everywhere, USA',\n",
              " 'Panama',\n",
              " 'kung san may pagkain ✊🏻',\n",
              " 'Everwhere',\n",
              " 'Became Active September 2019',\n",
              " '🇰🇪 | 🏁™',\n",
              " '•lokiract •ace •she/her',\n",
              " 'SW Nebraska',\n",
              " 'Clevelander in lewiston Idaho',\n",
              " 'North Wales',\n",
              " 'Toronto, NYC, London',\n",
              " 'Louisiana',\n",
              " '97654 Bastheim',\n",
              " 'Aqui',\n",
              " 'U',\n",
              " 'Capão Redondo, São Paulo',\n",
              " 'start//end',\n",
              " 'Herrliberg, Schweiz',\n",
              " '0/2',\n",
              " 'West Roxbury, Boston',\n",
              " 'Valhalla, Maui & Geneva',\n",
              " 'Vantaa, FINLAND',\n",
              " 'Adelaide,  Australia',\n",
              " '🇵🇭 x 🇬🇧',\n",
              " 'Riverside, CA / Mesa, AZ',\n",
              " 'Cochin, India',\n",
              " 'RONDOSI IN BUSHBUCKRIDGE.',\n",
              " 'Your Location',\n",
              " 'Kumasi, Ghana',\n",
              " 'Eivissa, Spain',\n",
              " 'Largo, PG County, MD',\n",
              " 'Islamic Republic of Pakistan',\n",
              " 'Nashville TN',\n",
              " 'Bogor,Jawa Barat',\n",
              " 'Manchester🇬🇧 UK',\n",
              " 'Muscat, Oman',\n",
              " 'Bellarine Peninsula, Victoria',\n",
              " 'Atascocita, Texas',\n",
              " 'Lafayette ↔️ Baton Rouge',\n",
              " 'nmsu 🤠',\n",
              " 'Somewhere I used to call home',\n",
              " 'Brooklyn, NY / Newark, DE',\n",
              " 'arkham asylum',\n",
              " 'Oahu, Hawaii',\n",
              " 'home',\n",
              " 'Yeovil, England',\n",
              " 'hpb • kdkn • glam • pmmr  • ef',\n",
              " 'Holly, MI',\n",
              " 'West London, England',\n",
              " 'Suffolk Uk',\n",
              " 'somewhere sauntering above',\n",
              " 'He/Him · Demisexual · INFP-T',\n",
              " 'Betong, Sarawak',\n",
              " 'Evansville, IN',\n",
              " 'Sirius',\n",
              " 'Tool, Texas',\n",
              " 'Vancouver BC',\n",
              " 'ملتان, پاکستان',\n",
              " 'in that pussy 🏳️\\u200d🌈',\n",
              " 'bg firewatch | icon me',\n",
              " 'My Own Bubble&I love it 😎',\n",
              " 'hentaihaven',\n",
              " 'Echo Creek',\n",
              " 'florencegrace13@gmail.com',\n",
              " 'Hyogo, Japan',\n",
              " 'En el borde de todo',\n",
              " 'McAllen, TX 🌴🌺',\n",
              " 'en Miraflores, Lima',\n",
              " 'Santa Rosa City, Calabarzon',\n",
              " 'Tanjong Dua Belas, Selangor',\n",
              " 'Brunswick, MD',\n",
              " 'Delhi, Karaikal',\n",
              " 'f(5HINee)']"
            ]
          },
          "metadata": {
            "tags": []
          },
          "execution_count": 69
        }
      ]
    },
    {
      "cell_type": "code",
      "metadata": {
        "id": "m3sMRbhkgYEA"
      },
      "source": [
        "# geolocated = list(map(lambda x: [x,localizator.geocode(x,timeout=None)[1] if localizator.geocode(x,timeout=None) else None],location2))\n",
        "# geolocated = pd.DataFrame(geolocated)\n",
        "# geolocated.columns = ['locat','latlong']\n",
        "# try:\n",
        "#   geolocated['lat'] = geolocated.latlong.apply(lambda x: x[0])\n",
        "#   geolocated['lon'] = geolocated.latlong.apply(lambda x: x[1])\n",
        "#   geolocated.drop('latlong',axis=1, inplace=True)\n",
        "# except:\n",
        "#   pass"
      ],
      "execution_count": 70,
      "outputs": []
    },
    {
      "cell_type": "code",
      "metadata": {
        "id": "krTaZ9OTyX_N",
        "colab": {
          "base_uri": "https://localhost:8080/",
          "height": 388
        },
        "outputId": "d71f0082-47be-46ad-84f5-7b213178d454"
      },
      "source": [
        "geolocated = pd.read_csv('coords.csv')"
      ],
      "execution_count": 71,
      "outputs": [
        {
          "output_type": "error",
          "ename": "FileNotFoundError",
          "evalue": "ignored",
          "traceback": [
            "\u001b[0;31m---------------------------------------------------------------------------\u001b[0m",
            "\u001b[0;31mFileNotFoundError\u001b[0m                         Traceback (most recent call last)",
            "\u001b[0;32m<ipython-input-71-9bc5d6469fc4>\u001b[0m in \u001b[0;36m<module>\u001b[0;34m()\u001b[0m\n\u001b[0;32m----> 1\u001b[0;31m \u001b[0mgeolocated\u001b[0m \u001b[0;34m=\u001b[0m \u001b[0mpd\u001b[0m\u001b[0;34m.\u001b[0m\u001b[0mread_csv\u001b[0m\u001b[0;34m(\u001b[0m\u001b[0;34m'coords.csv'\u001b[0m\u001b[0;34m)\u001b[0m\u001b[0;34m\u001b[0m\u001b[0;34m\u001b[0m\u001b[0m\n\u001b[0m",
            "\u001b[0;32m/usr/local/lib/python3.7/dist-packages/pandas/io/parsers.py\u001b[0m in \u001b[0;36mread_csv\u001b[0;34m(filepath_or_buffer, sep, delimiter, header, names, index_col, usecols, squeeze, prefix, mangle_dupe_cols, dtype, engine, converters, true_values, false_values, skipinitialspace, skiprows, skipfooter, nrows, na_values, keep_default_na, na_filter, verbose, skip_blank_lines, parse_dates, infer_datetime_format, keep_date_col, date_parser, dayfirst, cache_dates, iterator, chunksize, compression, thousands, decimal, lineterminator, quotechar, quoting, doublequote, escapechar, comment, encoding, dialect, error_bad_lines, warn_bad_lines, delim_whitespace, low_memory, memory_map, float_precision)\u001b[0m\n\u001b[1;32m    686\u001b[0m     )\n\u001b[1;32m    687\u001b[0m \u001b[0;34m\u001b[0m\u001b[0m\n\u001b[0;32m--> 688\u001b[0;31m     \u001b[0;32mreturn\u001b[0m \u001b[0m_read\u001b[0m\u001b[0;34m(\u001b[0m\u001b[0mfilepath_or_buffer\u001b[0m\u001b[0;34m,\u001b[0m \u001b[0mkwds\u001b[0m\u001b[0;34m)\u001b[0m\u001b[0;34m\u001b[0m\u001b[0;34m\u001b[0m\u001b[0m\n\u001b[0m\u001b[1;32m    689\u001b[0m \u001b[0;34m\u001b[0m\u001b[0m\n\u001b[1;32m    690\u001b[0m \u001b[0;34m\u001b[0m\u001b[0m\n",
            "\u001b[0;32m/usr/local/lib/python3.7/dist-packages/pandas/io/parsers.py\u001b[0m in \u001b[0;36m_read\u001b[0;34m(filepath_or_buffer, kwds)\u001b[0m\n\u001b[1;32m    452\u001b[0m \u001b[0;34m\u001b[0m\u001b[0m\n\u001b[1;32m    453\u001b[0m     \u001b[0;31m# Create the parser.\u001b[0m\u001b[0;34m\u001b[0m\u001b[0;34m\u001b[0m\u001b[0;34m\u001b[0m\u001b[0m\n\u001b[0;32m--> 454\u001b[0;31m     \u001b[0mparser\u001b[0m \u001b[0;34m=\u001b[0m \u001b[0mTextFileReader\u001b[0m\u001b[0;34m(\u001b[0m\u001b[0mfp_or_buf\u001b[0m\u001b[0;34m,\u001b[0m \u001b[0;34m**\u001b[0m\u001b[0mkwds\u001b[0m\u001b[0;34m)\u001b[0m\u001b[0;34m\u001b[0m\u001b[0;34m\u001b[0m\u001b[0m\n\u001b[0m\u001b[1;32m    455\u001b[0m \u001b[0;34m\u001b[0m\u001b[0m\n\u001b[1;32m    456\u001b[0m     \u001b[0;32mif\u001b[0m \u001b[0mchunksize\u001b[0m \u001b[0;32mor\u001b[0m \u001b[0miterator\u001b[0m\u001b[0;34m:\u001b[0m\u001b[0;34m\u001b[0m\u001b[0;34m\u001b[0m\u001b[0m\n",
            "\u001b[0;32m/usr/local/lib/python3.7/dist-packages/pandas/io/parsers.py\u001b[0m in \u001b[0;36m__init__\u001b[0;34m(self, f, engine, **kwds)\u001b[0m\n\u001b[1;32m    946\u001b[0m             \u001b[0mself\u001b[0m\u001b[0;34m.\u001b[0m\u001b[0moptions\u001b[0m\u001b[0;34m[\u001b[0m\u001b[0;34m\"has_index_names\"\u001b[0m\u001b[0;34m]\u001b[0m \u001b[0;34m=\u001b[0m \u001b[0mkwds\u001b[0m\u001b[0;34m[\u001b[0m\u001b[0;34m\"has_index_names\"\u001b[0m\u001b[0;34m]\u001b[0m\u001b[0;34m\u001b[0m\u001b[0;34m\u001b[0m\u001b[0m\n\u001b[1;32m    947\u001b[0m \u001b[0;34m\u001b[0m\u001b[0m\n\u001b[0;32m--> 948\u001b[0;31m         \u001b[0mself\u001b[0m\u001b[0;34m.\u001b[0m\u001b[0m_make_engine\u001b[0m\u001b[0;34m(\u001b[0m\u001b[0mself\u001b[0m\u001b[0;34m.\u001b[0m\u001b[0mengine\u001b[0m\u001b[0;34m)\u001b[0m\u001b[0;34m\u001b[0m\u001b[0;34m\u001b[0m\u001b[0m\n\u001b[0m\u001b[1;32m    949\u001b[0m \u001b[0;34m\u001b[0m\u001b[0m\n\u001b[1;32m    950\u001b[0m     \u001b[0;32mdef\u001b[0m \u001b[0mclose\u001b[0m\u001b[0;34m(\u001b[0m\u001b[0mself\u001b[0m\u001b[0;34m)\u001b[0m\u001b[0;34m:\u001b[0m\u001b[0;34m\u001b[0m\u001b[0;34m\u001b[0m\u001b[0m\n",
            "\u001b[0;32m/usr/local/lib/python3.7/dist-packages/pandas/io/parsers.py\u001b[0m in \u001b[0;36m_make_engine\u001b[0;34m(self, engine)\u001b[0m\n\u001b[1;32m   1178\u001b[0m     \u001b[0;32mdef\u001b[0m \u001b[0m_make_engine\u001b[0m\u001b[0;34m(\u001b[0m\u001b[0mself\u001b[0m\u001b[0;34m,\u001b[0m \u001b[0mengine\u001b[0m\u001b[0;34m=\u001b[0m\u001b[0;34m\"c\"\u001b[0m\u001b[0;34m)\u001b[0m\u001b[0;34m:\u001b[0m\u001b[0;34m\u001b[0m\u001b[0;34m\u001b[0m\u001b[0m\n\u001b[1;32m   1179\u001b[0m         \u001b[0;32mif\u001b[0m \u001b[0mengine\u001b[0m \u001b[0;34m==\u001b[0m \u001b[0;34m\"c\"\u001b[0m\u001b[0;34m:\u001b[0m\u001b[0;34m\u001b[0m\u001b[0;34m\u001b[0m\u001b[0m\n\u001b[0;32m-> 1180\u001b[0;31m             \u001b[0mself\u001b[0m\u001b[0;34m.\u001b[0m\u001b[0m_engine\u001b[0m \u001b[0;34m=\u001b[0m \u001b[0mCParserWrapper\u001b[0m\u001b[0;34m(\u001b[0m\u001b[0mself\u001b[0m\u001b[0;34m.\u001b[0m\u001b[0mf\u001b[0m\u001b[0;34m,\u001b[0m \u001b[0;34m**\u001b[0m\u001b[0mself\u001b[0m\u001b[0;34m.\u001b[0m\u001b[0moptions\u001b[0m\u001b[0;34m)\u001b[0m\u001b[0;34m\u001b[0m\u001b[0;34m\u001b[0m\u001b[0m\n\u001b[0m\u001b[1;32m   1181\u001b[0m         \u001b[0;32melse\u001b[0m\u001b[0;34m:\u001b[0m\u001b[0;34m\u001b[0m\u001b[0;34m\u001b[0m\u001b[0m\n\u001b[1;32m   1182\u001b[0m             \u001b[0;32mif\u001b[0m \u001b[0mengine\u001b[0m \u001b[0;34m==\u001b[0m \u001b[0;34m\"python\"\u001b[0m\u001b[0;34m:\u001b[0m\u001b[0;34m\u001b[0m\u001b[0;34m\u001b[0m\u001b[0m\n",
            "\u001b[0;32m/usr/local/lib/python3.7/dist-packages/pandas/io/parsers.py\u001b[0m in \u001b[0;36m__init__\u001b[0;34m(self, src, **kwds)\u001b[0m\n\u001b[1;32m   2008\u001b[0m         \u001b[0mkwds\u001b[0m\u001b[0;34m[\u001b[0m\u001b[0;34m\"usecols\"\u001b[0m\u001b[0;34m]\u001b[0m \u001b[0;34m=\u001b[0m \u001b[0mself\u001b[0m\u001b[0;34m.\u001b[0m\u001b[0musecols\u001b[0m\u001b[0;34m\u001b[0m\u001b[0;34m\u001b[0m\u001b[0m\n\u001b[1;32m   2009\u001b[0m \u001b[0;34m\u001b[0m\u001b[0m\n\u001b[0;32m-> 2010\u001b[0;31m         \u001b[0mself\u001b[0m\u001b[0;34m.\u001b[0m\u001b[0m_reader\u001b[0m \u001b[0;34m=\u001b[0m \u001b[0mparsers\u001b[0m\u001b[0;34m.\u001b[0m\u001b[0mTextReader\u001b[0m\u001b[0;34m(\u001b[0m\u001b[0msrc\u001b[0m\u001b[0;34m,\u001b[0m \u001b[0;34m**\u001b[0m\u001b[0mkwds\u001b[0m\u001b[0;34m)\u001b[0m\u001b[0;34m\u001b[0m\u001b[0;34m\u001b[0m\u001b[0m\n\u001b[0m\u001b[1;32m   2011\u001b[0m         \u001b[0mself\u001b[0m\u001b[0;34m.\u001b[0m\u001b[0munnamed_cols\u001b[0m \u001b[0;34m=\u001b[0m \u001b[0mself\u001b[0m\u001b[0;34m.\u001b[0m\u001b[0m_reader\u001b[0m\u001b[0;34m.\u001b[0m\u001b[0munnamed_cols\u001b[0m\u001b[0;34m\u001b[0m\u001b[0;34m\u001b[0m\u001b[0m\n\u001b[1;32m   2012\u001b[0m \u001b[0;34m\u001b[0m\u001b[0m\n",
            "\u001b[0;32mpandas/_libs/parsers.pyx\u001b[0m in \u001b[0;36mpandas._libs.parsers.TextReader.__cinit__\u001b[0;34m()\u001b[0m\n",
            "\u001b[0;32mpandas/_libs/parsers.pyx\u001b[0m in \u001b[0;36mpandas._libs.parsers.TextReader._setup_parser_source\u001b[0;34m()\u001b[0m\n",
            "\u001b[0;31mFileNotFoundError\u001b[0m: [Errno 2] No such file or directory: 'coords.csv'"
          ]
        }
      ]
    },
    {
      "cell_type": "code",
      "metadata": {
        "id": "lTgPkk8dJdZi"
      },
      "source": [
        "geolocated.drop(['Unnamed: 0','Unnamed: 0.1'],1,inplace=True)\n"
      ],
      "execution_count": null,
      "outputs": []
    },
    {
      "cell_type": "code",
      "metadata": {
        "id": "AFeaX-ifJ0hm"
      },
      "source": [
        "geolocated['latlong']=geolocated.latlong.apply(lambda x: x[1:-1].split(','))"
      ],
      "execution_count": null,
      "outputs": []
    },
    {
      "cell_type": "code",
      "metadata": {
        "id": "iJIB9Y5EJQ4_"
      },
      "source": [
        "  geolocated['lat'] = geolocated.latlong.apply(lambda x: x[0])\n",
        "  geolocated['lon'] = geolocated.latlong.apply(lambda x: x[1])\n",
        "  geolocated.drop('latlong',axis=1, inplace=True)"
      ],
      "execution_count": null,
      "outputs": []
    },
    {
      "cell_type": "code",
      "metadata": {
        "id": "EXQkOaJUJTv9"
      },
      "source": [
        "geolocated"
      ],
      "execution_count": null,
      "outputs": []
    },
    {
      "cell_type": "code",
      "metadata": {
        "id": "v5b1PXZCNNgK"
      },
      "source": [
        "geolocated['lat']=pd.to_numeric(geolocated['lat'])\n",
        "geolocated['lon']=pd.to_numeric(geolocated['lon'])"
      ],
      "execution_count": null,
      "outputs": []
    },
    {
      "cell_type": "code",
      "metadata": {
        "id": "i_w6SzaFIa2Y"
      },
      "source": [
        "world_map = gpd.read_file('World_Countries.shp')\n",
        "fig,ax = plt.subplots(figsize=(15,15))\n",
        "world_map.plot(ax=ax)"
      ],
      "execution_count": null,
      "outputs": []
    },
    {
      "cell_type": "code",
      "metadata": {
        "id": "Etdoaf7DMJRC"
      },
      "source": [
        "crs = {'init':'epsg:4326'}"
      ],
      "execution_count": null,
      "outputs": []
    },
    {
      "cell_type": "code",
      "metadata": {
        "id": "9PnWgx73Md9q"
      },
      "source": [
        "geometry = [Point(xy) for xy in zip(geolocated['lon'],geolocated['lat'])]"
      ],
      "execution_count": null,
      "outputs": []
    },
    {
      "cell_type": "code",
      "metadata": {
        "id": "SdVjOvtMN_JC"
      },
      "source": [
        "geo_df = gpd.GeoDataFrame(geolocated,crs=crs,geometry=geometry)\n",
        "geo_df.head()"
      ],
      "execution_count": null,
      "outputs": []
    },
    {
      "cell_type": "code",
      "metadata": {
        "id": "0Y06i8cYOVBJ"
      },
      "source": [
        "fig,ax = plt.subplots(figsize=(25,25))\n",
        "ax.set(facecolor='Powderblue')\n",
        "ax.set_alpha(0.2)\n",
        "world_map.plot(ax=ax, alpha=1, color='white')\n",
        "geo_df.plot(ax=ax,markersize=30,color='darkviolet',marker='o',alpha=0.3)"
      ],
      "execution_count": null,
      "outputs": []
    },
    {
      "cell_type": "markdown",
      "metadata": {
        "id": "Ui6tr6Ku2Iok"
      },
      "source": [
        "# Word cloud"
      ]
    },
    {
      "cell_type": "code",
      "metadata": {
        "id": "IX0d1FqY2LYX"
      },
      "source": [
        "import matplotlib as mpl\n",
        "%matplotlib inline\n",
        "\n",
        "from wordcloud import WordCloud, STOPWORDS"
      ],
      "execution_count": 72,
      "outputs": []
    },
    {
      "cell_type": "code",
      "metadata": {
        "colab": {
          "base_uri": "https://localhost:8080/"
        },
        "id": "2Umi0rzijCFZ",
        "outputId": "e1668669-bd20-4db7-c276-c1ff945df997"
      },
      "source": [
        "countries_mask = df['location'].value_counts()\n",
        "countries_mask"
      ],
      "execution_count": 73,
      "outputs": [
        {
          "output_type": "execute_result",
          "data": {
            "text/plain": [
              "                          3418\n",
              "USA                        395\n",
              "UK                         369\n",
              "India                      101\n",
              "Australia                   83\n",
              "                          ... \n",
              "Promised Land                1\n",
              "Corpus Christi, TX           1\n",
              "ÜT 7.8511327,3.9484197       1\n",
              "NAIROBI-KENYA                1\n",
              "Great White North            1\n",
              "Name: location, Length: 4469, dtype: int64"
            ]
          },
          "metadata": {
            "tags": []
          },
          "execution_count": 73
        }
      ]
    },
    {
      "cell_type": "markdown",
      "metadata": {
        "id": "g4CSwnmOyYv7"
      },
      "source": [
        "# Top3 countries\n",
        "\n",
        "we select top 3 countries with more tweets"
      ]
    },
    {
      "cell_type": "markdown",
      "metadata": {
        "id": "yl9Pzv9e2FvG"
      },
      "source": [
        "## Top words USA"
      ]
    },
    {
      "cell_type": "code",
      "metadata": {
        "colab": {
          "base_uri": "https://localhost:8080/",
          "height": 445
        },
        "id": "vqaVpA6TjQ9b",
        "outputId": "aa216541-6ef2-4898-d710-1ee7ddf77e92"
      },
      "source": [
        "df_usa = df[df['location'] == countries_mask.index[1]]\n",
        "df_usa"
      ],
      "execution_count": 75,
      "outputs": [
        {
          "output_type": "execute_result",
          "data": {
            "text/html": [
              "<div>\n",
              "<style scoped>\n",
              "    .dataframe tbody tr th:only-of-type {\n",
              "        vertical-align: middle;\n",
              "    }\n",
              "\n",
              "    .dataframe tbody tr th {\n",
              "        vertical-align: top;\n",
              "    }\n",
              "\n",
              "    .dataframe thead th {\n",
              "        text-align: right;\n",
              "    }\n",
              "</style>\n",
              "<table border=\"1\" class=\"dataframe\">\n",
              "  <thead>\n",
              "    <tr style=\"text-align: right;\">\n",
              "      <th></th>\n",
              "      <th>keyword</th>\n",
              "      <th>location</th>\n",
              "      <th>text</th>\n",
              "      <th>target</th>\n",
              "      <th>length</th>\n",
              "    </tr>\n",
              "    <tr>\n",
              "      <th>id</th>\n",
              "      <th></th>\n",
              "      <th></th>\n",
              "      <th></th>\n",
              "      <th></th>\n",
              "      <th></th>\n",
              "    </tr>\n",
              "  </thead>\n",
              "  <tbody>\n",
              "    <tr>\n",
              "      <th>2</th>\n",
              "      <td>ablaze</td>\n",
              "      <td>USA</td>\n",
              "      <td>arsonist sets cars ablaze at dealership</td>\n",
              "      <td>1</td>\n",
              "      <td>40</td>\n",
              "    </tr>\n",
              "    <tr>\n",
              "      <th>58</th>\n",
              "      <td>accident</td>\n",
              "      <td>USA</td>\n",
              "      <td>in completely available public information  th...</td>\n",
              "      <td>0</td>\n",
              "      <td>118</td>\n",
              "    </tr>\n",
              "    <tr>\n",
              "      <th>71</th>\n",
              "      <td>aftershock</td>\n",
              "      <td>USA</td>\n",
              "      <td>honored to have an essay in aftershock marking...</td>\n",
              "      <td>0</td>\n",
              "      <td>122</td>\n",
              "    </tr>\n",
              "    <tr>\n",
              "      <th>78</th>\n",
              "      <td>aftershock</td>\n",
              "      <td>USA</td>\n",
              "      <td>puerto rico hit by another  magnitude aftersho...</td>\n",
              "      <td>1</td>\n",
              "      <td>55</td>\n",
              "    </tr>\n",
              "    <tr>\n",
              "      <th>85</th>\n",
              "      <td>aftershock</td>\n",
              "      <td>USA</td>\n",
              "      <td>please pray for puertorico</td>\n",
              "      <td>0</td>\n",
              "      <td>27</td>\n",
              "    </tr>\n",
              "    <tr>\n",
              "      <th>...</th>\n",
              "      <td>...</td>\n",
              "      <td>...</td>\n",
              "      <td>...</td>\n",
              "      <td>...</td>\n",
              "      <td>...</td>\n",
              "    </tr>\n",
              "    <tr>\n",
              "      <th>11213</th>\n",
              "      <td>wounds</td>\n",
              "      <td>USA</td>\n",
              "      <td>when grandpa said wounds need air whew watchme...</td>\n",
              "      <td>0</td>\n",
              "      <td>50</td>\n",
              "    </tr>\n",
              "    <tr>\n",
              "      <th>11259</th>\n",
              "      <td>wreck</td>\n",
              "      <td>USA</td>\n",
              "      <td>why was the sequel to “wreck it ralph” named “...</td>\n",
              "      <td>0</td>\n",
              "      <td>115</td>\n",
              "    </tr>\n",
              "    <tr>\n",
              "      <th>11274</th>\n",
              "      <td>wreck</td>\n",
              "      <td>USA</td>\n",
              "      <td>i’m thinking car chase leading to a wreck on t...</td>\n",
              "      <td>0</td>\n",
              "      <td>56</td>\n",
              "    </tr>\n",
              "    <tr>\n",
              "      <th>11307</th>\n",
              "      <td>wreckage</td>\n",
              "      <td>USA</td>\n",
              "      <td>actually they flipped a coin ¢ piece for it ac...</td>\n",
              "      <td>0</td>\n",
              "      <td>74</td>\n",
              "    </tr>\n",
              "    <tr>\n",
              "      <th>11324</th>\n",
              "      <td>wreckage</td>\n",
              "      <td>USA</td>\n",
              "      <td>why wouldn’t rebels investigate the wreckage i...</td>\n",
              "      <td>0</td>\n",
              "      <td>99</td>\n",
              "    </tr>\n",
              "  </tbody>\n",
              "</table>\n",
              "<p>395 rows × 5 columns</p>\n",
              "</div>"
            ],
            "text/plain": [
              "          keyword location  ... target  length\n",
              "id                          ...               \n",
              "2          ablaze      USA  ...      1      40\n",
              "58       accident      USA  ...      0     118\n",
              "71     aftershock      USA  ...      0     122\n",
              "78     aftershock      USA  ...      1      55\n",
              "85     aftershock      USA  ...      0      27\n",
              "...           ...      ...  ...    ...     ...\n",
              "11213      wounds      USA  ...      0      50\n",
              "11259       wreck      USA  ...      0     115\n",
              "11274       wreck      USA  ...      0      56\n",
              "11307    wreckage      USA  ...      0      74\n",
              "11324    wreckage      USA  ...      0      99\n",
              "\n",
              "[395 rows x 5 columns]"
            ]
          },
          "metadata": {
            "tags": []
          },
          "execution_count": 75
        }
      ]
    },
    {
      "cell_type": "code",
      "metadata": {
        "id": "R0TjcLbMj-M3"
      },
      "source": [
        "mpl.rcParams['font.size'] = 15\n",
        "mpl.rcParams['savefig.dpi'] = 100\n",
        "mpl.rcParams['figure.subplot.bottom'] = .1"
      ],
      "execution_count": 76,
      "outputs": []
    },
    {
      "cell_type": "code",
      "metadata": {
        "colab": {
          "base_uri": "https://localhost:8080/",
          "height": 215
        },
        "id": "8_4o49nJmeCe",
        "outputId": "f3f238dd-e6fd-42d8-db85-469956fc6e95"
      },
      "source": [
        "stopwords = set(STOPWORDS)\n",
        "\n",
        "wordcloud = WordCloud(\n",
        "                        background_color='white',\n",
        "                        stopwords=stopwords,\n",
        "                        max_words = 20,\n",
        "                        max_font_size = 40,\n",
        "                        random_state = 42,\n",
        "                        ).generate(str(df_usa['text']))\n",
        "\n",
        "print(wordcloud)\n",
        "fig = plt.figure(1)\n",
        "plt.imshow(wordcloud)\n",
        "plt.axis('off')\n",
        "plt.show()"
      ],
      "execution_count": 77,
      "outputs": [
        {
          "output_type": "stream",
          "text": [
            "<wordcloud.wordcloud.WordCloud object at 0x7f9760e99ed0>\n"
          ],
          "name": "stdout"
        },
        {
          "output_type": "display_data",
          "data": {
            "image/png": "[encoded data removed]",
            "text/plain": [
              "<Figure size 432x288 with 1 Axes>"
            ]
          },
          "metadata": {
            "tags": [],
            "needs_background": "light"
          }
        }
      ]
    },
    {
      "cell_type": "code",
      "metadata": {
        "colab": {
          "base_uri": "https://localhost:8080/"
        },
        "id": "sqBYG4nPmhyc",
        "outputId": "d702206f-eead-49f7-debc-7b1be1d580be"
      },
      "source": [
        "wordcloud.words_"
      ],
      "execution_count": 78,
      "outputs": [
        {
          "output_type": "execute_result",
          "data": {
            "text/plain": [
              "{'ablaze': 0.5,\n",
              " 'aftershock': 0.5,\n",
              " 'another': 0.5,\n",
              " 'arsonist': 0.5,\n",
              " 'available': 0.5,\n",
              " 'car': 1.0,\n",
              " 'completely': 0.5,\n",
              " 'dealership': 0.5,\n",
              " 'essay': 0.5,\n",
              " 'hit': 0.5,\n",
              " 'honored': 0.5,\n",
              " 'id': 0.5,\n",
              " 'information': 0.5,\n",
              " 'marking': 0.5,\n",
              " 'public': 0.5,\n",
              " 'puerto': 0.5,\n",
              " 'rico': 0.5,\n",
              " 'sets': 0.5,\n",
              " 'th': 0.5,\n",
              " 'wreck': 1.0}"
            ]
          },
          "metadata": {
            "tags": []
          },
          "execution_count": 78
        }
      ]
    },
    {
      "cell_type": "markdown",
      "metadata": {
        "id": "L7jtSQcN2uRj"
      },
      "source": [
        "### Top words in positive emergency"
      ]
    },
    {
      "cell_type": "code",
      "metadata": {
        "colab": {
          "base_uri": "https://localhost:8080/",
          "height": 445
        },
        "id": "lbK_g8bRmm0D",
        "outputId": "50df0aa2-88c6-460f-87bc-7058d59b8c9d"
      },
      "source": [
        "df_usa_positive = df_usa[df_usa['target'] == 1]\n",
        "df_usa_positive"
      ],
      "execution_count": 79,
      "outputs": [
        {
          "output_type": "execute_result",
          "data": {
            "text/html": [
              "<div>\n",
              "<style scoped>\n",
              "    .dataframe tbody tr th:only-of-type {\n",
              "        vertical-align: middle;\n",
              "    }\n",
              "\n",
              "    .dataframe tbody tr th {\n",
              "        vertical-align: top;\n",
              "    }\n",
              "\n",
              "    .dataframe thead th {\n",
              "        text-align: right;\n",
              "    }\n",
              "</style>\n",
              "<table border=\"1\" class=\"dataframe\">\n",
              "  <thead>\n",
              "    <tr style=\"text-align: right;\">\n",
              "      <th></th>\n",
              "      <th>keyword</th>\n",
              "      <th>location</th>\n",
              "      <th>text</th>\n",
              "      <th>target</th>\n",
              "      <th>length</th>\n",
              "    </tr>\n",
              "    <tr>\n",
              "      <th>id</th>\n",
              "      <th></th>\n",
              "      <th></th>\n",
              "      <th></th>\n",
              "      <th></th>\n",
              "      <th></th>\n",
              "    </tr>\n",
              "  </thead>\n",
              "  <tbody>\n",
              "    <tr>\n",
              "      <th>2</th>\n",
              "      <td>ablaze</td>\n",
              "      <td>USA</td>\n",
              "      <td>arsonist sets cars ablaze at dealership</td>\n",
              "      <td>1</td>\n",
              "      <td>40</td>\n",
              "    </tr>\n",
              "    <tr>\n",
              "      <th>78</th>\n",
              "      <td>aftershock</td>\n",
              "      <td>USA</td>\n",
              "      <td>puerto rico hit by another  magnitude aftersho...</td>\n",
              "      <td>1</td>\n",
              "      <td>55</td>\n",
              "    </tr>\n",
              "    <tr>\n",
              "      <th>110</th>\n",
              "      <td>aftershock</td>\n",
              "      <td>USA</td>\n",
              "      <td>the magnitude  quake in puertorico this mornin...</td>\n",
              "      <td>1</td>\n",
              "      <td>119</td>\n",
              "    </tr>\n",
              "    <tr>\n",
              "      <th>116</th>\n",
              "      <td>airplane accident</td>\n",
              "      <td>USA</td>\n",
              "      <td>like iran shooting an airplane was an accident</td>\n",
              "      <td>1</td>\n",
              "      <td>46</td>\n",
              "    </tr>\n",
              "    <tr>\n",
              "      <th>140</th>\n",
              "      <td>airplane accident</td>\n",
              "      <td>USA</td>\n",
              "      <td>so iran can shoot down a commercial airplane a...</td>\n",
              "      <td>1</td>\n",
              "      <td>106</td>\n",
              "    </tr>\n",
              "    <tr>\n",
              "      <th>...</th>\n",
              "      <td>...</td>\n",
              "      <td>...</td>\n",
              "      <td>...</td>\n",
              "      <td>...</td>\n",
              "      <td>...</td>\n",
              "    </tr>\n",
              "    <tr>\n",
              "      <th>10757</th>\n",
              "      <td>volcano</td>\n",
              "      <td>USA</td>\n",
              "      <td>taal volcano news – live hundreds of thousands...</td>\n",
              "      <td>1</td>\n",
              "      <td>125</td>\n",
              "    </tr>\n",
              "    <tr>\n",
              "      <th>11060</th>\n",
              "      <td>wildfire</td>\n",
              "      <td>USA</td>\n",
              "      <td>australia’s koala population has taken such an...</td>\n",
              "      <td>1</td>\n",
              "      <td>107</td>\n",
              "    </tr>\n",
              "    <tr>\n",
              "      <th>11081</th>\n",
              "      <td>wildfire</td>\n",
              "      <td>USA</td>\n",
              "      <td>australia wildfire map update high and very hi...</td>\n",
              "      <td>1</td>\n",
              "      <td>125</td>\n",
              "    </tr>\n",
              "    <tr>\n",
              "      <th>11083</th>\n",
              "      <td>wildfire</td>\n",
              "      <td>USA</td>\n",
              "      <td>the toll from australias wildfires thus far at...</td>\n",
              "      <td>1</td>\n",
              "      <td>115</td>\n",
              "    </tr>\n",
              "    <tr>\n",
              "      <th>11133</th>\n",
              "      <td>windstorm</td>\n",
              "      <td>USA</td>\n",
              "      <td>winter in norcal is just autumn lite where it ...</td>\n",
              "      <td>1</td>\n",
              "      <td>117</td>\n",
              "    </tr>\n",
              "  </tbody>\n",
              "</table>\n",
              "<p>83 rows × 5 columns</p>\n",
              "</div>"
            ],
            "text/plain": [
              "                 keyword location  ... target  length\n",
              "id                                 ...               \n",
              "2                 ablaze      USA  ...      1      40\n",
              "78            aftershock      USA  ...      1      55\n",
              "110           aftershock      USA  ...      1     119\n",
              "116    airplane accident      USA  ...      1      46\n",
              "140    airplane accident      USA  ...      1     106\n",
              "...                  ...      ...  ...    ...     ...\n",
              "10757            volcano      USA  ...      1     125\n",
              "11060           wildfire      USA  ...      1     107\n",
              "11081           wildfire      USA  ...      1     125\n",
              "11083           wildfire      USA  ...      1     115\n",
              "11133          windstorm      USA  ...      1     117\n",
              "\n",
              "[83 rows x 5 columns]"
            ]
          },
          "metadata": {
            "tags": []
          },
          "execution_count": 79
        }
      ]
    },
    {
      "cell_type": "code",
      "metadata": {
        "colab": {
          "base_uri": "https://localhost:8080/",
          "height": 215
        },
        "id": "FAtG2zYJm2oE",
        "outputId": "886d4154-e77f-44d0-c5ab-37aebc01aa6c"
      },
      "source": [
        "stopwords = set(STOPWORDS)\n",
        "\n",
        "wordcloud = WordCloud(\n",
        "                        background_color='gray',\n",
        "                        stopwords=stopwords,\n",
        "                        max_words = 20,\n",
        "                        max_font_size = 40,\n",
        "                        random_state = 42,\n",
        "                        ).generate(str(df_usa_positive['text']))\n",
        "\n",
        "print(wordcloud)\n",
        "fig = plt.figure(1)\n",
        "plt.imshow(wordcloud)\n",
        "plt.axis('off')\n",
        "plt.show()"
      ],
      "execution_count": 80,
      "outputs": [
        {
          "output_type": "stream",
          "text": [
            "<wordcloud.wordcloud.WordCloud object at 0x7f9760ee8310>\n"
          ],
          "name": "stdout"
        },
        {
          "output_type": "display_data",
          "data": {
            "image/png": "[encoded data removed]",
            "text/plain": [
              "<Figure size 432x288 with 1 Axes>"
            ]
          },
          "metadata": {
            "tags": [],
            "needs_background": "light"
          }
        }
      ]
    },
    {
      "cell_type": "code",
      "metadata": {
        "colab": {
          "base_uri": "https://localhost:8080/"
        },
        "id": "yU0vduHQm_aO",
        "outputId": "8a1c59f3-99c6-426d-f39f-36b6b616978c"
      },
      "source": [
        "wordcloud.words_"
      ],
      "execution_count": 81,
      "outputs": [
        {
          "output_type": "execute_result",
          "data": {
            "text/plain": [
              "{'ablaze': 0.3333333333333333,\n",
              " 'aftersho': 0.3333333333333333,\n",
              " 'airplane': 0.6666666666666666,\n",
              " 'another': 0.3333333333333333,\n",
              " 'arsonist': 0.3333333333333333,\n",
              " 'australia': 1.0,\n",
              " 'cars': 0.3333333333333333,\n",
              " 'dealership': 0.3333333333333333,\n",
              " 'hit': 0.3333333333333333,\n",
              " 'id': 0.3333333333333333,\n",
              " 'iran': 0.6666666666666666,\n",
              " 'magnitude': 0.6666666666666666,\n",
              " 'mornin': 0.3333333333333333,\n",
              " 'puerto': 0.3333333333333333,\n",
              " 'puertorico': 0.3333333333333333,\n",
              " 'quake': 0.3333333333333333,\n",
              " 'rico': 0.3333333333333333,\n",
              " 'sets': 0.3333333333333333,\n",
              " 'shooting': 0.3333333333333333,\n",
              " 'wildfire': 0.6666666666666666}"
            ]
          },
          "metadata": {
            "tags": []
          },
          "execution_count": 81
        }
      ]
    },
    {
      "cell_type": "markdown",
      "metadata": {
        "id": "UvzU7IWS74tG"
      },
      "source": [
        "### Top words in negative emergency"
      ]
    },
    {
      "cell_type": "code",
      "metadata": {
        "colab": {
          "base_uri": "https://localhost:8080/",
          "height": 445
        },
        "id": "QF5Zo0jInBkN",
        "outputId": "3b03fca7-926e-4665-ab31-446613b9f54f"
      },
      "source": [
        "df_usa_negative = df_usa[df_usa['target'] == 0]\n",
        "df_usa_negative"
      ],
      "execution_count": 82,
      "outputs": [
        {
          "output_type": "execute_result",
          "data": {
            "text/html": [
              "<div>\n",
              "<style scoped>\n",
              "    .dataframe tbody tr th:only-of-type {\n",
              "        vertical-align: middle;\n",
              "    }\n",
              "\n",
              "    .dataframe tbody tr th {\n",
              "        vertical-align: top;\n",
              "    }\n",
              "\n",
              "    .dataframe thead th {\n",
              "        text-align: right;\n",
              "    }\n",
              "</style>\n",
              "<table border=\"1\" class=\"dataframe\">\n",
              "  <thead>\n",
              "    <tr style=\"text-align: right;\">\n",
              "      <th></th>\n",
              "      <th>keyword</th>\n",
              "      <th>location</th>\n",
              "      <th>text</th>\n",
              "      <th>target</th>\n",
              "      <th>length</th>\n",
              "    </tr>\n",
              "    <tr>\n",
              "      <th>id</th>\n",
              "      <th></th>\n",
              "      <th></th>\n",
              "      <th></th>\n",
              "      <th></th>\n",
              "      <th></th>\n",
              "    </tr>\n",
              "  </thead>\n",
              "  <tbody>\n",
              "    <tr>\n",
              "      <th>58</th>\n",
              "      <td>accident</td>\n",
              "      <td>USA</td>\n",
              "      <td>in completely available public information  th...</td>\n",
              "      <td>0</td>\n",
              "      <td>118</td>\n",
              "    </tr>\n",
              "    <tr>\n",
              "      <th>71</th>\n",
              "      <td>aftershock</td>\n",
              "      <td>USA</td>\n",
              "      <td>honored to have an essay in aftershock marking...</td>\n",
              "      <td>0</td>\n",
              "      <td>122</td>\n",
              "    </tr>\n",
              "    <tr>\n",
              "      <th>85</th>\n",
              "      <td>aftershock</td>\n",
              "      <td>USA</td>\n",
              "      <td>please pray for puertorico</td>\n",
              "      <td>0</td>\n",
              "      <td>27</td>\n",
              "    </tr>\n",
              "    <tr>\n",
              "      <th>144</th>\n",
              "      <td>airplane accident</td>\n",
              "      <td>USA</td>\n",
              "      <td>mass antigovernment protests erupt in iran aft...</td>\n",
              "      <td>0</td>\n",
              "      <td>113</td>\n",
              "    </tr>\n",
              "    <tr>\n",
              "      <th>151</th>\n",
              "      <td>airplane accident</td>\n",
              "      <td>USA</td>\n",
              "      <td>odd how the iranians accidentally blew up the ...</td>\n",
              "      <td>0</td>\n",
              "      <td>101</td>\n",
              "    </tr>\n",
              "    <tr>\n",
              "      <th>...</th>\n",
              "      <td>...</td>\n",
              "      <td>...</td>\n",
              "      <td>...</td>\n",
              "      <td>...</td>\n",
              "      <td>...</td>\n",
              "    </tr>\n",
              "    <tr>\n",
              "      <th>11213</th>\n",
              "      <td>wounds</td>\n",
              "      <td>USA</td>\n",
              "      <td>when grandpa said wounds need air whew watchme...</td>\n",
              "      <td>0</td>\n",
              "      <td>50</td>\n",
              "    </tr>\n",
              "    <tr>\n",
              "      <th>11259</th>\n",
              "      <td>wreck</td>\n",
              "      <td>USA</td>\n",
              "      <td>why was the sequel to “wreck it ralph” named “...</td>\n",
              "      <td>0</td>\n",
              "      <td>115</td>\n",
              "    </tr>\n",
              "    <tr>\n",
              "      <th>11274</th>\n",
              "      <td>wreck</td>\n",
              "      <td>USA</td>\n",
              "      <td>i’m thinking car chase leading to a wreck on t...</td>\n",
              "      <td>0</td>\n",
              "      <td>56</td>\n",
              "    </tr>\n",
              "    <tr>\n",
              "      <th>11307</th>\n",
              "      <td>wreckage</td>\n",
              "      <td>USA</td>\n",
              "      <td>actually they flipped a coin ¢ piece for it ac...</td>\n",
              "      <td>0</td>\n",
              "      <td>74</td>\n",
              "    </tr>\n",
              "    <tr>\n",
              "      <th>11324</th>\n",
              "      <td>wreckage</td>\n",
              "      <td>USA</td>\n",
              "      <td>why wouldn’t rebels investigate the wreckage i...</td>\n",
              "      <td>0</td>\n",
              "      <td>99</td>\n",
              "    </tr>\n",
              "  </tbody>\n",
              "</table>\n",
              "<p>312 rows × 5 columns</p>\n",
              "</div>"
            ],
            "text/plain": [
              "                 keyword location  ... target  length\n",
              "id                                 ...               \n",
              "58              accident      USA  ...      0     118\n",
              "71            aftershock      USA  ...      0     122\n",
              "85            aftershock      USA  ...      0      27\n",
              "144    airplane accident      USA  ...      0     113\n",
              "151    airplane accident      USA  ...      0     101\n",
              "...                  ...      ...  ...    ...     ...\n",
              "11213             wounds      USA  ...      0      50\n",
              "11259              wreck      USA  ...      0     115\n",
              "11274              wreck      USA  ...      0      56\n",
              "11307           wreckage      USA  ...      0      74\n",
              "11324           wreckage      USA  ...      0      99\n",
              "\n",
              "[312 rows x 5 columns]"
            ]
          },
          "metadata": {
            "tags": []
          },
          "execution_count": 82
        }
      ]
    },
    {
      "cell_type": "code",
      "metadata": {
        "colab": {
          "base_uri": "https://localhost:8080/",
          "height": 215
        },
        "id": "8Gtp4wh2nN18",
        "outputId": "f855e68a-20ae-4266-aa1e-4c0cf2f2d909"
      },
      "source": [
        "stopwords = set(STOPWORDS)\n",
        "\n",
        "wordcloud = WordCloud(\n",
        "                        background_color='white',\n",
        "                        stopwords=stopwords,\n",
        "                        max_words = 20,\n",
        "                        max_font_size = 40,\n",
        "                        random_state = 42,\n",
        "                        ).generate(str(df_usa_negative['text']))\n",
        "\n",
        "print(wordcloud)\n",
        "fig = plt.figure(1)\n",
        "plt.imshow(wordcloud)\n",
        "plt.axis('off')\n",
        "plt.show()"
      ],
      "execution_count": 83,
      "outputs": [
        {
          "output_type": "stream",
          "text": [
            "<wordcloud.wordcloud.WordCloud object at 0x7f9760f70a90>\n"
          ],
          "name": "stdout"
        },
        {
          "output_type": "display_data",
          "data": {
            "image/png": "[encoded data removed]",
            "text/plain": [
              "<Figure size 432x288 with 1 Axes>"
            ]
          },
          "metadata": {
            "tags": [],
            "needs_background": "light"
          }
        }
      ]
    },
    {
      "cell_type": "code",
      "metadata": {
        "colab": {
          "base_uri": "https://localhost:8080/"
        },
        "id": "SiPcW9-XnWAE",
        "outputId": "860cd0fa-b173-400f-c748-87cc5fa04777"
      },
      "source": [
        "wordcloud.words_"
      ],
      "execution_count": 84,
      "outputs": [
        {
          "output_type": "execute_result",
          "data": {
            "text/plain": [
              "{'aft': 0.5,\n",
              " 'aftershock': 0.5,\n",
              " 'antigovernment': 0.5,\n",
              " 'available': 0.5,\n",
              " 'completely': 0.5,\n",
              " 'erupt': 0.5,\n",
              " 'essay': 0.5,\n",
              " 'honored': 0.5,\n",
              " 'id': 0.5,\n",
              " 'information': 0.5,\n",
              " 'iran': 0.5,\n",
              " 'marking': 0.5,\n",
              " 'mass': 0.5,\n",
              " 'please': 0.5,\n",
              " 'pray': 0.5,\n",
              " 'protests': 0.5,\n",
              " 'public': 0.5,\n",
              " 'puertorico': 0.5,\n",
              " 'th': 0.5,\n",
              " 'wreck': 1.0}"
            ]
          },
          "metadata": {
            "tags": []
          },
          "execution_count": 84
        }
      ]
    },
    {
      "cell_type": "markdown",
      "metadata": {
        "id": "aJwCLhjfZpS7"
      },
      "source": [
        "## Top words UK"
      ]
    },
    {
      "cell_type": "code",
      "metadata": {
        "colab": {
          "base_uri": "https://localhost:8080/",
          "height": 445
        },
        "id": "60Nf2s62nXqT",
        "outputId": "f4da2907-3982-401e-8010-d4f835443f91"
      },
      "source": [
        "df_uk = df[df['location'] == countries_mask.index[2]]\n",
        "df_uk"
      ],
      "execution_count": 85,
      "outputs": [
        {
          "output_type": "execute_result",
          "data": {
            "text/html": [
              "<div>\n",
              "<style scoped>\n",
              "    .dataframe tbody tr th:only-of-type {\n",
              "        vertical-align: middle;\n",
              "    }\n",
              "\n",
              "    .dataframe tbody tr th {\n",
              "        vertical-align: top;\n",
              "    }\n",
              "\n",
              "    .dataframe thead th {\n",
              "        text-align: right;\n",
              "    }\n",
              "</style>\n",
              "<table border=\"1\" class=\"dataframe\">\n",
              "  <thead>\n",
              "    <tr style=\"text-align: right;\">\n",
              "      <th></th>\n",
              "      <th>keyword</th>\n",
              "      <th>location</th>\n",
              "      <th>text</th>\n",
              "      <th>target</th>\n",
              "      <th>length</th>\n",
              "    </tr>\n",
              "    <tr>\n",
              "      <th>id</th>\n",
              "      <th></th>\n",
              "      <th></th>\n",
              "      <th></th>\n",
              "      <th></th>\n",
              "      <th></th>\n",
              "    </tr>\n",
              "  </thead>\n",
              "  <tbody>\n",
              "    <tr>\n",
              "      <th>6</th>\n",
              "      <td>ablaze</td>\n",
              "      <td>UK</td>\n",
              "      <td>several houses have been set ablaze in ngemsib...</td>\n",
              "      <td>1</td>\n",
              "      <td>115</td>\n",
              "    </tr>\n",
              "    <tr>\n",
              "      <th>153</th>\n",
              "      <td>airplane accident</td>\n",
              "      <td>UK</td>\n",
              "      <td>and no excuse for shooting down a commercial a...</td>\n",
              "      <td>0</td>\n",
              "      <td>118</td>\n",
              "    </tr>\n",
              "    <tr>\n",
              "      <th>207</th>\n",
              "      <td>ambulance</td>\n",
              "      <td>UK</td>\n",
              "      <td>what racism absolutely delighted…</td>\n",
              "      <td>0</td>\n",
              "      <td>34</td>\n",
              "    </tr>\n",
              "    <tr>\n",
              "      <th>213</th>\n",
              "      <td>ambulance</td>\n",
              "      <td>UK</td>\n",
              "      <td>if you have norovirus theres no place like hom...</td>\n",
              "      <td>0</td>\n",
              "      <td>113</td>\n",
              "    </tr>\n",
              "    <tr>\n",
              "      <th>219</th>\n",
              "      <td>ambulance</td>\n",
              "      <td>UK</td>\n",
              "      <td>what a lovely message to receive  thank you so...</td>\n",
              "      <td>0</td>\n",
              "      <td>52</td>\n",
              "    </tr>\n",
              "    <tr>\n",
              "      <th>...</th>\n",
              "      <td>...</td>\n",
              "      <td>...</td>\n",
              "      <td>...</td>\n",
              "      <td>...</td>\n",
              "      <td>...</td>\n",
              "    </tr>\n",
              "    <tr>\n",
              "      <th>11105</th>\n",
              "      <td>windstorm</td>\n",
              "      <td>UK</td>\n",
              "      <td>with any luck you will miss the windstorm on e...</td>\n",
              "      <td>0</td>\n",
              "      <td>68</td>\n",
              "    </tr>\n",
              "    <tr>\n",
              "      <th>11172</th>\n",
              "      <td>wounded</td>\n",
              "      <td>UK</td>\n",
              "      <td>i personally served with harry in afghan  and ...</td>\n",
              "      <td>0</td>\n",
              "      <td>120</td>\n",
              "    </tr>\n",
              "    <tr>\n",
              "      <th>11182</th>\n",
              "      <td>wounded</td>\n",
              "      <td>UK</td>\n",
              "      <td>make art make bad art make better art make gre...</td>\n",
              "      <td>0</td>\n",
              "      <td>120</td>\n",
              "    </tr>\n",
              "    <tr>\n",
              "      <th>11191</th>\n",
              "      <td>wounds</td>\n",
              "      <td>UK</td>\n",
              "      <td>dr dinah parums us patent treatment of wounds</td>\n",
              "      <td>0</td>\n",
              "      <td>46</td>\n",
              "    </tr>\n",
              "    <tr>\n",
              "      <th>11311</th>\n",
              "      <td>wreckage</td>\n",
              "      <td>UK</td>\n",
              "      <td>coffee and wreckage of dreams</td>\n",
              "      <td>0</td>\n",
              "      <td>29</td>\n",
              "    </tr>\n",
              "  </tbody>\n",
              "</table>\n",
              "<p>369 rows × 5 columns</p>\n",
              "</div>"
            ],
            "text/plain": [
              "                 keyword location  ... target  length\n",
              "id                                 ...               \n",
              "6                 ablaze       UK  ...      1     115\n",
              "153    airplane accident       UK  ...      0     118\n",
              "207            ambulance       UK  ...      0      34\n",
              "213            ambulance       UK  ...      0     113\n",
              "219            ambulance       UK  ...      0      52\n",
              "...                  ...      ...  ...    ...     ...\n",
              "11105          windstorm       UK  ...      0      68\n",
              "11172            wounded       UK  ...      0     120\n",
              "11182            wounded       UK  ...      0     120\n",
              "11191             wounds       UK  ...      0      46\n",
              "11311           wreckage       UK  ...      0      29\n",
              "\n",
              "[369 rows x 5 columns]"
            ]
          },
          "metadata": {
            "tags": []
          },
          "execution_count": 85
        }
      ]
    },
    {
      "cell_type": "code",
      "metadata": {
        "id": "3W-yoat7nmpR"
      },
      "source": [
        "mpl.rcParams['font.size'] = 15\n",
        "mpl.rcParams['savefig.dpi'] = 100\n",
        "mpl.rcParams['figure.subplot.bottom'] = .1"
      ],
      "execution_count": 86,
      "outputs": []
    },
    {
      "cell_type": "code",
      "metadata": {
        "colab": {
          "base_uri": "https://localhost:8080/",
          "height": 215
        },
        "id": "g2JVvDgKnq85",
        "outputId": "2c706e0b-844b-4aa4-ab3a-251ce33164a8"
      },
      "source": [
        "stopwords = set(STOPWORDS)\n",
        "\n",
        "wordcloud = WordCloud(\n",
        "                        background_color='gray',\n",
        "                        stopwords=stopwords,\n",
        "                        max_words = 20,\n",
        "                        max_font_size = 40,\n",
        "                        random_state = 42,\n",
        "                        ).generate(str(df_uk['text']))\n",
        "\n",
        "print(wordcloud)\n",
        "fig = plt.figure(1)\n",
        "plt.imshow(wordcloud)\n",
        "plt.axis('off')\n",
        "plt.show()"
      ],
      "execution_count": 87,
      "outputs": [
        {
          "output_type": "stream",
          "text": [
            "<wordcloud.wordcloud.WordCloud object at 0x7f9760e81ed0>\n"
          ],
          "name": "stdout"
        },
        {
          "output_type": "display_data",
          "data": {
            "image/png": "[encoded data removed]",
            "text/plain": [
              "<Figure size 432x288 with 1 Axes>"
            ]
          },
          "metadata": {
            "tags": [],
            "needs_background": "light"
          }
        }
      ]
    },
    {
      "cell_type": "code",
      "metadata": {
        "colab": {
          "base_uri": "https://localhost:8080/"
        },
        "id": "kwBf3wsbnvbo",
        "outputId": "cc688072-dcfe-4a78-d3aa-86968daebc06"
      },
      "source": [
        "wordcloud.words_"
      ],
      "execution_count": 88,
      "outputs": [
        {
          "output_type": "execute_result",
          "data": {
            "text/plain": [
              "{'ablaze': 0.25,\n",
              " 'absolutely': 0.25,\n",
              " 'art': 0.75,\n",
              " 'commercial': 0.25,\n",
              " 'delighted': 0.25,\n",
              " 'excuse': 0.25,\n",
              " 'hom': 0.25,\n",
              " 'houses': 0.25,\n",
              " 'id': 0.25,\n",
              " 'lovely': 0.25,\n",
              " 'make': 1.0,\n",
              " 'message': 0.25,\n",
              " 'ngemsib': 0.25,\n",
              " 'norovirus': 0.25,\n",
              " 'place': 0.25,\n",
              " 'racism': 0.25,\n",
              " 'set': 0.25,\n",
              " 'several': 0.25,\n",
              " 'shooting': 0.25,\n",
              " 'theres': 0.25}"
            ]
          },
          "metadata": {
            "tags": []
          },
          "execution_count": 88
        }
      ]
    },
    {
      "cell_type": "markdown",
      "metadata": {
        "id": "nfMJ9d7bcgPj"
      },
      "source": [
        "### Top words in positive emergency"
      ]
    },
    {
      "cell_type": "code",
      "metadata": {
        "colab": {
          "base_uri": "https://localhost:8080/",
          "height": 445
        },
        "id": "9pr059XnnxY4",
        "outputId": "41579db1-41ba-4a17-b598-c72d326f86c8"
      },
      "source": [
        "df_uk_positive = df_uk[df_uk['target'] == 1]\n",
        "df_uk_positive"
      ],
      "execution_count": 89,
      "outputs": [
        {
          "output_type": "execute_result",
          "data": {
            "text/html": [
              "<div>\n",
              "<style scoped>\n",
              "    .dataframe tbody tr th:only-of-type {\n",
              "        vertical-align: middle;\n",
              "    }\n",
              "\n",
              "    .dataframe tbody tr th {\n",
              "        vertical-align: top;\n",
              "    }\n",
              "\n",
              "    .dataframe thead th {\n",
              "        text-align: right;\n",
              "    }\n",
              "</style>\n",
              "<table border=\"1\" class=\"dataframe\">\n",
              "  <thead>\n",
              "    <tr style=\"text-align: right;\">\n",
              "      <th></th>\n",
              "      <th>keyword</th>\n",
              "      <th>location</th>\n",
              "      <th>text</th>\n",
              "      <th>target</th>\n",
              "      <th>length</th>\n",
              "    </tr>\n",
              "    <tr>\n",
              "      <th>id</th>\n",
              "      <th></th>\n",
              "      <th></th>\n",
              "      <th></th>\n",
              "      <th></th>\n",
              "      <th></th>\n",
              "    </tr>\n",
              "  </thead>\n",
              "  <tbody>\n",
              "    <tr>\n",
              "      <th>6</th>\n",
              "      <td>ablaze</td>\n",
              "      <td>UK</td>\n",
              "      <td>several houses have been set ablaze in ngemsib...</td>\n",
              "      <td>1</td>\n",
              "      <td>115</td>\n",
              "    </tr>\n",
              "    <tr>\n",
              "      <th>244</th>\n",
              "      <td>annihilated</td>\n",
              "      <td>UK</td>\n",
              "      <td>i will appreciate the bbc igbo when it starts ...</td>\n",
              "      <td>1</td>\n",
              "      <td>117</td>\n",
              "    </tr>\n",
              "    <tr>\n",
              "      <th>342</th>\n",
              "      <td>apocalypse</td>\n",
              "      <td>UK</td>\n",
              "      <td>common sense on twitter is this the first sign...</td>\n",
              "      <td>1</td>\n",
              "      <td>80</td>\n",
              "    </tr>\n",
              "    <tr>\n",
              "      <th>599</th>\n",
              "      <td>attack</td>\n",
              "      <td>UK</td>\n",
              "      <td>i’m deeply troubled by the news of violent att...</td>\n",
              "      <td>1</td>\n",
              "      <td>118</td>\n",
              "    </tr>\n",
              "    <tr>\n",
              "      <th>611</th>\n",
              "      <td>attacked</td>\n",
              "      <td>UK</td>\n",
              "      <td>usasupportsterrorist  out of the  terrorist th...</td>\n",
              "      <td>1</td>\n",
              "      <td>114</td>\n",
              "    </tr>\n",
              "    <tr>\n",
              "      <th>...</th>\n",
              "      <td>...</td>\n",
              "      <td>...</td>\n",
              "      <td>...</td>\n",
              "      <td>...</td>\n",
              "      <td>...</td>\n",
              "    </tr>\n",
              "    <tr>\n",
              "      <th>10730</th>\n",
              "      <td>violent storm</td>\n",
              "      <td>UK</td>\n",
              "      <td>the wind is violent outside as a storm moves i...</td>\n",
              "      <td>1</td>\n",
              "      <td>111</td>\n",
              "    </tr>\n",
              "    <tr>\n",
              "      <th>10743</th>\n",
              "      <td>violent storm</td>\n",
              "      <td>UK</td>\n",
              "      <td>storm brendan violent storm front currently mo...</td>\n",
              "      <td>1</td>\n",
              "      <td>109</td>\n",
              "    </tr>\n",
              "    <tr>\n",
              "      <th>10744</th>\n",
              "      <td>violent storm</td>\n",
              "      <td>UK</td>\n",
              "      <td>storm brendan thousands without power as storm...</td>\n",
              "      <td>1</td>\n",
              "      <td>68</td>\n",
              "    </tr>\n",
              "    <tr>\n",
              "      <th>10998</th>\n",
              "      <td>whirlwind</td>\n",
              "      <td>UK</td>\n",
              "      <td>why does he keep trying this comic churchillia...</td>\n",
              "      <td>1</td>\n",
              "      <td>89</td>\n",
              "    </tr>\n",
              "    <tr>\n",
              "      <th>11057</th>\n",
              "      <td>wildfire</td>\n",
              "      <td>UK</td>\n",
              "      <td>a rescue operation organized by a local family...</td>\n",
              "      <td>1</td>\n",
              "      <td>130</td>\n",
              "    </tr>\n",
              "  </tbody>\n",
              "</table>\n",
              "<p>103 rows × 5 columns</p>\n",
              "</div>"
            ],
            "text/plain": [
              "             keyword location  ... target  length\n",
              "id                             ...               \n",
              "6             ablaze       UK  ...      1     115\n",
              "244      annihilated       UK  ...      1     117\n",
              "342       apocalypse       UK  ...      1      80\n",
              "599           attack       UK  ...      1     118\n",
              "611         attacked       UK  ...      1     114\n",
              "...              ...      ...  ...    ...     ...\n",
              "10730  violent storm       UK  ...      1     111\n",
              "10743  violent storm       UK  ...      1     109\n",
              "10744  violent storm       UK  ...      1      68\n",
              "10998      whirlwind       UK  ...      1      89\n",
              "11057       wildfire       UK  ...      1     130\n",
              "\n",
              "[103 rows x 5 columns]"
            ]
          },
          "metadata": {
            "tags": []
          },
          "execution_count": 89
        }
      ]
    },
    {
      "cell_type": "code",
      "metadata": {
        "colab": {
          "base_uri": "https://localhost:8080/",
          "height": 215
        },
        "id": "xAgkm1cin68n",
        "outputId": "f938df98-41c3-4cbb-93e3-7253d61b8040"
      },
      "source": [
        "stopwords = set(STOPWORDS)\n",
        "\n",
        "wordcloud = WordCloud(\n",
        "                        background_color='gray',\n",
        "                        stopwords=stopwords,\n",
        "                        max_words = 20,\n",
        "                        max_font_size = 40,\n",
        "                        random_state = 42,\n",
        "                        ).generate(str(df_uk_positive['text']))\n",
        "\n",
        "print(wordcloud)\n",
        "fig = plt.figure(1)\n",
        "plt.imshow(wordcloud)\n",
        "plt.axis('off')\n",
        "plt.show()"
      ],
      "execution_count": 90,
      "outputs": [
        {
          "output_type": "stream",
          "text": [
            "<wordcloud.wordcloud.WordCloud object at 0x7f9760bfb210>\n"
          ],
          "name": "stdout"
        },
        {
          "output_type": "display_data",
          "data": {
            "image/png": "[encoded data removed]",
            "text/plain": [
              "<Figure size 432x288 with 1 Axes>"
            ]
          },
          "metadata": {
            "tags": [],
            "needs_background": "light"
          }
        }
      ]
    },
    {
      "cell_type": "code",
      "metadata": {
        "colab": {
          "base_uri": "https://localhost:8080/"
        },
        "id": "4E3ZJIt8n-2g",
        "outputId": "0098acd9-4b69-41e6-d0e3-63c01055b766"
      },
      "source": [
        "wordcloud.words_"
      ],
      "execution_count": 91,
      "outputs": [
        {
          "output_type": "execute_result",
          "data": {
            "text/plain": [
              "{'ablaze': 0.2,\n",
              " 'appreciate': 0.2,\n",
              " 'bbc': 0.2,\n",
              " 'brendan': 0.4,\n",
              " 'common': 0.2,\n",
              " 'deeply': 0.2,\n",
              " 'first': 0.2,\n",
              " 'houses': 0.2,\n",
              " 'id': 0.2,\n",
              " 'igbo': 0.2,\n",
              " 'ngemsib': 0.2,\n",
              " 'sense': 0.2,\n",
              " 'set': 0.2,\n",
              " 'several': 0.2,\n",
              " 'sign': 0.2,\n",
              " 'starts': 0.2,\n",
              " 'storm': 1.0,\n",
              " 'twitter': 0.2,\n",
              " 'violent': 0.6,\n",
              " 'will': 0.2}"
            ]
          },
          "metadata": {
            "tags": []
          },
          "execution_count": 91
        }
      ]
    },
    {
      "cell_type": "markdown",
      "metadata": {
        "id": "544KEfpJdZ92"
      },
      "source": [
        "### Top words in negative emergency"
      ]
    },
    {
      "cell_type": "code",
      "metadata": {
        "colab": {
          "base_uri": "https://localhost:8080/",
          "height": 445
        },
        "id": "RbvYpxn_oAov",
        "outputId": "8e7e4e96-3c39-4222-c6aa-1b463d1ac8d0"
      },
      "source": [
        "df_uk_negative = df_uk[df_uk['target'] == 0]\n",
        "df_uk_negative"
      ],
      "execution_count": 92,
      "outputs": [
        {
          "output_type": "execute_result",
          "data": {
            "text/html": [
              "<div>\n",
              "<style scoped>\n",
              "    .dataframe tbody tr th:only-of-type {\n",
              "        vertical-align: middle;\n",
              "    }\n",
              "\n",
              "    .dataframe tbody tr th {\n",
              "        vertical-align: top;\n",
              "    }\n",
              "\n",
              "    .dataframe thead th {\n",
              "        text-align: right;\n",
              "    }\n",
              "</style>\n",
              "<table border=\"1\" class=\"dataframe\">\n",
              "  <thead>\n",
              "    <tr style=\"text-align: right;\">\n",
              "      <th></th>\n",
              "      <th>keyword</th>\n",
              "      <th>location</th>\n",
              "      <th>text</th>\n",
              "      <th>target</th>\n",
              "      <th>length</th>\n",
              "    </tr>\n",
              "    <tr>\n",
              "      <th>id</th>\n",
              "      <th></th>\n",
              "      <th></th>\n",
              "      <th></th>\n",
              "      <th></th>\n",
              "      <th></th>\n",
              "    </tr>\n",
              "  </thead>\n",
              "  <tbody>\n",
              "    <tr>\n",
              "      <th>153</th>\n",
              "      <td>airplane accident</td>\n",
              "      <td>UK</td>\n",
              "      <td>and no excuse for shooting down a commercial a...</td>\n",
              "      <td>0</td>\n",
              "      <td>118</td>\n",
              "    </tr>\n",
              "    <tr>\n",
              "      <th>207</th>\n",
              "      <td>ambulance</td>\n",
              "      <td>UK</td>\n",
              "      <td>what racism absolutely delighted…</td>\n",
              "      <td>0</td>\n",
              "      <td>34</td>\n",
              "    </tr>\n",
              "    <tr>\n",
              "      <th>213</th>\n",
              "      <td>ambulance</td>\n",
              "      <td>UK</td>\n",
              "      <td>if you have norovirus theres no place like hom...</td>\n",
              "      <td>0</td>\n",
              "      <td>113</td>\n",
              "    </tr>\n",
              "    <tr>\n",
              "      <th>219</th>\n",
              "      <td>ambulance</td>\n",
              "      <td>UK</td>\n",
              "      <td>what a lovely message to receive  thank you so...</td>\n",
              "      <td>0</td>\n",
              "      <td>52</td>\n",
              "    </tr>\n",
              "    <tr>\n",
              "      <th>223</th>\n",
              "      <td>ambulance</td>\n",
              "      <td>UK</td>\n",
              "      <td>another race baiting ambulance chaser exposed ...</td>\n",
              "      <td>0</td>\n",
              "      <td>89</td>\n",
              "    </tr>\n",
              "    <tr>\n",
              "      <th>...</th>\n",
              "      <td>...</td>\n",
              "      <td>...</td>\n",
              "      <td>...</td>\n",
              "      <td>...</td>\n",
              "      <td>...</td>\n",
              "    </tr>\n",
              "    <tr>\n",
              "      <th>11105</th>\n",
              "      <td>windstorm</td>\n",
              "      <td>UK</td>\n",
              "      <td>with any luck you will miss the windstorm on e...</td>\n",
              "      <td>0</td>\n",
              "      <td>68</td>\n",
              "    </tr>\n",
              "    <tr>\n",
              "      <th>11172</th>\n",
              "      <td>wounded</td>\n",
              "      <td>UK</td>\n",
              "      <td>i personally served with harry in afghan  and ...</td>\n",
              "      <td>0</td>\n",
              "      <td>120</td>\n",
              "    </tr>\n",
              "    <tr>\n",
              "      <th>11182</th>\n",
              "      <td>wounded</td>\n",
              "      <td>UK</td>\n",
              "      <td>make art make bad art make better art make gre...</td>\n",
              "      <td>0</td>\n",
              "      <td>120</td>\n",
              "    </tr>\n",
              "    <tr>\n",
              "      <th>11191</th>\n",
              "      <td>wounds</td>\n",
              "      <td>UK</td>\n",
              "      <td>dr dinah parums us patent treatment of wounds</td>\n",
              "      <td>0</td>\n",
              "      <td>46</td>\n",
              "    </tr>\n",
              "    <tr>\n",
              "      <th>11311</th>\n",
              "      <td>wreckage</td>\n",
              "      <td>UK</td>\n",
              "      <td>coffee and wreckage of dreams</td>\n",
              "      <td>0</td>\n",
              "      <td>29</td>\n",
              "    </tr>\n",
              "  </tbody>\n",
              "</table>\n",
              "<p>266 rows × 5 columns</p>\n",
              "</div>"
            ],
            "text/plain": [
              "                 keyword location  ... target  length\n",
              "id                                 ...               \n",
              "153    airplane accident       UK  ...      0     118\n",
              "207            ambulance       UK  ...      0      34\n",
              "213            ambulance       UK  ...      0     113\n",
              "219            ambulance       UK  ...      0      52\n",
              "223            ambulance       UK  ...      0      89\n",
              "...                  ...      ...  ...    ...     ...\n",
              "11105          windstorm       UK  ...      0      68\n",
              "11172            wounded       UK  ...      0     120\n",
              "11182            wounded       UK  ...      0     120\n",
              "11191             wounds       UK  ...      0      46\n",
              "11311           wreckage       UK  ...      0      29\n",
              "\n",
              "[266 rows x 5 columns]"
            ]
          },
          "metadata": {
            "tags": []
          },
          "execution_count": 92
        }
      ]
    },
    {
      "cell_type": "code",
      "metadata": {
        "colab": {
          "base_uri": "https://localhost:8080/",
          "height": 215
        },
        "id": "LhK-4GT4oKqM",
        "outputId": "0b44a5f2-f325-486f-dc11-2a5a94c0820b"
      },
      "source": [
        "stopwords = set(STOPWORDS)\n",
        "\n",
        "wordcloud = WordCloud(\n",
        "                        background_color='gray',\n",
        "                        stopwords=stopwords,\n",
        "                        max_words = 20,\n",
        "                        max_font_size = 40,\n",
        "                        random_state = 42,\n",
        "                        ).generate(str(df_uk_negative['text']))\n",
        "\n",
        "print(wordcloud)\n",
        "fig = plt.figure(1)\n",
        "plt.imshow(wordcloud)\n",
        "plt.axis('off')\n",
        "plt.show()"
      ],
      "execution_count": 93,
      "outputs": [
        {
          "output_type": "stream",
          "text": [
            "<wordcloud.wordcloud.WordCloud object at 0x7f9760bde9d0>\n"
          ],
          "name": "stdout"
        },
        {
          "output_type": "display_data",
          "data": {
            "image/png": "[encoded data removed]",
            "text/plain": [
              "<Figure size 432x288 with 1 Axes>"
            ]
          },
          "metadata": {
            "tags": [],
            "needs_background": "light"
          }
        }
      ]
    },
    {
      "cell_type": "code",
      "metadata": {
        "colab": {
          "base_uri": "https://localhost:8080/"
        },
        "id": "hCMkYYIFoOMj",
        "outputId": "01f9c181-61aa-4bb8-f441-ce3f732c50b2"
      },
      "source": [
        "wordcloud.words_"
      ],
      "execution_count": 94,
      "outputs": [
        {
          "output_type": "execute_result",
          "data": {
            "text/plain": [
              "{'absolutely': 0.25,\n",
              " 'another': 0.25,\n",
              " 'art': 0.75,\n",
              " 'baiting': 0.25,\n",
              " 'commercial': 0.25,\n",
              " 'delighted': 0.25,\n",
              " 'excuse': 0.25,\n",
              " 'hom': 0.25,\n",
              " 'id': 0.25,\n",
              " 'lovely': 0.25,\n",
              " 'make': 1.0,\n",
              " 'message': 0.25,\n",
              " 'norovirus': 0.25,\n",
              " 'place': 0.25,\n",
              " 'race': 0.25,\n",
              " 'racism': 0.25,\n",
              " 'receive': 0.25,\n",
              " 'shooting': 0.25,\n",
              " 'thank': 0.25,\n",
              " 'theres': 0.25}"
            ]
          },
          "metadata": {
            "tags": []
          },
          "execution_count": 94
        }
      ]
    },
    {
      "cell_type": "markdown",
      "metadata": {
        "id": "ARCTmL0jfB7Q"
      },
      "source": [
        "## Top words India"
      ]
    },
    {
      "cell_type": "code",
      "metadata": {
        "colab": {
          "base_uri": "https://localhost:8080/",
          "height": 445
        },
        "id": "Q0pA9l_ToSjK",
        "outputId": "06bba77a-6f5b-45f9-ff9d-2a7e87802693"
      },
      "source": [
        "df_india = df[df['location'] == countries_mask.index[3]]\n",
        "df_india"
      ],
      "execution_count": 95,
      "outputs": [
        {
          "output_type": "execute_result",
          "data": {
            "text/html": [
              "<div>\n",
              "<style scoped>\n",
              "    .dataframe tbody tr th:only-of-type {\n",
              "        vertical-align: middle;\n",
              "    }\n",
              "\n",
              "    .dataframe tbody tr th {\n",
              "        vertical-align: top;\n",
              "    }\n",
              "\n",
              "    .dataframe thead th {\n",
              "        text-align: right;\n",
              "    }\n",
              "</style>\n",
              "<table border=\"1\" class=\"dataframe\">\n",
              "  <thead>\n",
              "    <tr style=\"text-align: right;\">\n",
              "      <th></th>\n",
              "      <th>keyword</th>\n",
              "      <th>location</th>\n",
              "      <th>text</th>\n",
              "      <th>target</th>\n",
              "      <th>length</th>\n",
              "    </tr>\n",
              "    <tr>\n",
              "      <th>id</th>\n",
              "      <th></th>\n",
              "      <th></th>\n",
              "      <th></th>\n",
              "      <th></th>\n",
              "      <th></th>\n",
              "    </tr>\n",
              "  </thead>\n",
              "  <tbody>\n",
              "    <tr>\n",
              "      <th>32</th>\n",
              "      <td>ablaze</td>\n",
              "      <td>India</td>\n",
              "      <td>how can you turn a blind eye to the icident of...</td>\n",
              "      <td>1</td>\n",
              "      <td>86</td>\n",
              "    </tr>\n",
              "    <tr>\n",
              "      <th>317</th>\n",
              "      <td>annihilation</td>\n",
              "      <td>India</td>\n",
              "      <td>yeah i was surprised too when i heard it first...</td>\n",
              "      <td>0</td>\n",
              "      <td>91</td>\n",
              "    </tr>\n",
              "    <tr>\n",
              "      <th>318</th>\n",
              "      <td>annihilation</td>\n",
              "      <td>India</td>\n",
              "      <td>you dont understand systemic oppression that t...</td>\n",
              "      <td>0</td>\n",
              "      <td>92</td>\n",
              "    </tr>\n",
              "    <tr>\n",
              "      <th>391</th>\n",
              "      <td>army</td>\n",
              "      <td>India</td>\n",
              "      <td>the story that caught my eye the davinder sing...</td>\n",
              "      <td>0</td>\n",
              "      <td>116</td>\n",
              "    </tr>\n",
              "    <tr>\n",
              "      <th>395</th>\n",
              "      <td>army</td>\n",
              "      <td>India</td>\n",
              "      <td>today pak army soldiers will b thanking to ind...</td>\n",
              "      <td>1</td>\n",
              "      <td>122</td>\n",
              "    </tr>\n",
              "    <tr>\n",
              "      <th>...</th>\n",
              "      <td>...</td>\n",
              "      <td>...</td>\n",
              "      <td>...</td>\n",
              "      <td>...</td>\n",
              "      <td>...</td>\n",
              "    </tr>\n",
              "    <tr>\n",
              "      <th>10365</th>\n",
              "      <td>trapped</td>\n",
              "      <td>India</td>\n",
              "      <td>would request all consumers not to be trapped ...</td>\n",
              "      <td>0</td>\n",
              "      <td>72</td>\n",
              "    </tr>\n",
              "    <tr>\n",
              "      <th>10381</th>\n",
              "      <td>trapped</td>\n",
              "      <td>India</td>\n",
              "      <td>please pray for the safety of  soldiers who ha...</td>\n",
              "      <td>1</td>\n",
              "      <td>107</td>\n",
              "    </tr>\n",
              "    <tr>\n",
              "      <th>10387</th>\n",
              "      <td>trapped</td>\n",
              "      <td>India</td>\n",
              "      <td>out of five soldiers trapped under the avalanc...</td>\n",
              "      <td>1</td>\n",
              "      <td>107</td>\n",
              "    </tr>\n",
              "    <tr>\n",
              "      <th>10477</th>\n",
              "      <td>traumatised</td>\n",
              "      <td>India</td>\n",
              "      <td>why is let off  his lies hv traumatised the fa...</td>\n",
              "      <td>0</td>\n",
              "      <td>67</td>\n",
              "    </tr>\n",
              "    <tr>\n",
              "      <th>10622</th>\n",
              "      <td>typhoon</td>\n",
              "      <td>India</td>\n",
              "      <td>finland hxchallenge typhoon finnish air force...</td>\n",
              "      <td>0</td>\n",
              "      <td>66</td>\n",
              "    </tr>\n",
              "  </tbody>\n",
              "</table>\n",
              "<p>101 rows × 5 columns</p>\n",
              "</div>"
            ],
            "text/plain": [
              "            keyword location  ... target  length\n",
              "id                            ...               \n",
              "32           ablaze    India  ...      1      86\n",
              "317    annihilation    India  ...      0      91\n",
              "318    annihilation    India  ...      0      92\n",
              "391            army    India  ...      0     116\n",
              "395            army    India  ...      1     122\n",
              "...             ...      ...  ...    ...     ...\n",
              "10365       trapped    India  ...      0      72\n",
              "10381       trapped    India  ...      1     107\n",
              "10387       trapped    India  ...      1     107\n",
              "10477   traumatised    India  ...      0      67\n",
              "10622       typhoon    India  ...      0      66\n",
              "\n",
              "[101 rows x 5 columns]"
            ]
          },
          "metadata": {
            "tags": []
          },
          "execution_count": 95
        }
      ]
    },
    {
      "cell_type": "code",
      "metadata": {
        "id": "9giGBElwosGZ"
      },
      "source": [
        "mpl.rcParams['font.size'] = 15\n",
        "mpl.rcParams['savefig.dpi'] = 100\n",
        "mpl.rcParams['figure.subplot.bottom'] = .1"
      ],
      "execution_count": 96,
      "outputs": []
    },
    {
      "cell_type": "code",
      "metadata": {
        "colab": {
          "base_uri": "https://localhost:8080/",
          "height": 215
        },
        "id": "25ZYR9tUo2vE",
        "outputId": "bd39b712-2d62-4cfa-8f70-b8757e9bbd80"
      },
      "source": [
        "stopwords = set(STOPWORDS)\n",
        "\n",
        "wordcloud = WordCloud(\n",
        "                        background_color='white',\n",
        "                        stopwords=stopwords,\n",
        "                        max_words = 20,\n",
        "                        max_font_size = 40,\n",
        "                        random_state = 42,\n",
        "                        ).generate(str(df_india['text']))\n",
        "\n",
        "print(wordcloud)\n",
        "fig = plt.figure(1)\n",
        "plt.imshow(wordcloud)\n",
        "plt.axis('off')\n",
        "plt.show()"
      ],
      "execution_count": 97,
      "outputs": [
        {
          "output_type": "stream",
          "text": [
            "<wordcloud.wordcloud.WordCloud object at 0x7f9760ba7f10>\n"
          ],
          "name": "stdout"
        },
        {
          "output_type": "display_data",
          "data": {
            "image/png": "[encoded data removed]",
            "text/plain": [
              "<Figure size 432x288 with 1 Axes>"
            ]
          },
          "metadata": {
            "tags": [],
            "needs_background": "light"
          }
        }
      ]
    },
    {
      "cell_type": "code",
      "metadata": {
        "colab": {
          "base_uri": "https://localhost:8080/"
        },
        "id": "MT3u37-bpBdT",
        "outputId": "17f72de9-c6ca-4d04-b7b7-0c5587d084fc"
      },
      "source": [
        "wordcloud.words_"
      ],
      "execution_count": 98,
      "outputs": [
        {
          "output_type": "execute_result",
          "data": {
            "text/plain": [
              "{'blind': 0.3333333333333333,\n",
              " 'caught': 0.3333333333333333,\n",
              " 'davinder': 0.3333333333333333,\n",
              " 'dont': 0.3333333333333333,\n",
              " 'eye': 0.6666666666666666,\n",
              " 'first': 0.3333333333333333,\n",
              " 'heard': 0.3333333333333333,\n",
              " 'icident': 0.3333333333333333,\n",
              " 'id': 0.3333333333333333,\n",
              " 'oppression': 0.3333333333333333,\n",
              " 'sing': 0.3333333333333333,\n",
              " 'soldiers': 1.0,\n",
              " 'story': 0.3333333333333333,\n",
              " 'surprised': 0.3333333333333333,\n",
              " 'systemic': 0.3333333333333333,\n",
              " 'today': 0.3333333333333333,\n",
              " 'trapped': 0.6666666666666666,\n",
              " 'turn': 0.3333333333333333,\n",
              " 'understand': 0.3333333333333333,\n",
              " 'yeah': 0.3333333333333333}"
            ]
          },
          "metadata": {
            "tags": []
          },
          "execution_count": 98
        }
      ]
    },
    {
      "cell_type": "markdown",
      "metadata": {
        "id": "_8wtJdzVfweu"
      },
      "source": [
        "### Top words in positive emergency"
      ]
    },
    {
      "cell_type": "code",
      "metadata": {
        "colab": {
          "base_uri": "https://localhost:8080/",
          "height": 754
        },
        "id": "DTdA4PX9pDVL",
        "outputId": "d91972e1-d69b-42d3-aeeb-dd4926e2965a"
      },
      "source": [
        "df_india_positive = df_india[df_india['target'] == 1]\n",
        "df_india_positive"
      ],
      "execution_count": 99,
      "outputs": [
        {
          "output_type": "execute_result",
          "data": {
            "text/html": [
              "<div>\n",
              "<style scoped>\n",
              "    .dataframe tbody tr th:only-of-type {\n",
              "        vertical-align: middle;\n",
              "    }\n",
              "\n",
              "    .dataframe tbody tr th {\n",
              "        vertical-align: top;\n",
              "    }\n",
              "\n",
              "    .dataframe thead th {\n",
              "        text-align: right;\n",
              "    }\n",
              "</style>\n",
              "<table border=\"1\" class=\"dataframe\">\n",
              "  <thead>\n",
              "    <tr style=\"text-align: right;\">\n",
              "      <th></th>\n",
              "      <th>keyword</th>\n",
              "      <th>location</th>\n",
              "      <th>text</th>\n",
              "      <th>target</th>\n",
              "      <th>length</th>\n",
              "    </tr>\n",
              "    <tr>\n",
              "      <th>id</th>\n",
              "      <th></th>\n",
              "      <th></th>\n",
              "      <th></th>\n",
              "      <th></th>\n",
              "      <th></th>\n",
              "    </tr>\n",
              "  </thead>\n",
              "  <tbody>\n",
              "    <tr>\n",
              "      <th>32</th>\n",
              "      <td>ablaze</td>\n",
              "      <td>India</td>\n",
              "      <td>how can you turn a blind eye to the icident of...</td>\n",
              "      <td>1</td>\n",
              "      <td>86</td>\n",
              "    </tr>\n",
              "    <tr>\n",
              "      <th>395</th>\n",
              "      <td>army</td>\n",
              "      <td>India</td>\n",
              "      <td>today pak army soldiers will b thanking to ind...</td>\n",
              "      <td>1</td>\n",
              "      <td>122</td>\n",
              "    </tr>\n",
              "    <tr>\n",
              "      <th>544</th>\n",
              "      <td>attack</td>\n",
              "      <td>India</td>\n",
              "      <td>मुस्लिम महिला छात्रों से गुंडागर्दीpolice atta...</td>\n",
              "      <td>1</td>\n",
              "      <td>70</td>\n",
              "    </tr>\n",
              "    <tr>\n",
              "      <th>675</th>\n",
              "      <td>avalanche</td>\n",
              "      <td>India</td>\n",
              "      <td>soldiers  civilians killed in avalanches in j...</td>\n",
              "      <td>1</td>\n",
              "      <td>64</td>\n",
              "    </tr>\n",
              "    <tr>\n",
              "      <th>677</th>\n",
              "      <td>avalanche</td>\n",
              "      <td>India</td>\n",
              "      <td>including  army soldiers one bsf constable ki...</td>\n",
              "      <td>1</td>\n",
              "      <td>86</td>\n",
              "    </tr>\n",
              "    <tr>\n",
              "      <th>1111</th>\n",
              "      <td>blizzard</td>\n",
              "      <td>India</td>\n",
              "      <td>i became lost in a himalayan blizzard at  mete...</td>\n",
              "      <td>1</td>\n",
              "      <td>74</td>\n",
              "    </tr>\n",
              "    <tr>\n",
              "      <th>1758</th>\n",
              "      <td>buildings on fire</td>\n",
              "      <td>India</td>\n",
              "      <td>sad news coming from bhainsa nirmal district t...</td>\n",
              "      <td>1</td>\n",
              "      <td>114</td>\n",
              "    </tr>\n",
              "    <tr>\n",
              "      <th>2029</th>\n",
              "      <td>casualties</td>\n",
              "      <td>India</td>\n",
              "      <td>there are reports of massive avalanches in upp...</td>\n",
              "      <td>1</td>\n",
              "      <td>121</td>\n",
              "    </tr>\n",
              "    <tr>\n",
              "      <th>2649</th>\n",
              "      <td>crash</td>\n",
              "      <td>India</td>\n",
              "      <td>weaponsyielding thieves crash getaway car leav...</td>\n",
              "      <td>1</td>\n",
              "      <td>90</td>\n",
              "    </tr>\n",
              "    <tr>\n",
              "      <th>3231</th>\n",
              "      <td>deaths</td>\n",
              "      <td>India</td>\n",
              "      <td>just started but already  people have died on...</td>\n",
              "      <td>1</td>\n",
              "      <td>109</td>\n",
              "    </tr>\n",
              "    <tr>\n",
              "      <th>4128</th>\n",
              "      <td>devastation</td>\n",
              "      <td>India</td>\n",
              "      <td>a side by side comparison of the fire devastat...</td>\n",
              "      <td>1</td>\n",
              "      <td>80</td>\n",
              "    </tr>\n",
              "    <tr>\n",
              "      <th>5621</th>\n",
              "      <td>fire truck</td>\n",
              "      <td>India</td>\n",
              "      <td>modi shahs gundas set fire to truck loaded wit...</td>\n",
              "      <td>1</td>\n",
              "      <td>119</td>\n",
              "    </tr>\n",
              "    <tr>\n",
              "      <th>6075</th>\n",
              "      <td>hail</td>\n",
              "      <td>India</td>\n",
              "      <td>isolated thunderstorm accompanied with haillig...</td>\n",
              "      <td>1</td>\n",
              "      <td>117</td>\n",
              "    </tr>\n",
              "    <tr>\n",
              "      <th>6349</th>\n",
              "      <td>heat wave</td>\n",
              "      <td>India</td>\n",
              "      <td>bihar district magistrate issued an order to c...</td>\n",
              "      <td>1</td>\n",
              "      <td>88</td>\n",
              "    </tr>\n",
              "    <tr>\n",
              "      <th>6526</th>\n",
              "      <td>hijacking</td>\n",
              "      <td>India</td>\n",
              "      <td>davindersingh ‘s arrest having been caught red...</td>\n",
              "      <td>1</td>\n",
              "      <td>124</td>\n",
              "    </tr>\n",
              "    <tr>\n",
              "      <th>6556</th>\n",
              "      <td>hijacking</td>\n",
              "      <td>India</td>\n",
              "      <td>on sunday davinder singh posted with the strat...</td>\n",
              "      <td>1</td>\n",
              "      <td>114</td>\n",
              "    </tr>\n",
              "    <tr>\n",
              "      <th>8429</th>\n",
              "      <td>razed</td>\n",
              "      <td>India</td>\n",
              "      <td>watch maradu demolition  biggest apartment com...</td>\n",
              "      <td>1</td>\n",
              "      <td>83</td>\n",
              "    </tr>\n",
              "    <tr>\n",
              "      <th>9007</th>\n",
              "      <td>screaming</td>\n",
              "      <td>India</td>\n",
              "      <td>a dsp dalvinder singh was caught with two terr...</td>\n",
              "      <td>1</td>\n",
              "      <td>104</td>\n",
              "    </tr>\n",
              "    <tr>\n",
              "      <th>9336</th>\n",
              "      <td>smoke</td>\n",
              "      <td>India</td>\n",
              "      <td>australian open player collapses on court as b...</td>\n",
              "      <td>1</td>\n",
              "      <td>85</td>\n",
              "    </tr>\n",
              "    <tr>\n",
              "      <th>10167</th>\n",
              "      <td>thunderstorm</td>\n",
              "      <td>India</td>\n",
              "      <td>isolated to scattered rainthunderstorm over pu...</td>\n",
              "      <td>1</td>\n",
              "      <td>101</td>\n",
              "    </tr>\n",
              "    <tr>\n",
              "      <th>10381</th>\n",
              "      <td>trapped</td>\n",
              "      <td>India</td>\n",
              "      <td>please pray for the safety of  soldiers who ha...</td>\n",
              "      <td>1</td>\n",
              "      <td>107</td>\n",
              "    </tr>\n",
              "    <tr>\n",
              "      <th>10387</th>\n",
              "      <td>trapped</td>\n",
              "      <td>India</td>\n",
              "      <td>out of five soldiers trapped under the avalanc...</td>\n",
              "      <td>1</td>\n",
              "      <td>107</td>\n",
              "    </tr>\n",
              "  </tbody>\n",
              "</table>\n",
              "</div>"
            ],
            "text/plain": [
              "                 keyword location  ... target  length\n",
              "id                                 ...               \n",
              "32                ablaze    India  ...      1      86\n",
              "395                 army    India  ...      1     122\n",
              "544               attack    India  ...      1      70\n",
              "675            avalanche    India  ...      1      64\n",
              "677            avalanche    India  ...      1      86\n",
              "1111            blizzard    India  ...      1      74\n",
              "1758   buildings on fire    India  ...      1     114\n",
              "2029          casualties    India  ...      1     121\n",
              "2649               crash    India  ...      1      90\n",
              "3231              deaths    India  ...      1     109\n",
              "4128         devastation    India  ...      1      80\n",
              "5621          fire truck    India  ...      1     119\n",
              "6075                hail    India  ...      1     117\n",
              "6349           heat wave    India  ...      1      88\n",
              "6526           hijacking    India  ...      1     124\n",
              "6556           hijacking    India  ...      1     114\n",
              "8429               razed    India  ...      1      83\n",
              "9007           screaming    India  ...      1     104\n",
              "9336               smoke    India  ...      1      85\n",
              "10167       thunderstorm    India  ...      1     101\n",
              "10381            trapped    India  ...      1     107\n",
              "10387            trapped    India  ...      1     107\n",
              "\n",
              "[22 rows x 5 columns]"
            ]
          },
          "metadata": {
            "tags": []
          },
          "execution_count": 99
        }
      ]
    },
    {
      "cell_type": "code",
      "metadata": {
        "colab": {
          "base_uri": "https://localhost:8080/",
          "height": 215
        },
        "id": "WNxwmbeWpWPy",
        "outputId": "d9e4d833-5cbb-4336-c38c-d227f9700f3e"
      },
      "source": [
        "stopwords = set(STOPWORDS)\n",
        "\n",
        "wordcloud = WordCloud(\n",
        "                        background_color='gray',\n",
        "                        stopwords=stopwords,\n",
        "                        max_words = 20,\n",
        "                        max_font_size = 40,\n",
        "                        random_state = 42,\n",
        "                        ).generate(str(df_india_positive['text']))\n",
        "\n",
        "print(wordcloud)\n",
        "fig = plt.figure(1)\n",
        "plt.imshow(wordcloud)\n",
        "plt.axis('off')\n",
        "plt.show()"
      ],
      "execution_count": 100,
      "outputs": [
        {
          "output_type": "stream",
          "text": [
            "<wordcloud.wordcloud.WordCloud object at 0x7f9760b0d050>\n"
          ],
          "name": "stdout"
        },
        {
          "output_type": "display_data",
          "data": {
            "image/png": "[encoded data removed]",
            "text/plain": [
              "<Figure size 432x288 with 1 Axes>"
            ]
          },
          "metadata": {
            "tags": [],
            "needs_background": "light"
          }
        }
      ]
    },
    {
      "cell_type": "code",
      "metadata": {
        "colab": {
          "base_uri": "https://localhost:8080/"
        },
        "id": "LfKFycpMpao1",
        "outputId": "dd39ec08-c0ae-4298-bc01-afb18cd2f7ea"
      },
      "source": [
        "wordcloud.words_"
      ],
      "execution_count": 101,
      "outputs": [
        {
          "output_type": "execute_result",
          "data": {
            "text/plain": [
              "{'army': 0.4,\n",
              " 'avalanches': 0.4,\n",
              " 'blind': 0.2,\n",
              " 'caught': 0.4,\n",
              " 'district': 0.4,\n",
              " 'eye': 0.2,\n",
              " 'fire': 0.4,\n",
              " 'icident': 0.2,\n",
              " 'id': 0.2,\n",
              " 'ind': 0.2,\n",
              " 'isolated': 0.4,\n",
              " 'pak': 0.2,\n",
              " 'side': 0.4,\n",
              " 'singh': 0.4,\n",
              " 'soldiers': 1.0,\n",
              " 'thanking': 0.2,\n",
              " 'today': 0.2,\n",
              " 'turn': 0.2,\n",
              " 'will': 0.2,\n",
              " 'मह': 0.2}"
            ]
          },
          "metadata": {
            "tags": []
          },
          "execution_count": 101
        }
      ]
    },
    {
      "cell_type": "markdown",
      "metadata": {
        "id": "2VLmfrj5hFNQ"
      },
      "source": [
        "### Top words in negative emergency"
      ]
    },
    {
      "cell_type": "code",
      "metadata": {
        "colab": {
          "base_uri": "https://localhost:8080/",
          "height": 445
        },
        "id": "WMf-QNmepcnN",
        "outputId": "12732b00-d2a2-4d3e-d874-d169363aaa65"
      },
      "source": [
        "df_india_negative = df_india[df_india['target'] == 0]\n",
        "df_india_negative"
      ],
      "execution_count": 102,
      "outputs": [
        {
          "output_type": "execute_result",
          "data": {
            "text/html": [
              "<div>\n",
              "<style scoped>\n",
              "    .dataframe tbody tr th:only-of-type {\n",
              "        vertical-align: middle;\n",
              "    }\n",
              "\n",
              "    .dataframe tbody tr th {\n",
              "        vertical-align: top;\n",
              "    }\n",
              "\n",
              "    .dataframe thead th {\n",
              "        text-align: right;\n",
              "    }\n",
              "</style>\n",
              "<table border=\"1\" class=\"dataframe\">\n",
              "  <thead>\n",
              "    <tr style=\"text-align: right;\">\n",
              "      <th></th>\n",
              "      <th>keyword</th>\n",
              "      <th>location</th>\n",
              "      <th>text</th>\n",
              "      <th>target</th>\n",
              "      <th>length</th>\n",
              "    </tr>\n",
              "    <tr>\n",
              "      <th>id</th>\n",
              "      <th></th>\n",
              "      <th></th>\n",
              "      <th></th>\n",
              "      <th></th>\n",
              "      <th></th>\n",
              "    </tr>\n",
              "  </thead>\n",
              "  <tbody>\n",
              "    <tr>\n",
              "      <th>317</th>\n",
              "      <td>annihilation</td>\n",
              "      <td>India</td>\n",
              "      <td>yeah i was surprised too when i heard it first...</td>\n",
              "      <td>0</td>\n",
              "      <td>91</td>\n",
              "    </tr>\n",
              "    <tr>\n",
              "      <th>318</th>\n",
              "      <td>annihilation</td>\n",
              "      <td>India</td>\n",
              "      <td>you dont understand systemic oppression that t...</td>\n",
              "      <td>0</td>\n",
              "      <td>92</td>\n",
              "    </tr>\n",
              "    <tr>\n",
              "      <th>391</th>\n",
              "      <td>army</td>\n",
              "      <td>India</td>\n",
              "      <td>the story that caught my eye the davinder sing...</td>\n",
              "      <td>0</td>\n",
              "      <td>116</td>\n",
              "    </tr>\n",
              "    <tr>\n",
              "      <th>559</th>\n",
              "      <td>attack</td>\n",
              "      <td>India</td>\n",
              "      <td>trolls launch mala fide campaign against india...</td>\n",
              "      <td>0</td>\n",
              "      <td>111</td>\n",
              "    </tr>\n",
              "    <tr>\n",
              "      <th>583</th>\n",
              "      <td>attack</td>\n",
              "      <td>India</td>\n",
              "      <td>‘yehi hai wo sanghi ka room’ bachelors student...</td>\n",
              "      <td>0</td>\n",
              "      <td>101</td>\n",
              "    </tr>\n",
              "    <tr>\n",
              "      <th>...</th>\n",
              "      <td>...</td>\n",
              "      <td>...</td>\n",
              "      <td>...</td>\n",
              "      <td>...</td>\n",
              "      <td>...</td>\n",
              "    </tr>\n",
              "    <tr>\n",
              "      <th>10265</th>\n",
              "      <td>tornado</td>\n",
              "      <td>India</td>\n",
              "      <td>this chart gives an indication of just how bus...</td>\n",
              "      <td>0</td>\n",
              "      <td>107</td>\n",
              "    </tr>\n",
              "    <tr>\n",
              "      <th>10363</th>\n",
              "      <td>trapped</td>\n",
              "      <td>India</td>\n",
              "      <td>would request all consumers not to be trapped ...</td>\n",
              "      <td>0</td>\n",
              "      <td>77</td>\n",
              "    </tr>\n",
              "    <tr>\n",
              "      <th>10365</th>\n",
              "      <td>trapped</td>\n",
              "      <td>India</td>\n",
              "      <td>would request all consumers not to be trapped ...</td>\n",
              "      <td>0</td>\n",
              "      <td>72</td>\n",
              "    </tr>\n",
              "    <tr>\n",
              "      <th>10477</th>\n",
              "      <td>traumatised</td>\n",
              "      <td>India</td>\n",
              "      <td>why is let off  his lies hv traumatised the fa...</td>\n",
              "      <td>0</td>\n",
              "      <td>67</td>\n",
              "    </tr>\n",
              "    <tr>\n",
              "      <th>10622</th>\n",
              "      <td>typhoon</td>\n",
              "      <td>India</td>\n",
              "      <td>finland hxchallenge typhoon finnish air force...</td>\n",
              "      <td>0</td>\n",
              "      <td>66</td>\n",
              "    </tr>\n",
              "  </tbody>\n",
              "</table>\n",
              "<p>79 rows × 5 columns</p>\n",
              "</div>"
            ],
            "text/plain": [
              "            keyword location  ... target  length\n",
              "id                            ...               \n",
              "317    annihilation    India  ...      0      91\n",
              "318    annihilation    India  ...      0      92\n",
              "391            army    India  ...      0     116\n",
              "559          attack    India  ...      0     111\n",
              "583          attack    India  ...      0     101\n",
              "...             ...      ...  ...    ...     ...\n",
              "10265       tornado    India  ...      0     107\n",
              "10363       trapped    India  ...      0      77\n",
              "10365       trapped    India  ...      0      72\n",
              "10477   traumatised    India  ...      0      67\n",
              "10622       typhoon    India  ...      0      66\n",
              "\n",
              "[79 rows x 5 columns]"
            ]
          },
          "metadata": {
            "tags": []
          },
          "execution_count": 102
        }
      ]
    },
    {
      "cell_type": "code",
      "metadata": {
        "colab": {
          "base_uri": "https://localhost:8080/",
          "height": 215
        },
        "id": "hU8t2opVqOKl",
        "outputId": "b91d7f11-be3c-46b5-cb20-a5a564b73428"
      },
      "source": [
        "stopwords = set(STOPWORDS)\n",
        "\n",
        "wordcloud = WordCloud(\n",
        "                        background_color='gray',\n",
        "                        stopwords=stopwords,\n",
        "                        max_words = 20,\n",
        "                        max_font_size = 40,\n",
        "                        random_state = 42,\n",
        "                        ).generate(str(df_india_negative['text']))\n",
        "\n",
        "print(wordcloud)\n",
        "fig = plt.figure(1)\n",
        "plt.imshow(wordcloud)\n",
        "plt.axis('off')\n",
        "plt.show()"
      ],
      "execution_count": 103,
      "outputs": [
        {
          "output_type": "stream",
          "text": [
            "<wordcloud.wordcloud.WordCloud object at 0x7f9760adb0d0>\n"
          ],
          "name": "stdout"
        },
        {
          "output_type": "display_data",
          "data": {
            "image/png": "[encoded data removed]",
            "text/plain": [
              "<Figure size 432x288 with 1 Axes>"
            ]
          },
          "metadata": {
            "tags": [],
            "needs_background": "light"
          }
        }
      ]
    },
    {
      "cell_type": "code",
      "metadata": {
        "colab": {
          "base_uri": "https://localhost:8080/"
        },
        "id": "EJA9YvF-qROL",
        "outputId": "858549ed-9e88-48d7-a261-4aa63f254583"
      },
      "source": [
        "wordcloud.words_"
      ],
      "execution_count": 104,
      "outputs": [
        {
          "output_type": "execute_result",
          "data": {
            "text/plain": [
              "{'caught': 0.5,\n",
              " 'consumers': 1.0,\n",
              " 'davinder': 0.5,\n",
              " 'dont': 0.5,\n",
              " 'eye': 0.5,\n",
              " 'first': 0.5,\n",
              " 'heard': 0.5,\n",
              " 'id': 0.5,\n",
              " 'launch': 0.5,\n",
              " 'mala': 0.5,\n",
              " 'oppression': 0.5,\n",
              " 'request': 1.0,\n",
              " 'sing': 0.5,\n",
              " 'story': 0.5,\n",
              " 'surprised': 0.5,\n",
              " 'systemic': 0.5,\n",
              " 'trapped': 1.0,\n",
              " 'trolls': 0.5,\n",
              " 'understand': 0.5,\n",
              " 'yeah': 0.5}"
            ]
          },
          "metadata": {
            "tags": []
          },
          "execution_count": 104
        }
      ]
    },
    {
      "cell_type": "code",
      "metadata": {
        "id": "o9uLtHugqUrC"
      },
      "source": [
        ""
      ],
      "execution_count": null,
      "outputs": []
    }
  ]
}